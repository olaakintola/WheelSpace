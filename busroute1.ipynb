{
  "nbformat": 4,
  "nbformat_minor": 0,
  "metadata": {
    "colab": {
      "name": "busroute1.ipynb",
      "provenance": [],
      "authorship_tag": "ABX9TyOEPRk9B08yfWbp0boYo87W",
      "include_colab_link": true
    },
    "kernelspec": {
      "name": "python3",
      "display_name": "Python 3"
    },
    "language_info": {
      "name": "python"
    }
  },
  "cells": [
    {
      "cell_type": "markdown",
      "metadata": {
        "id": "view-in-github",
        "colab_type": "text"
      },
      "source": [
        "<a href=\"https://colab.research.google.com/github/olaakintola/WheelSpace/blob/main/busroute1.ipynb\" target=\"_parent\"><img src=\"https://colab.research.google.com/assets/colab-badge.svg\" alt=\"Open In Colab\"/></a>"
      ]
    },
    {
      "cell_type": "code",
      "metadata": {
        "id": "wmLNty6G2HbZ"
      },
      "source": [
        "#ROUTE 1 MACHINE LEARNING MODEL, CHRONOLOGICALLY, SMOTE TECHNIQUE, SPLIT DATA BEFORE READING INTO CODELAB\n",
        "\n",
        "# The machine learning model was created pulling out just a single bus route instead of the entire bus routes. \n",
        "# The data were split into training and test dataset chronologically before being read into colab. SMOTE\n",
        "# sampling technique was used to improve the imbalanced classification. Random Forest classifier was used here.\n",
        "\n",
        "# Oversampling and Undersampling were also explored\n",
        "\n",
        "!pip install -q sklearn"
      ],
      "execution_count": 1,
      "outputs": []
    },
    {
      "cell_type": "code",
      "metadata": {
        "id": "GAODIccS2kUE"
      },
      "source": [
        "%tensorflow_version 2.x"
      ],
      "execution_count": 2,
      "outputs": []
    },
    {
      "cell_type": "code",
      "metadata": {
        "colab": {
          "base_uri": "https://localhost:8080/"
        },
        "id": "4WOqQNg32kQN",
        "outputId": "e27872e1-73f4-457f-fcf6-948645632531"
      },
      "source": [
        "from __future__ import absolute_import, division, print_function,unicode_literals\n",
        "\n",
        "import numpy as np\n",
        "import pandas as pd\n",
        "import matplotlib.pyplot as plt\n",
        "from IPython.display import clear_output\n",
        "from six.moves import urllib\n",
        "\n",
        "import tensorflow.compat.v2.feature_column as fc\n",
        "\n",
        "import tensorflow as tf\n",
        "\n",
        "from google.colab import drive\n",
        "drive.mount('/content/drive')"
      ],
      "execution_count": 3,
      "outputs": [
        {
          "output_type": "stream",
          "text": [
            "Mounted at /content/drive\n"
          ],
          "name": "stdout"
        }
      ]
    },
    {
      "cell_type": "code",
      "metadata": {
        "id": "2bo3sstv2kMD"
      },
      "source": [
        "training_df = pd.read_csv(\"/content/drive/My Drive/Colab Notebooks/trainingbusdata.csv\")\n",
        "testing_df = pd.read_csv(\"/content/drive/My Drive/Colab Notebooks/testingbusdata.csv\")"
      ],
      "execution_count": 4,
      "outputs": []
    },
    {
      "cell_type": "code",
      "metadata": {
        "colab": {
          "base_uri": "https://localhost:8080/"
        },
        "id": "bwDwGWgj2kI7",
        "outputId": "17063847-3f8e-4bce-82e5-0d5dff2f28eb"
      },
      "source": [
        "training_df[\"occupancy\"]"
      ],
      "execution_count": 5,
      "outputs": [
        {
          "output_type": "execute_result",
          "data": {
            "text/plain": [
              "0       0.0\n",
              "1       0.0\n",
              "2       0.0\n",
              "3       0.0\n",
              "4       1.0\n",
              "       ... \n",
              "1076    1.0\n",
              "1077    0.0\n",
              "1078    0.0\n",
              "1079    0.0\n",
              "1080    NaN\n",
              "Name: occupancy, Length: 1081, dtype: float64"
            ]
          },
          "metadata": {
            "tags": []
          },
          "execution_count": 5
        }
      ]
    },
    {
      "cell_type": "code",
      "metadata": {
        "colab": {
          "base_uri": "https://localhost:8080/"
        },
        "id": "-W5NANBO2kFb",
        "outputId": "d796698f-4b44-4ee6-c3ae-f7a5eb672704"
      },
      "source": [
        "testing_df[\"occupancy\"]"
      ],
      "execution_count": 6,
      "outputs": [
        {
          "output_type": "execute_result",
          "data": {
            "text/plain": [
              "0      0.0\n",
              "1      0.0\n",
              "2      0.0\n",
              "3      0.0\n",
              "4      0.0\n",
              "      ... \n",
              "356    0.0\n",
              "357    0.0\n",
              "358    0.0\n",
              "359    0.0\n",
              "360    NaN\n",
              "Name: occupancy, Length: 361, dtype: float64"
            ]
          },
          "metadata": {
            "tags": []
          },
          "execution_count": 6
        }
      ]
    },
    {
      "cell_type": "code",
      "metadata": {
        "id": "OBnbzc0w2kBo"
      },
      "source": [
        "training_df[\"occupancy\"] = training_df[\"occupancy\"].fillna(0).astype(int)"
      ],
      "execution_count": 7,
      "outputs": []
    },
    {
      "cell_type": "code",
      "metadata": {
        "id": "K6DucOQq2j-h"
      },
      "source": [
        "testing_df[\"occupancy\"] = testing_df[\"occupancy\"].fillna(0).astype(int)"
      ],
      "execution_count": 8,
      "outputs": []
    },
    {
      "cell_type": "code",
      "metadata": {
        "colab": {
          "base_uri": "https://localhost:8080/"
        },
        "id": "-BD4O-gP2j7U",
        "outputId": "2b62a8d8-8ab7-4a05-d286-95f85cc071c0"
      },
      "source": [
        "training_df[\"occupancy\"]"
      ],
      "execution_count": 9,
      "outputs": [
        {
          "output_type": "execute_result",
          "data": {
            "text/plain": [
              "0       0\n",
              "1       0\n",
              "2       0\n",
              "3       0\n",
              "4       1\n",
              "       ..\n",
              "1076    1\n",
              "1077    0\n",
              "1078    0\n",
              "1079    0\n",
              "1080    0\n",
              "Name: occupancy, Length: 1081, dtype: int64"
            ]
          },
          "metadata": {
            "tags": []
          },
          "execution_count": 9
        }
      ]
    },
    {
      "cell_type": "code",
      "metadata": {
        "colab": {
          "base_uri": "https://localhost:8080/"
        },
        "id": "sJ2SGaU22j5A",
        "outputId": "beb4aa9c-7f30-4691-ed18-613d2def9d6f"
      },
      "source": [
        "testing_df[\"occupancy\"]"
      ],
      "execution_count": 10,
      "outputs": [
        {
          "output_type": "execute_result",
          "data": {
            "text/plain": [
              "0      0\n",
              "1      0\n",
              "2      0\n",
              "3      0\n",
              "4      0\n",
              "      ..\n",
              "356    0\n",
              "357    0\n",
              "358    0\n",
              "359    0\n",
              "360    0\n",
              "Name: occupancy, Length: 361, dtype: int64"
            ]
          },
          "metadata": {
            "tags": []
          },
          "execution_count": 10
        }
      ]
    },
    {
      "cell_type": "code",
      "metadata": {
        "colab": {
          "base_uri": "https://localhost:8080/"
        },
        "id": "bj8wLMx92j1u",
        "outputId": "ac8bc125-115c-42f4-d5b1-58f3e9702f3d"
      },
      "source": [
        "training_df.shape"
      ],
      "execution_count": 11,
      "outputs": [
        {
          "output_type": "execute_result",
          "data": {
            "text/plain": [
              "(1081, 6)"
            ]
          },
          "metadata": {
            "tags": []
          },
          "execution_count": 11
        }
      ]
    },
    {
      "cell_type": "code",
      "metadata": {
        "colab": {
          "base_uri": "https://localhost:8080/"
        },
        "id": "YS3qT1x32jy6",
        "outputId": "6b1aaab1-3f8f-4090-e006-0ba30c2b5c81"
      },
      "source": [
        "testing_df.shape"
      ],
      "execution_count": 12,
      "outputs": [
        {
          "output_type": "execute_result",
          "data": {
            "text/plain": [
              "(361, 6)"
            ]
          },
          "metadata": {
            "tags": []
          },
          "execution_count": 12
        }
      ]
    },
    {
      "cell_type": "code",
      "metadata": {
        "colab": {
          "base_uri": "https://localhost:8080/"
        },
        "id": "sKObFnda2jv8",
        "outputId": "747beb73-b495-4328-d7b5-d8600709a97a"
      },
      "source": [
        "training_df.columns"
      ],
      "execution_count": 13,
      "outputs": [
        {
          "output_type": "execute_result",
          "data": {
            "text/plain": [
              "Index(['route', 'times', 'days', 'occupancy', 'departure', 'destination'], dtype='object')"
            ]
          },
          "metadata": {
            "tags": []
          },
          "execution_count": 13
        }
      ]
    },
    {
      "cell_type": "code",
      "metadata": {
        "colab": {
          "base_uri": "https://localhost:8080/"
        },
        "id": "b6qNREqm2jtE",
        "outputId": "6dab6260-bda9-4232-95fd-d5105c05d9b2"
      },
      "source": [
        "testing_df.columns"
      ],
      "execution_count": 14,
      "outputs": [
        {
          "output_type": "execute_result",
          "data": {
            "text/plain": [
              "Index(['route', 'times', 'days', 'occupancy', 'departure', 'destination'], dtype='object')"
            ]
          },
          "metadata": {
            "tags": []
          },
          "execution_count": 14
        }
      ]
    },
    {
      "cell_type": "code",
      "metadata": {
        "colab": {
          "base_uri": "https://localhost:8080/",
          "height": 204
        },
        "id": "FM-A6q0Y2jqM",
        "outputId": "536517ab-fd29-4c40-8d48-cf5c2c05e0ac"
      },
      "source": [
        "training_df.sample(5)"
      ],
      "execution_count": 15,
      "outputs": [
        {
          "output_type": "execute_result",
          "data": {
            "text/html": [
              "<div>\n",
              "<style scoped>\n",
              "    .dataframe tbody tr th:only-of-type {\n",
              "        vertical-align: middle;\n",
              "    }\n",
              "\n",
              "    .dataframe tbody tr th {\n",
              "        vertical-align: top;\n",
              "    }\n",
              "\n",
              "    .dataframe thead th {\n",
              "        text-align: right;\n",
              "    }\n",
              "</style>\n",
              "<table border=\"1\" class=\"dataframe\">\n",
              "  <thead>\n",
              "    <tr style=\"text-align: right;\">\n",
              "      <th></th>\n",
              "      <th>route</th>\n",
              "      <th>times</th>\n",
              "      <th>days</th>\n",
              "      <th>occupancy</th>\n",
              "      <th>departure</th>\n",
              "      <th>destination</th>\n",
              "    </tr>\n",
              "  </thead>\n",
              "  <tbody>\n",
              "    <tr>\n",
              "      <th>502</th>\n",
              "      <td>1</td>\n",
              "      <td>17:00</td>\n",
              "      <td>tues</td>\n",
              "      <td>0</td>\n",
              "      <td>NaN</td>\n",
              "      <td>NaN</td>\n",
              "    </tr>\n",
              "    <tr>\n",
              "      <th>14</th>\n",
              "      <td>1</td>\n",
              "      <td>09:00</td>\n",
              "      <td>tues</td>\n",
              "      <td>0</td>\n",
              "      <td>NaN</td>\n",
              "      <td>NaN</td>\n",
              "    </tr>\n",
              "    <tr>\n",
              "      <th>985</th>\n",
              "      <td>1</td>\n",
              "      <td>08:00</td>\n",
              "      <td>wed</td>\n",
              "      <td>0</td>\n",
              "      <td>NaN</td>\n",
              "      <td>NaN</td>\n",
              "    </tr>\n",
              "    <tr>\n",
              "      <th>688</th>\n",
              "      <td>1</td>\n",
              "      <td>11:00</td>\n",
              "      <td>wed</td>\n",
              "      <td>0</td>\n",
              "      <td>NaN</td>\n",
              "      <td>NaN</td>\n",
              "    </tr>\n",
              "    <tr>\n",
              "      <th>1027</th>\n",
              "      <td>1</td>\n",
              "      <td>14:00</td>\n",
              "      <td>mon</td>\n",
              "      <td>0</td>\n",
              "      <td>NaN</td>\n",
              "      <td>NaN</td>\n",
              "    </tr>\n",
              "  </tbody>\n",
              "</table>\n",
              "</div>"
            ],
            "text/plain": [
              "     route  times  days  occupancy departure destination\n",
              "502      1  17:00  tues          0       NaN         NaN\n",
              "14       1  09:00  tues          0       NaN         NaN\n",
              "985      1  08:00   wed          0       NaN         NaN\n",
              "688      1  11:00   wed          0       NaN         NaN\n",
              "1027     1  14:00   mon          0       NaN         NaN"
            ]
          },
          "metadata": {
            "tags": []
          },
          "execution_count": 15
        }
      ]
    },
    {
      "cell_type": "code",
      "metadata": {
        "colab": {
          "base_uri": "https://localhost:8080/",
          "height": 204
        },
        "id": "-SWYycgz2jnP",
        "outputId": "22fd9bae-8a12-4bf6-8266-a044eb209fc3"
      },
      "source": [
        "testing_df.sample(5)"
      ],
      "execution_count": 16,
      "outputs": [
        {
          "output_type": "execute_result",
          "data": {
            "text/html": [
              "<div>\n",
              "<style scoped>\n",
              "    .dataframe tbody tr th:only-of-type {\n",
              "        vertical-align: middle;\n",
              "    }\n",
              "\n",
              "    .dataframe tbody tr th {\n",
              "        vertical-align: top;\n",
              "    }\n",
              "\n",
              "    .dataframe thead th {\n",
              "        text-align: right;\n",
              "    }\n",
              "</style>\n",
              "<table border=\"1\" class=\"dataframe\">\n",
              "  <thead>\n",
              "    <tr style=\"text-align: right;\">\n",
              "      <th></th>\n",
              "      <th>route</th>\n",
              "      <th>times</th>\n",
              "      <th>days</th>\n",
              "      <th>occupancy</th>\n",
              "      <th>departure</th>\n",
              "      <th>destination</th>\n",
              "    </tr>\n",
              "  </thead>\n",
              "  <tbody>\n",
              "    <tr>\n",
              "      <th>258</th>\n",
              "      <td>1</td>\n",
              "      <td>13:00</td>\n",
              "      <td>tues</td>\n",
              "      <td>0</td>\n",
              "      <td>NaN</td>\n",
              "      <td>NaN</td>\n",
              "    </tr>\n",
              "    <tr>\n",
              "      <th>303</th>\n",
              "      <td>1</td>\n",
              "      <td>10:00</td>\n",
              "      <td>mon</td>\n",
              "      <td>0</td>\n",
              "      <td>NaN</td>\n",
              "      <td>NaN</td>\n",
              "    </tr>\n",
              "    <tr>\n",
              "      <th>130</th>\n",
              "      <td>1</td>\n",
              "      <td>17:00</td>\n",
              "      <td>mon</td>\n",
              "      <td>0</td>\n",
              "      <td>NaN</td>\n",
              "      <td>NaN</td>\n",
              "    </tr>\n",
              "    <tr>\n",
              "      <th>15</th>\n",
              "      <td>1</td>\n",
              "      <td>10:00</td>\n",
              "      <td>tues</td>\n",
              "      <td>0</td>\n",
              "      <td>NaN</td>\n",
              "      <td>NaN</td>\n",
              "    </tr>\n",
              "    <tr>\n",
              "      <th>341</th>\n",
              "      <td>1</td>\n",
              "      <td>12:00</td>\n",
              "      <td>thurs</td>\n",
              "      <td>0</td>\n",
              "      <td>NaN</td>\n",
              "      <td>NaN</td>\n",
              "    </tr>\n",
              "  </tbody>\n",
              "</table>\n",
              "</div>"
            ],
            "text/plain": [
              "    route  times   days  occupancy departure destination\n",
              "258     1  13:00   tues          0       NaN         NaN\n",
              "303     1  10:00    mon          0       NaN         NaN\n",
              "130     1  17:00    mon          0       NaN         NaN\n",
              "15      1  10:00   tues          0       NaN         NaN\n",
              "341     1  12:00  thurs          0       NaN         NaN"
            ]
          },
          "metadata": {
            "tags": []
          },
          "execution_count": 16
        }
      ]
    },
    {
      "cell_type": "code",
      "metadata": {
        "id": "ud9ohCAl2jkK"
      },
      "source": [
        "training_df.fillna('', inplace=True)"
      ],
      "execution_count": 17,
      "outputs": []
    },
    {
      "cell_type": "code",
      "metadata": {
        "id": "qjOC-Its2jhB"
      },
      "source": [
        "testing_df.fillna('', inplace=True)"
      ],
      "execution_count": 18,
      "outputs": []
    },
    {
      "cell_type": "code",
      "metadata": {
        "colab": {
          "base_uri": "https://localhost:8080/",
          "height": 204
        },
        "id": "OhT6AYMF2jeR",
        "outputId": "f5863b26-b43b-4e39-e278-87d7ea6af7b9"
      },
      "source": [
        "testing_df.sample(5)"
      ],
      "execution_count": 19,
      "outputs": [
        {
          "output_type": "execute_result",
          "data": {
            "text/html": [
              "<div>\n",
              "<style scoped>\n",
              "    .dataframe tbody tr th:only-of-type {\n",
              "        vertical-align: middle;\n",
              "    }\n",
              "\n",
              "    .dataframe tbody tr th {\n",
              "        vertical-align: top;\n",
              "    }\n",
              "\n",
              "    .dataframe thead th {\n",
              "        text-align: right;\n",
              "    }\n",
              "</style>\n",
              "<table border=\"1\" class=\"dataframe\">\n",
              "  <thead>\n",
              "    <tr style=\"text-align: right;\">\n",
              "      <th></th>\n",
              "      <th>route</th>\n",
              "      <th>times</th>\n",
              "      <th>days</th>\n",
              "      <th>occupancy</th>\n",
              "      <th>departure</th>\n",
              "      <th>destination</th>\n",
              "    </tr>\n",
              "  </thead>\n",
              "  <tbody>\n",
              "    <tr>\n",
              "      <th>54</th>\n",
              "      <td>1</td>\n",
              "      <td>13:00</td>\n",
              "      <td>fri</td>\n",
              "      <td>0</td>\n",
              "      <td></td>\n",
              "      <td></td>\n",
              "    </tr>\n",
              "    <tr>\n",
              "      <th>324</th>\n",
              "      <td>1</td>\n",
              "      <td>07:00</td>\n",
              "      <td>wed</td>\n",
              "      <td>0</td>\n",
              "      <td></td>\n",
              "      <td></td>\n",
              "    </tr>\n",
              "    <tr>\n",
              "      <th>275</th>\n",
              "      <td>1</td>\n",
              "      <td>18:00</td>\n",
              "      <td>wed</td>\n",
              "      <td>0</td>\n",
              "      <td></td>\n",
              "      <td></td>\n",
              "    </tr>\n",
              "    <tr>\n",
              "      <th>286</th>\n",
              "      <td>1</td>\n",
              "      <td>17:00</td>\n",
              "      <td>thurs</td>\n",
              "      <td>0</td>\n",
              "      <td></td>\n",
              "      <td></td>\n",
              "    </tr>\n",
              "    <tr>\n",
              "      <th>141</th>\n",
              "      <td>1</td>\n",
              "      <td>16:00</td>\n",
              "      <td>tues</td>\n",
              "      <td>0</td>\n",
              "      <td></td>\n",
              "      <td></td>\n",
              "    </tr>\n",
              "  </tbody>\n",
              "</table>\n",
              "</div>"
            ],
            "text/plain": [
              "    route  times   days  occupancy departure destination\n",
              "54      1  13:00    fri          0                      \n",
              "324     1  07:00    wed          0                      \n",
              "275     1  18:00    wed          0                      \n",
              "286     1  17:00  thurs          0                      \n",
              "141     1  16:00   tues          0                      "
            ]
          },
          "metadata": {
            "tags": []
          },
          "execution_count": 19
        }
      ]
    },
    {
      "cell_type": "code",
      "metadata": {
        "colab": {
          "base_uri": "https://localhost:8080/",
          "height": 204
        },
        "id": "oVGoErlC3nLD",
        "outputId": "b550dced-884f-4b5c-c1f6-d58d4c318e01"
      },
      "source": [
        "training_df.sample(5)"
      ],
      "execution_count": 20,
      "outputs": [
        {
          "output_type": "execute_result",
          "data": {
            "text/html": [
              "<div>\n",
              "<style scoped>\n",
              "    .dataframe tbody tr th:only-of-type {\n",
              "        vertical-align: middle;\n",
              "    }\n",
              "\n",
              "    .dataframe tbody tr th {\n",
              "        vertical-align: top;\n",
              "    }\n",
              "\n",
              "    .dataframe thead th {\n",
              "        text-align: right;\n",
              "    }\n",
              "</style>\n",
              "<table border=\"1\" class=\"dataframe\">\n",
              "  <thead>\n",
              "    <tr style=\"text-align: right;\">\n",
              "      <th></th>\n",
              "      <th>route</th>\n",
              "      <th>times</th>\n",
              "      <th>days</th>\n",
              "      <th>occupancy</th>\n",
              "      <th>departure</th>\n",
              "      <th>destination</th>\n",
              "    </tr>\n",
              "  </thead>\n",
              "  <tbody>\n",
              "    <tr>\n",
              "      <th>455</th>\n",
              "      <td>1</td>\n",
              "      <td>18:00</td>\n",
              "      <td>wed</td>\n",
              "      <td>0</td>\n",
              "      <td></td>\n",
              "      <td></td>\n",
              "    </tr>\n",
              "    <tr>\n",
              "      <th>622</th>\n",
              "      <td>1</td>\n",
              "      <td>17:00</td>\n",
              "      <td>tues</td>\n",
              "      <td>0</td>\n",
              "      <td></td>\n",
              "      <td></td>\n",
              "    </tr>\n",
              "    <tr>\n",
              "      <th>706</th>\n",
              "      <td>1</td>\n",
              "      <td>17:00</td>\n",
              "      <td>thurs</td>\n",
              "      <td>0</td>\n",
              "      <td></td>\n",
              "      <td></td>\n",
              "    </tr>\n",
              "    <tr>\n",
              "      <th>894</th>\n",
              "      <td>1</td>\n",
              "      <td>13:00</td>\n",
              "      <td>fri</td>\n",
              "      <td>0</td>\n",
              "      <td></td>\n",
              "      <td></td>\n",
              "    </tr>\n",
              "    <tr>\n",
              "      <th>518</th>\n",
              "      <td>1</td>\n",
              "      <td>09:00</td>\n",
              "      <td>thurs</td>\n",
              "      <td>0</td>\n",
              "      <td></td>\n",
              "      <td></td>\n",
              "    </tr>\n",
              "  </tbody>\n",
              "</table>\n",
              "</div>"
            ],
            "text/plain": [
              "    route  times   days  occupancy departure destination\n",
              "455     1  18:00    wed          0                      \n",
              "622     1  17:00   tues          0                      \n",
              "706     1  17:00  thurs          0                      \n",
              "894     1  13:00    fri          0                      \n",
              "518     1  09:00  thurs          0                      "
            ]
          },
          "metadata": {
            "tags": []
          },
          "execution_count": 20
        }
      ]
    },
    {
      "cell_type": "code",
      "metadata": {
        "colab": {
          "base_uri": "https://localhost:8080/",
          "height": 1000
        },
        "id": "o-tKesOn3nFZ",
        "outputId": "0954c97e-b65e-4dfe-cc9b-9fc262d36fda"
      },
      "source": [
        "training_df[training_df.occupancy==1]"
      ],
      "execution_count": 21,
      "outputs": [
        {
          "output_type": "execute_result",
          "data": {
            "text/html": [
              "<div>\n",
              "<style scoped>\n",
              "    .dataframe tbody tr th:only-of-type {\n",
              "        vertical-align: middle;\n",
              "    }\n",
              "\n",
              "    .dataframe tbody tr th {\n",
              "        vertical-align: top;\n",
              "    }\n",
              "\n",
              "    .dataframe thead th {\n",
              "        text-align: right;\n",
              "    }\n",
              "</style>\n",
              "<table border=\"1\" class=\"dataframe\">\n",
              "  <thead>\n",
              "    <tr style=\"text-align: right;\">\n",
              "      <th></th>\n",
              "      <th>route</th>\n",
              "      <th>times</th>\n",
              "      <th>days</th>\n",
              "      <th>occupancy</th>\n",
              "      <th>departure</th>\n",
              "      <th>destination</th>\n",
              "    </tr>\n",
              "  </thead>\n",
              "  <tbody>\n",
              "    <tr>\n",
              "      <th>4</th>\n",
              "      <td>1</td>\n",
              "      <td>11:00</td>\n",
              "      <td>mon</td>\n",
              "      <td>1</td>\n",
              "      <td>\"Westmoreland Street, stop 319\"</td>\n",
              "      <td>\"The Village, stop 119\"</td>\n",
              "    </tr>\n",
              "    <tr>\n",
              "      <th>6</th>\n",
              "      <td>1</td>\n",
              "      <td>13:00</td>\n",
              "      <td>mon</td>\n",
              "      <td>1</td>\n",
              "      <td>\"DCU St Patrick's, stop 21\"</td>\n",
              "      <td>\"Temple Street, stop 51\"</td>\n",
              "    </tr>\n",
              "    <tr>\n",
              "      <th>20</th>\n",
              "      <td>1</td>\n",
              "      <td>15:00</td>\n",
              "      <td>tues</td>\n",
              "      <td>1</td>\n",
              "      <td>\"Whitehall College, stop 203\"</td>\n",
              "      <td>\"Wellpark Avenue, stop 85\"</td>\n",
              "    </tr>\n",
              "    <tr>\n",
              "      <th>32</th>\n",
              "      <td>1</td>\n",
              "      <td>15:00</td>\n",
              "      <td>wed</td>\n",
              "      <td>1</td>\n",
              "      <td>\"Whitehall Church, stop 1620\"</td>\n",
              "      <td>\"Westmoreland Street, stop 319\"</td>\n",
              "    </tr>\n",
              "    <tr>\n",
              "      <th>66</th>\n",
              "      <td>1</td>\n",
              "      <td>13:00</td>\n",
              "      <td>mon</td>\n",
              "      <td>1</td>\n",
              "      <td>\"Sandymount, stop 387\"</td>\n",
              "      <td>\"Ringsend Road, stop 395\"</td>\n",
              "    </tr>\n",
              "    <tr>\n",
              "      <th>125</th>\n",
              "      <td>1</td>\n",
              "      <td>12:00</td>\n",
              "      <td>mon</td>\n",
              "      <td>1</td>\n",
              "      <td>\"Oldtown Road, stop 229\"</td>\n",
              "      <td>\"St Patrick's College, stop 7603\"</td>\n",
              "    </tr>\n",
              "    <tr>\n",
              "      <th>138</th>\n",
              "      <td>1</td>\n",
              "      <td>13:00</td>\n",
              "      <td>tues</td>\n",
              "      <td>1</td>\n",
              "      <td>\"Whitehall College, stop 203\"</td>\n",
              "      <td>\"Irishtown Road, stop 357\"</td>\n",
              "    </tr>\n",
              "    <tr>\n",
              "      <th>151</th>\n",
              "      <td>1</td>\n",
              "      <td>14:00</td>\n",
              "      <td>wed</td>\n",
              "      <td>1</td>\n",
              "      <td>\"Whitehall Church, stop 1620\"</td>\n",
              "      <td>\"Dargle Road, stop 18\"</td>\n",
              "    </tr>\n",
              "    <tr>\n",
              "      <th>161</th>\n",
              "      <td>1</td>\n",
              "      <td>12:00</td>\n",
              "      <td>thurs</td>\n",
              "      <td>1</td>\n",
              "      <td>\"Shanard Road, stop 224\"</td>\n",
              "      <td>\"Sandymount, stop 387\"</td>\n",
              "    </tr>\n",
              "    <tr>\n",
              "      <th>166</th>\n",
              "      <td>1</td>\n",
              "      <td>17:00</td>\n",
              "      <td>thurs</td>\n",
              "      <td>1</td>\n",
              "      <td>\"Pearse Square, stop 352\"</td>\n",
              "      <td>\"Townsend Street, stop 340\"</td>\n",
              "    </tr>\n",
              "    <tr>\n",
              "      <th>245</th>\n",
              "      <td>1</td>\n",
              "      <td>12:00</td>\n",
              "      <td>mon</td>\n",
              "      <td>1</td>\n",
              "      <td>\"Parnell Square East, stop 265\"</td>\n",
              "      <td>\"Shanliss Road, stop 228\"</td>\n",
              "    </tr>\n",
              "    <tr>\n",
              "      <th>255</th>\n",
              "      <td>1</td>\n",
              "      <td>10:00</td>\n",
              "      <td>tues</td>\n",
              "      <td>1</td>\n",
              "      <td>\"Grand Canal Quay, stop 353\"</td>\n",
              "      <td>\"Farney Park, stop 388\"</td>\n",
              "    </tr>\n",
              "    <tr>\n",
              "      <th>280</th>\n",
              "      <td>1</td>\n",
              "      <td>11:00</td>\n",
              "      <td>thurs</td>\n",
              "      <td>1</td>\n",
              "      <td>\"Upper Dorset Street, stop 12\"</td>\n",
              "      <td>\"Drumcondra Rail Stn, stop 17\"</td>\n",
              "    </tr>\n",
              "    <tr>\n",
              "      <th>367</th>\n",
              "      <td>1</td>\n",
              "      <td>14:00</td>\n",
              "      <td>mon</td>\n",
              "      <td>1</td>\n",
              "      <td>\"Erne Street, stop 398\"</td>\n",
              "      <td>\"O'Connell St Lower, stop 271\"</td>\n",
              "    </tr>\n",
              "    <tr>\n",
              "      <th>412</th>\n",
              "      <td>1</td>\n",
              "      <td>11:00</td>\n",
              "      <td>fri</td>\n",
              "      <td>1</td>\n",
              "      <td>\"Botanic Avenue, stop 19\"</td>\n",
              "      <td>\"Bath Street, stop 391\"</td>\n",
              "    </tr>\n",
              "    <tr>\n",
              "      <th>438</th>\n",
              "      <td>1</td>\n",
              "      <td>13:00</td>\n",
              "      <td>tues</td>\n",
              "      <td>1</td>\n",
              "      <td>\"Oldtown Road, stop 229\"</td>\n",
              "      <td>\"Parnell Square East, stop 265\"</td>\n",
              "    </tr>\n",
              "    <tr>\n",
              "      <th>461</th>\n",
              "      <td>1</td>\n",
              "      <td>12:00</td>\n",
              "      <td>thurs</td>\n",
              "      <td>1</td>\n",
              "      <td>\"Pearse Square, stop 397\"</td>\n",
              "      <td>\"Erne Street, stop 351\"</td>\n",
              "    </tr>\n",
              "    <tr>\n",
              "      <th>554</th>\n",
              "      <td>1</td>\n",
              "      <td>09:00</td>\n",
              "      <td>tues</td>\n",
              "      <td>1</td>\n",
              "      <td>\"Pearse Square, stop 397\"</td>\n",
              "      <td>\"Ringsend, stop 392\"</td>\n",
              "    </tr>\n",
              "    <tr>\n",
              "      <th>575</th>\n",
              "      <td>1</td>\n",
              "      <td>18:00</td>\n",
              "      <td>wed</td>\n",
              "      <td>1</td>\n",
              "      <td>\"Tritonville Road, stop 393\"</td>\n",
              "      <td>\"Newgrove Avenue, stop 385\"</td>\n",
              "    </tr>\n",
              "    <tr>\n",
              "      <th>631</th>\n",
              "      <td>1</td>\n",
              "      <td>14:00</td>\n",
              "      <td>wed</td>\n",
              "      <td>1</td>\n",
              "      <td>\"Prince's St South, stop 350\"</td>\n",
              "      <td>\"Shanowen Road, stop 221\"</td>\n",
              "    </tr>\n",
              "    <tr>\n",
              "      <th>668</th>\n",
              "      <td>1</td>\n",
              "      <td>15:00</td>\n",
              "      <td>mon</td>\n",
              "      <td>1</td>\n",
              "      <td>\"Gilford Road, stop 383\"</td>\n",
              "      <td>\"Temple Street, stop 51\"</td>\n",
              "    </tr>\n",
              "    <tr>\n",
              "      <th>689</th>\n",
              "      <td>1</td>\n",
              "      <td>12:00</td>\n",
              "      <td>wed</td>\n",
              "      <td>1</td>\n",
              "      <td>\"Pearse Station, stop 399\"</td>\n",
              "      <td>\"Westmoreland Street, stop 319\"</td>\n",
              "    </tr>\n",
              "    <tr>\n",
              "      <th>691</th>\n",
              "      <td>1</td>\n",
              "      <td>14:00</td>\n",
              "      <td>wed</td>\n",
              "      <td>1</td>\n",
              "      <td>\"O'Connell St Lower, stop 271\"</td>\n",
              "      <td>\"St John's Road, stop 380\"</td>\n",
              "    </tr>\n",
              "    <tr>\n",
              "      <th>714</th>\n",
              "      <td>1</td>\n",
              "      <td>13:00</td>\n",
              "      <td>fri</td>\n",
              "      <td>1</td>\n",
              "      <td>\"Shanowen Road, stop 221\"</td>\n",
              "      <td>\"The Village, stop 119\"</td>\n",
              "    </tr>\n",
              "    <tr>\n",
              "      <th>746</th>\n",
              "      <td>1</td>\n",
              "      <td>09:00</td>\n",
              "      <td>wed</td>\n",
              "      <td>1</td>\n",
              "      <td>\"Shanowen Avenue, stop 225\"</td>\n",
              "      <td>\"Farney Park, stop 388\"</td>\n",
              "    </tr>\n",
              "    <tr>\n",
              "      <th>760</th>\n",
              "      <td>1</td>\n",
              "      <td>11:00</td>\n",
              "      <td>thurs</td>\n",
              "      <td>1</td>\n",
              "      <td>\"Ringsend Road, stop 395\"</td>\n",
              "      <td>\"Dorset Street Upper, stop 52\"</td>\n",
              "    </tr>\n",
              "    <tr>\n",
              "      <th>764</th>\n",
              "      <td>1</td>\n",
              "      <td>15:00</td>\n",
              "      <td>thurs</td>\n",
              "      <td>1</td>\n",
              "      <td>\"DCU St Patrick’s, stop 7602\"</td>\n",
              "      <td>\"Dargle Road, stop 18\"</td>\n",
              "    </tr>\n",
              "    <tr>\n",
              "      <th>771</th>\n",
              "      <td>1</td>\n",
              "      <td>10:00</td>\n",
              "      <td>fri</td>\n",
              "      <td>1</td>\n",
              "      <td>\"Gilford Road, stop 377\"</td>\n",
              "      <td>\"DCU St Patrick's, stop 45\"</td>\n",
              "    </tr>\n",
              "    <tr>\n",
              "      <th>784</th>\n",
              "      <td>1</td>\n",
              "      <td>11:00</td>\n",
              "      <td>mon</td>\n",
              "      <td>1</td>\n",
              "      <td>\"Shanowen Road, stop 221\"</td>\n",
              "      <td>\"Star of the Sea, stop 389\"</td>\n",
              "    </tr>\n",
              "    <tr>\n",
              "      <th>791</th>\n",
              "      <td>1</td>\n",
              "      <td>18:00</td>\n",
              "      <td>mon</td>\n",
              "      <td>1</td>\n",
              "      <td>\"Shanard Avenue, stop 226\"</td>\n",
              "      <td>\"Drumcondra Rail Stn, stop 17\"</td>\n",
              "    </tr>\n",
              "    <tr>\n",
              "      <th>794</th>\n",
              "      <td>1</td>\n",
              "      <td>09:00</td>\n",
              "      <td>tues</td>\n",
              "      <td>1</td>\n",
              "      <td>\"St Patrick's College, stop 7603\"</td>\n",
              "      <td>\"Westmoreland Street, stop 319\"</td>\n",
              "    </tr>\n",
              "    <tr>\n",
              "      <th>813</th>\n",
              "      <td>1</td>\n",
              "      <td>16:00</td>\n",
              "      <td>wed</td>\n",
              "      <td>1</td>\n",
              "      <td>\"Shanard Avenue, stop 226\"</td>\n",
              "      <td>\"Pearse Square, stop 397\"</td>\n",
              "    </tr>\n",
              "    <tr>\n",
              "      <th>821</th>\n",
              "      <td>1</td>\n",
              "      <td>12:00</td>\n",
              "      <td>thurs</td>\n",
              "      <td>1</td>\n",
              "      <td>\"Swords Road, stop 220\"</td>\n",
              "      <td>\"Lea Road, stop 376\"</td>\n",
              "    </tr>\n",
              "    <tr>\n",
              "      <th>883</th>\n",
              "      <td>1</td>\n",
              "      <td>14:00</td>\n",
              "      <td>thurs</td>\n",
              "      <td>1</td>\n",
              "      <td>\"Erne Street, stop 398\"</td>\n",
              "      <td>\"Whitehall College, stop 203\"</td>\n",
              "    </tr>\n",
              "    <tr>\n",
              "      <th>915</th>\n",
              "      <td>1</td>\n",
              "      <td>10:00</td>\n",
              "      <td>tues</td>\n",
              "      <td>1</td>\n",
              "      <td>\"Townsend Street, stop 340\"</td>\n",
              "      <td>\"Sandymount, stop 387\"</td>\n",
              "    </tr>\n",
              "    <tr>\n",
              "      <th>955</th>\n",
              "      <td>1</td>\n",
              "      <td>14:00</td>\n",
              "      <td>fri</td>\n",
              "      <td>1</td>\n",
              "      <td>\"Grand Canal Quay, stop 396\"</td>\n",
              "      <td>\"Dargle Road, stop 18\"</td>\n",
              "    </tr>\n",
              "    <tr>\n",
              "      <th>967</th>\n",
              "      <td>1</td>\n",
              "      <td>14:00</td>\n",
              "      <td>mon</td>\n",
              "      <td>1</td>\n",
              "      <td>\"Iveragh Road, stop 213\"</td>\n",
              "      <td>\"Swords Road, stop 220\"</td>\n",
              "    </tr>\n",
              "    <tr>\n",
              "      <th>988</th>\n",
              "      <td>1</td>\n",
              "      <td>11:00</td>\n",
              "      <td>wed</td>\n",
              "      <td>1</td>\n",
              "      <td>\"Dorset Street Lower, stop 14\"</td>\n",
              "      <td>\"Grand Canal Quay, stop 396\"</td>\n",
              "    </tr>\n",
              "    <tr>\n",
              "      <th>1002</th>\n",
              "      <td>1</td>\n",
              "      <td>13:00</td>\n",
              "      <td>thurs</td>\n",
              "      <td>1</td>\n",
              "      <td>\"Whitehall Church, stop 1642\"</td>\n",
              "      <td>\"Highfield Hospital, stop 214\"</td>\n",
              "    </tr>\n",
              "    <tr>\n",
              "      <th>1036</th>\n",
              "      <td>1</td>\n",
              "      <td>11:00</td>\n",
              "      <td>tues</td>\n",
              "      <td>1</td>\n",
              "      <td>\"Shanliss Drive, stop 227\"</td>\n",
              "      <td>\"Erne Street, stop 351\"</td>\n",
              "    </tr>\n",
              "    <tr>\n",
              "      <th>1051</th>\n",
              "      <td>1</td>\n",
              "      <td>14:00</td>\n",
              "      <td>wed</td>\n",
              "      <td>1</td>\n",
              "      <td>\"Ringsend Road, stop 395\"</td>\n",
              "      <td>\"Grand Canal Quay, stop 353\"</td>\n",
              "    </tr>\n",
              "    <tr>\n",
              "      <th>1072</th>\n",
              "      <td>1</td>\n",
              "      <td>11:00</td>\n",
              "      <td>fri</td>\n",
              "      <td>1</td>\n",
              "      <td>\"Shanowen Avenue, stop 225\"</td>\n",
              "      <td>\"Pearse Square, stop 352\"</td>\n",
              "    </tr>\n",
              "    <tr>\n",
              "      <th>1076</th>\n",
              "      <td>1</td>\n",
              "      <td>15:00</td>\n",
              "      <td>fri</td>\n",
              "      <td>1</td>\n",
              "      <td>\"Townsend Street, stop 340\"</td>\n",
              "      <td>\"Lea Road, stop 376\"</td>\n",
              "    </tr>\n",
              "  </tbody>\n",
              "</table>\n",
              "</div>"
            ],
            "text/plain": [
              "     route  ...                        destination\n",
              "4        1  ...            \"The Village, stop 119\"\n",
              "6        1  ...           \"Temple Street, stop 51\"\n",
              "20       1  ...         \"Wellpark Avenue, stop 85\"\n",
              "32       1  ...    \"Westmoreland Street, stop 319\"\n",
              "66       1  ...          \"Ringsend Road, stop 395\"\n",
              "125      1  ...  \"St Patrick's College, stop 7603\"\n",
              "138      1  ...         \"Irishtown Road, stop 357\"\n",
              "151      1  ...             \"Dargle Road, stop 18\"\n",
              "161      1  ...             \"Sandymount, stop 387\"\n",
              "166      1  ...        \"Townsend Street, stop 340\"\n",
              "245      1  ...          \"Shanliss Road, stop 228\"\n",
              "255      1  ...            \"Farney Park, stop 388\"\n",
              "280      1  ...     \"Drumcondra Rail Stn, stop 17\"\n",
              "367      1  ...     \"O'Connell St Lower, stop 271\"\n",
              "412      1  ...            \"Bath Street, stop 391\"\n",
              "438      1  ...    \"Parnell Square East, stop 265\"\n",
              "461      1  ...            \"Erne Street, stop 351\"\n",
              "554      1  ...               \"Ringsend, stop 392\"\n",
              "575      1  ...        \"Newgrove Avenue, stop 385\"\n",
              "631      1  ...          \"Shanowen Road, stop 221\"\n",
              "668      1  ...           \"Temple Street, stop 51\"\n",
              "689      1  ...    \"Westmoreland Street, stop 319\"\n",
              "691      1  ...         \"St John's Road, stop 380\"\n",
              "714      1  ...            \"The Village, stop 119\"\n",
              "746      1  ...            \"Farney Park, stop 388\"\n",
              "760      1  ...     \"Dorset Street Upper, stop 52\"\n",
              "764      1  ...             \"Dargle Road, stop 18\"\n",
              "771      1  ...        \"DCU St Patrick's, stop 45\"\n",
              "784      1  ...        \"Star of the Sea, stop 389\"\n",
              "791      1  ...     \"Drumcondra Rail Stn, stop 17\"\n",
              "794      1  ...    \"Westmoreland Street, stop 319\"\n",
              "813      1  ...          \"Pearse Square, stop 397\"\n",
              "821      1  ...               \"Lea Road, stop 376\"\n",
              "883      1  ...      \"Whitehall College, stop 203\"\n",
              "915      1  ...             \"Sandymount, stop 387\"\n",
              "955      1  ...             \"Dargle Road, stop 18\"\n",
              "967      1  ...            \"Swords Road, stop 220\"\n",
              "988      1  ...       \"Grand Canal Quay, stop 396\"\n",
              "1002     1  ...     \"Highfield Hospital, stop 214\"\n",
              "1036     1  ...            \"Erne Street, stop 351\"\n",
              "1051     1  ...       \"Grand Canal Quay, stop 353\"\n",
              "1072     1  ...          \"Pearse Square, stop 352\"\n",
              "1076     1  ...               \"Lea Road, stop 376\"\n",
              "\n",
              "[43 rows x 6 columns]"
            ]
          },
          "metadata": {
            "tags": []
          },
          "execution_count": 21
        }
      ]
    },
    {
      "cell_type": "code",
      "metadata": {
        "colab": {
          "base_uri": "https://localhost:8080/",
          "height": 607
        },
        "id": "2qy5mupo3nAr",
        "outputId": "f6560a13-f88b-4f86-e3a5-3b91e44fb434"
      },
      "source": [
        "testing_df[testing_df.occupancy==1]"
      ],
      "execution_count": 22,
      "outputs": [
        {
          "output_type": "execute_result",
          "data": {
            "text/html": [
              "<div>\n",
              "<style scoped>\n",
              "    .dataframe tbody tr th:only-of-type {\n",
              "        vertical-align: middle;\n",
              "    }\n",
              "\n",
              "    .dataframe tbody tr th {\n",
              "        vertical-align: top;\n",
              "    }\n",
              "\n",
              "    .dataframe thead th {\n",
              "        text-align: right;\n",
              "    }\n",
              "</style>\n",
              "<table border=\"1\" class=\"dataframe\">\n",
              "  <thead>\n",
              "    <tr style=\"text-align: right;\">\n",
              "      <th></th>\n",
              "      <th>route</th>\n",
              "      <th>times</th>\n",
              "      <th>days</th>\n",
              "      <th>occupancy</th>\n",
              "      <th>departure</th>\n",
              "      <th>destination</th>\n",
              "    </tr>\n",
              "  </thead>\n",
              "  <tbody>\n",
              "    <tr>\n",
              "      <th>56</th>\n",
              "      <td>1</td>\n",
              "      <td>15:00</td>\n",
              "      <td>fri</td>\n",
              "      <td>1</td>\n",
              "      <td>\"Grand Canal Quay, stop 396\"</td>\n",
              "      <td>\"Pearse Station, stop 399\"</td>\n",
              "    </tr>\n",
              "    <tr>\n",
              "      <th>64</th>\n",
              "      <td>1</td>\n",
              "      <td>11:00</td>\n",
              "      <td>mon</td>\n",
              "      <td>1</td>\n",
              "      <td>\"O'Connell St Upper, stop 278\"</td>\n",
              "      <td>\"Irishtown Road, stop 371\"</td>\n",
              "    </tr>\n",
              "    <tr>\n",
              "      <th>88</th>\n",
              "      <td>1</td>\n",
              "      <td>11:00</td>\n",
              "      <td>wed</td>\n",
              "      <td>1</td>\n",
              "      <td>\"Innisfallen Parade, stop 15\"</td>\n",
              "      <td>\"Tritonville Road, stop 390\"</td>\n",
              "    </tr>\n",
              "    <tr>\n",
              "      <th>98</th>\n",
              "      <td>1</td>\n",
              "      <td>09:00</td>\n",
              "      <td>thurs</td>\n",
              "      <td>1</td>\n",
              "      <td>\"St John's Church, stop 381\"</td>\n",
              "      <td>\"Dorset Street Upper, stop 52\"</td>\n",
              "    </tr>\n",
              "    <tr>\n",
              "      <th>112</th>\n",
              "      <td>1</td>\n",
              "      <td>11:00</td>\n",
              "      <td>fri</td>\n",
              "      <td>1</td>\n",
              "      <td>\"Drumcondra Rail Stn, stop 47\"</td>\n",
              "      <td>\"Lea Road, stop 384\"</td>\n",
              "    </tr>\n",
              "    <tr>\n",
              "      <th>127</th>\n",
              "      <td>1</td>\n",
              "      <td>14:00</td>\n",
              "      <td>mon</td>\n",
              "      <td>1</td>\n",
              "      <td>\"Westmoreland Street, stop 319\"</td>\n",
              "      <td>\"Grand Canal Quay, stop 396\"</td>\n",
              "    </tr>\n",
              "    <tr>\n",
              "      <th>176</th>\n",
              "      <td>1</td>\n",
              "      <td>15:00</td>\n",
              "      <td>fri</td>\n",
              "      <td>1</td>\n",
              "      <td>\"Ringsend Road, stop 354\"</td>\n",
              "      <td>\"Ringsend, stop 356\"</td>\n",
              "    </tr>\n",
              "    <tr>\n",
              "      <th>200</th>\n",
              "      <td>1</td>\n",
              "      <td>15:00</td>\n",
              "      <td>tues</td>\n",
              "      <td>1</td>\n",
              "      <td>\"Westmoreland Street, stop 319\"</td>\n",
              "      <td>\"Fitzroy Avenue, stop 48\"</td>\n",
              "    </tr>\n",
              "    <tr>\n",
              "      <th>260</th>\n",
              "      <td>1</td>\n",
              "      <td>15:00</td>\n",
              "      <td>tues</td>\n",
              "      <td>1</td>\n",
              "      <td>\"Irishtown Road, stop 371\"</td>\n",
              "      <td>\"Griffith Downs, stop 4432\"</td>\n",
              "    </tr>\n",
              "    <tr>\n",
              "      <th>274</th>\n",
              "      <td>1</td>\n",
              "      <td>17:00</td>\n",
              "      <td>wed</td>\n",
              "      <td>1</td>\n",
              "      <td>\"Shanowen Road, stop 230\"</td>\n",
              "      <td>\"Botanic Avenue, stop 19\"</td>\n",
              "    </tr>\n",
              "    <tr>\n",
              "      <th>293</th>\n",
              "      <td>1</td>\n",
              "      <td>12:00</td>\n",
              "      <td>fri</td>\n",
              "      <td>1</td>\n",
              "      <td>\"Ringsend Road, stop 354\"</td>\n",
              "      <td>\"Shanliss Drive, stop 227\"</td>\n",
              "    </tr>\n",
              "    <tr>\n",
              "      <th>305</th>\n",
              "      <td>1</td>\n",
              "      <td>12:00</td>\n",
              "      <td>mon</td>\n",
              "      <td>1</td>\n",
              "      <td>\"Townsend Street, stop 340\"</td>\n",
              "      <td>\"Irishtown Road, stop 357\"</td>\n",
              "    </tr>\n",
              "    <tr>\n",
              "      <th>316</th>\n",
              "      <td>1</td>\n",
              "      <td>11:00</td>\n",
              "      <td>tues</td>\n",
              "      <td>1</td>\n",
              "      <td>\"Star of the Sea, stop 372\"</td>\n",
              "      <td>\"Shanvarna Road Est, stop 231\"</td>\n",
              "    </tr>\n",
              "    <tr>\n",
              "      <th>325</th>\n",
              "      <td>1</td>\n",
              "      <td>08:00</td>\n",
              "      <td>wed</td>\n",
              "      <td>1</td>\n",
              "      <td>\"Ringsend, stop 356\"</td>\n",
              "      <td>\"Shanowen Road, stop 221\"</td>\n",
              "    </tr>\n",
              "    <tr>\n",
              "      <th>327</th>\n",
              "      <td>1</td>\n",
              "      <td>10:00</td>\n",
              "      <td>wed</td>\n",
              "      <td>1</td>\n",
              "      <td>\"Newgrove Avenue, stop 385\"</td>\n",
              "      <td>\"Westmoreland Street, stop 319\"</td>\n",
              "    </tr>\n",
              "    <tr>\n",
              "      <th>328</th>\n",
              "      <td>1</td>\n",
              "      <td>11:00</td>\n",
              "      <td>wed</td>\n",
              "      <td>1</td>\n",
              "      <td>\"Ringsend Road, stop 395\"</td>\n",
              "      <td>\"Dargle Road, stop 18\"</td>\n",
              "    </tr>\n",
              "    <tr>\n",
              "      <th>331</th>\n",
              "      <td>1</td>\n",
              "      <td>14:00</td>\n",
              "      <td>wed</td>\n",
              "      <td>1</td>\n",
              "      <td>\"Whitehall Church, stop 1620\"</td>\n",
              "      <td>\"Farney Park, stop 388\"</td>\n",
              "    </tr>\n",
              "    <tr>\n",
              "      <th>342</th>\n",
              "      <td>1</td>\n",
              "      <td>13:00</td>\n",
              "      <td>thurs</td>\n",
              "      <td>1</td>\n",
              "      <td>\"Drumcondra Rail Stn, stop 17\"</td>\n",
              "      <td>\"Dorset Street Lower, stop 49\"</td>\n",
              "    </tr>\n",
              "  </tbody>\n",
              "</table>\n",
              "</div>"
            ],
            "text/plain": [
              "    route  ...                      destination\n",
              "56      1  ...       \"Pearse Station, stop 399\"\n",
              "64      1  ...       \"Irishtown Road, stop 371\"\n",
              "88      1  ...     \"Tritonville Road, stop 390\"\n",
              "98      1  ...   \"Dorset Street Upper, stop 52\"\n",
              "112     1  ...             \"Lea Road, stop 384\"\n",
              "127     1  ...     \"Grand Canal Quay, stop 396\"\n",
              "176     1  ...             \"Ringsend, stop 356\"\n",
              "200     1  ...        \"Fitzroy Avenue, stop 48\"\n",
              "260     1  ...      \"Griffith Downs, stop 4432\"\n",
              "274     1  ...        \"Botanic Avenue, stop 19\"\n",
              "293     1  ...       \"Shanliss Drive, stop 227\"\n",
              "305     1  ...       \"Irishtown Road, stop 357\"\n",
              "316     1  ...   \"Shanvarna Road Est, stop 231\"\n",
              "325     1  ...        \"Shanowen Road, stop 221\"\n",
              "327     1  ...  \"Westmoreland Street, stop 319\"\n",
              "328     1  ...           \"Dargle Road, stop 18\"\n",
              "331     1  ...          \"Farney Park, stop 388\"\n",
              "342     1  ...   \"Dorset Street Lower, stop 49\"\n",
              "\n",
              "[18 rows x 6 columns]"
            ]
          },
          "metadata": {
            "tags": []
          },
          "execution_count": 22
        }
      ]
    },
    {
      "cell_type": "code",
      "metadata": {
        "id": "AYd0uk833m8f"
      },
      "source": [
        "training_df.drop(\"departure\", axis=\"columns\", inplace=True)"
      ],
      "execution_count": 23,
      "outputs": []
    },
    {
      "cell_type": "code",
      "metadata": {
        "id": "qRqSsYR-3m4u"
      },
      "source": [
        "training_df.drop(\"destination\", axis=\"columns\", inplace=True)"
      ],
      "execution_count": 24,
      "outputs": []
    },
    {
      "cell_type": "code",
      "metadata": {
        "id": "6D5y3-EY3mzA"
      },
      "source": [
        "testing_df.drop(\"destination\", axis=\"columns\", inplace=True)"
      ],
      "execution_count": 25,
      "outputs": []
    },
    {
      "cell_type": "code",
      "metadata": {
        "id": "impzIco13mtF"
      },
      "source": [
        "testing_df.drop(\"departure\", axis=\"columns\", inplace=True)"
      ],
      "execution_count": 26,
      "outputs": []
    },
    {
      "cell_type": "code",
      "metadata": {
        "colab": {
          "base_uri": "https://localhost:8080/"
        },
        "id": "7FLe-zsq3mkq",
        "outputId": "e158bb15-d225-4324-f24a-7cfeb4d751e5"
      },
      "source": [
        "testing_df.dtypes"
      ],
      "execution_count": 27,
      "outputs": [
        {
          "output_type": "execute_result",
          "data": {
            "text/plain": [
              "route        object\n",
              "times        object\n",
              "days         object\n",
              "occupancy     int64\n",
              "dtype: object"
            ]
          },
          "metadata": {
            "tags": []
          },
          "execution_count": 27
        }
      ]
    },
    {
      "cell_type": "code",
      "metadata": {
        "colab": {
          "base_uri": "https://localhost:8080/"
        },
        "id": "DGFXU-Bi3mg6",
        "outputId": "c018270c-b210-4ece-d1b8-aa5d1056bef8"
      },
      "source": [
        "training_df.dtypes"
      ],
      "execution_count": 28,
      "outputs": [
        {
          "output_type": "execute_result",
          "data": {
            "text/plain": [
              "route        object\n",
              "times        object\n",
              "days         object\n",
              "occupancy     int64\n",
              "dtype: object"
            ]
          },
          "metadata": {
            "tags": []
          },
          "execution_count": 28
        }
      ]
    },
    {
      "cell_type": "code",
      "metadata": {
        "colab": {
          "base_uri": "https://localhost:8080/",
          "height": 204
        },
        "id": "YxvWgfax4Hze",
        "outputId": "d2710289-7489-4b3f-f3e6-0f14188e26c6"
      },
      "source": [
        "training_df.head()"
      ],
      "execution_count": 29,
      "outputs": [
        {
          "output_type": "execute_result",
          "data": {
            "text/html": [
              "<div>\n",
              "<style scoped>\n",
              "    .dataframe tbody tr th:only-of-type {\n",
              "        vertical-align: middle;\n",
              "    }\n",
              "\n",
              "    .dataframe tbody tr th {\n",
              "        vertical-align: top;\n",
              "    }\n",
              "\n",
              "    .dataframe thead th {\n",
              "        text-align: right;\n",
              "    }\n",
              "</style>\n",
              "<table border=\"1\" class=\"dataframe\">\n",
              "  <thead>\n",
              "    <tr style=\"text-align: right;\">\n",
              "      <th></th>\n",
              "      <th>route</th>\n",
              "      <th>times</th>\n",
              "      <th>days</th>\n",
              "      <th>occupancy</th>\n",
              "    </tr>\n",
              "  </thead>\n",
              "  <tbody>\n",
              "    <tr>\n",
              "      <th>0</th>\n",
              "      <td>1</td>\n",
              "      <td>07:00</td>\n",
              "      <td>mon</td>\n",
              "      <td>0</td>\n",
              "    </tr>\n",
              "    <tr>\n",
              "      <th>1</th>\n",
              "      <td>1</td>\n",
              "      <td>08:00</td>\n",
              "      <td>mon</td>\n",
              "      <td>0</td>\n",
              "    </tr>\n",
              "    <tr>\n",
              "      <th>2</th>\n",
              "      <td>1</td>\n",
              "      <td>09:00</td>\n",
              "      <td>mon</td>\n",
              "      <td>0</td>\n",
              "    </tr>\n",
              "    <tr>\n",
              "      <th>3</th>\n",
              "      <td>1</td>\n",
              "      <td>10:00</td>\n",
              "      <td>mon</td>\n",
              "      <td>0</td>\n",
              "    </tr>\n",
              "    <tr>\n",
              "      <th>4</th>\n",
              "      <td>1</td>\n",
              "      <td>11:00</td>\n",
              "      <td>mon</td>\n",
              "      <td>1</td>\n",
              "    </tr>\n",
              "  </tbody>\n",
              "</table>\n",
              "</div>"
            ],
            "text/plain": [
              "  route  times days  occupancy\n",
              "0     1  07:00  mon          0\n",
              "1     1  08:00  mon          0\n",
              "2     1  09:00  mon          0\n",
              "3     1  10:00  mon          0\n",
              "4     1  11:00  mon          1"
            ]
          },
          "metadata": {
            "tags": []
          },
          "execution_count": 29
        }
      ]
    },
    {
      "cell_type": "code",
      "metadata": {
        "colab": {
          "base_uri": "https://localhost:8080/",
          "height": 204
        },
        "id": "6lSh1UCS4Hs-",
        "outputId": "cbe7292b-b2a9-4b0c-d848-202bbd189219"
      },
      "source": [
        "testing_df.head()"
      ],
      "execution_count": 30,
      "outputs": [
        {
          "output_type": "execute_result",
          "data": {
            "text/html": [
              "<div>\n",
              "<style scoped>\n",
              "    .dataframe tbody tr th:only-of-type {\n",
              "        vertical-align: middle;\n",
              "    }\n",
              "\n",
              "    .dataframe tbody tr th {\n",
              "        vertical-align: top;\n",
              "    }\n",
              "\n",
              "    .dataframe thead th {\n",
              "        text-align: right;\n",
              "    }\n",
              "</style>\n",
              "<table border=\"1\" class=\"dataframe\">\n",
              "  <thead>\n",
              "    <tr style=\"text-align: right;\">\n",
              "      <th></th>\n",
              "      <th>route</th>\n",
              "      <th>times</th>\n",
              "      <th>days</th>\n",
              "      <th>occupancy</th>\n",
              "    </tr>\n",
              "  </thead>\n",
              "  <tbody>\n",
              "    <tr>\n",
              "      <th>0</th>\n",
              "      <td>1</td>\n",
              "      <td>07:00</td>\n",
              "      <td>mon</td>\n",
              "      <td>0</td>\n",
              "    </tr>\n",
              "    <tr>\n",
              "      <th>1</th>\n",
              "      <td>1</td>\n",
              "      <td>08:00</td>\n",
              "      <td>mon</td>\n",
              "      <td>0</td>\n",
              "    </tr>\n",
              "    <tr>\n",
              "      <th>2</th>\n",
              "      <td>1</td>\n",
              "      <td>09:00</td>\n",
              "      <td>mon</td>\n",
              "      <td>0</td>\n",
              "    </tr>\n",
              "    <tr>\n",
              "      <th>3</th>\n",
              "      <td>1</td>\n",
              "      <td>10:00</td>\n",
              "      <td>mon</td>\n",
              "      <td>0</td>\n",
              "    </tr>\n",
              "    <tr>\n",
              "      <th>4</th>\n",
              "      <td>1</td>\n",
              "      <td>11:00</td>\n",
              "      <td>mon</td>\n",
              "      <td>0</td>\n",
              "    </tr>\n",
              "  </tbody>\n",
              "</table>\n",
              "</div>"
            ],
            "text/plain": [
              "  route  times days  occupancy\n",
              "0     1  07:00  mon          0\n",
              "1     1  08:00  mon          0\n",
              "2     1  09:00  mon          0\n",
              "3     1  10:00  mon          0\n",
              "4     1  11:00  mon          0"
            ]
          },
          "metadata": {
            "tags": []
          },
          "execution_count": 30
        }
      ]
    },
    {
      "cell_type": "code",
      "metadata": {
        "id": "z2SDBUdy4Hn_"
      },
      "source": [
        "#fourth varsion of route 1 trying to fix one hot encoding\n",
        "X_train_route_1 = training_df.drop(\"occupancy\", axis=\"columns\")\n",
        "y_train_route_1 = training_df[\"occupancy\"]"
      ],
      "execution_count": 31,
      "outputs": []
    },
    {
      "cell_type": "code",
      "metadata": {
        "colab": {
          "base_uri": "https://localhost:8080/",
          "height": 296
        },
        "id": "stgJzSEe4Hi_",
        "outputId": "2858e9b5-87cb-4cc7-d5fb-febbbbd6ea28"
      },
      "source": [
        "pd.concat([X_train_route_1, y_train_route_1], axis=1).groupby(\"days\").occupancy.mean().plot(kind=\"barh\").set_xlabel(\"% occupancy\")"
      ],
      "execution_count": 32,
      "outputs": [
        {
          "output_type": "execute_result",
          "data": {
            "text/plain": [
              "Text(0.5, 0, '% occupancy')"
            ]
          },
          "metadata": {
            "tags": []
          },
          "execution_count": 32
        },
        {
          "output_type": "display_data",
          "data": {
            "image/png": "[encoded data removed]",
            "text/plain": [
              "<Figure size 432x288 with 1 Axes>"
            ]
          },
          "metadata": {
            "tags": [],
            "needs_background": "light"
          }
        }
      ]
    },
    {
      "cell_type": "code",
      "metadata": {
        "colab": {
          "base_uri": "https://localhost:8080/",
          "height": 296
        },
        "id": "ujn7SoL74HdE",
        "outputId": "65567013-6780-4318-b799-fbcd726a0e1c"
      },
      "source": [
        "pd.concat([X_train_route_1, y_train_route_1], axis=1).groupby(\"times\").occupancy.mean().plot(kind=\"barh\").set_xlabel(\"% occupancy\")"
      ],
      "execution_count": 33,
      "outputs": [
        {
          "output_type": "execute_result",
          "data": {
            "text/plain": [
              "Text(0.5, 0, '% occupancy')"
            ]
          },
          "metadata": {
            "tags": []
          },
          "execution_count": 33
        },
        {
          "output_type": "display_data",
          "data": {
            "image/png": "[encoded data removed]",
            "text/plain": [
              "<Figure size 432x288 with 1 Axes>"
            ]
          },
          "metadata": {
            "tags": [],
            "needs_background": "light"
          }
        }
      ]
    },
    {
      "cell_type": "code",
      "metadata": {
        "id": "aTSxxGvL4HWl"
      },
      "source": [
        "X_test_route_1 = testing_df.drop(\"occupancy\", axis=\"columns\")\n",
        "y_test_route_1 = testing_df[\"occupancy\"]"
      ],
      "execution_count": 34,
      "outputs": []
    },
    {
      "cell_type": "code",
      "metadata": {
        "colab": {
          "base_uri": "https://localhost:8080/",
          "height": 296
        },
        "id": "e5rbpUa65LVH",
        "outputId": "fc566636-8129-43be-e5c4-7e4da55dd3c9"
      },
      "source": [
        "pd.concat([X_test_route_1, y_test_route_1], axis=1).groupby(\"days\").occupancy.mean().plot(kind=\"barh\").set_xlabel(\"% occupancy\")"
      ],
      "execution_count": 35,
      "outputs": [
        {
          "output_type": "execute_result",
          "data": {
            "text/plain": [
              "Text(0.5, 0, '% occupancy')"
            ]
          },
          "metadata": {
            "tags": []
          },
          "execution_count": 35
        },
        {
          "output_type": "display_data",
          "data": {
            "image/png": "[encoded data removed]",
            "text/plain": [
              "<Figure size 432x288 with 1 Axes>"
            ]
          },
          "metadata": {
            "tags": [],
            "needs_background": "light"
          }
        }
      ]
    },
    {
      "cell_type": "code",
      "metadata": {
        "colab": {
          "base_uri": "https://localhost:8080/",
          "height": 296
        },
        "id": "tH91q7sA5f-y",
        "outputId": "f2b75389-042a-45af-9471-ea63a52efe2f"
      },
      "source": [
        "# this plot is for the test datasets which was only done for debugging purposes\n",
        "pd.concat([X_test_route_1, y_test_route_1], axis=1).groupby(\"times\").occupancy.mean().plot(kind=\"barh\").set_xlabel(\"% occupancy\")"
      ],
      "execution_count": 36,
      "outputs": [
        {
          "output_type": "execute_result",
          "data": {
            "text/plain": [
              "Text(0.5, 0, '% occupancy')"
            ]
          },
          "metadata": {
            "tags": []
          },
          "execution_count": 36
        },
        {
          "output_type": "display_data",
          "data": {
            "image/png": "[encoded data removed]",
            "text/plain": [
              "<Figure size 432x288 with 1 Axes>"
            ]
          },
          "metadata": {
            "tags": [],
            "needs_background": "light"
          }
        }
      ]
    },
    {
      "cell_type": "code",
      "metadata": {
        "colab": {
          "base_uri": "https://localhost:8080/"
        },
        "id": "UH57GFMp4HRx",
        "outputId": "e27a2cca-5468-41f2-8b14-7ccf68db9757"
      },
      "source": [
        "import numpy\n",
        "unique, counts = numpy.unique(y_train_route_1, return_counts=True)\n",
        "dict(zip(unique, counts))"
      ],
      "execution_count": 38,
      "outputs": [
        {
          "output_type": "execute_result",
          "data": {
            "text/plain": [
              "{0: 1038, 1: 43}"
            ]
          },
          "metadata": {
            "tags": []
          },
          "execution_count": 38
        }
      ]
    },
    {
      "cell_type": "code",
      "metadata": {
        "colab": {
          "base_uri": "https://localhost:8080/"
        },
        "id": "0yQ0hVZc4HNj",
        "outputId": "8e983588-bc9b-4da8-a6bf-bbe93a7c0dbf"
      },
      "source": [
        "import numpy\n",
        "unique, counts = numpy.unique(y_test_route_1, return_counts=True)\n",
        "dict(zip(unique, counts))"
      ],
      "execution_count": 39,
      "outputs": [
        {
          "output_type": "execute_result",
          "data": {
            "text/plain": [
              "{0: 343, 1: 18}"
            ]
          },
          "metadata": {
            "tags": []
          },
          "execution_count": 39
        }
      ]
    },
    {
      "cell_type": "code",
      "metadata": {
        "id": "FLwUmbl04HJ0"
      },
      "source": [
        "from sklearn.preprocessing import OneHotEncoder\n",
        "ohe_1=OneHotEncoder(handle_unknown='ignore')\n",
        "X_train_hot_route_1=ohe_1.fit_transform(X_train_route_1)\n",
        "X_test_hot_route_1=ohe_1.transform(X_test_route_1)\n",
        "#test=ohe.transform(test)"
      ],
      "execution_count": 41,
      "outputs": []
    },
    {
      "cell_type": "code",
      "metadata": {
        "colab": {
          "base_uri": "https://localhost:8080/"
        },
        "id": "GqY6rXBQ4HGp",
        "outputId": "ac21cb32-2342-4a33-b357-c00241de4914"
      },
      "source": [
        "from imblearn.over_sampling import SMOTE\n",
        "\n",
        "smote = SMOTE(sampling_strategy=\"minority\")\n",
        "X_sm_1, y_sm_1 = smote.fit_sample(X_train_hot_route_1,y_train_route_1)"
      ],
      "execution_count": 77,
      "outputs": [
        {
          "output_type": "stream",
          "text": [
            "/usr/local/lib/python3.7/dist-packages/sklearn/utils/deprecation.py:87: FutureWarning: Function safe_indexing is deprecated; safe_indexing is deprecated in version 0.22 and will be removed in version 0.24.\n",
            "  warnings.warn(msg, category=FutureWarning)\n"
          ],
          "name": "stderr"
        }
      ]
    },
    {
      "cell_type": "code",
      "metadata": {
        "colab": {
          "base_uri": "https://localhost:8080/"
        },
        "id": "qFyvs46j5BYO",
        "outputId": "320b7e4d-984a-4cf0-ec5c-48838343a996"
      },
      "source": [
        "import numpy\n",
        "unique, counts = numpy.unique(y_sm_1, return_counts=True)\n",
        "dict(zip(unique, counts))"
      ],
      "execution_count": 78,
      "outputs": [
        {
          "output_type": "execute_result",
          "data": {
            "text/plain": [
              "{0: 1038, 1: 1038}"
            ]
          },
          "metadata": {
            "tags": []
          },
          "execution_count": 78
        }
      ]
    },
    {
      "cell_type": "code",
      "metadata": {
        "id": "ITbftn8DBa46"
      },
      "source": [
        "#X1df = pd.DataFrame(X_sm_1.todense() )\n",
        "#y1df = pd.DataFrame(y_sm_1.toarray())"
      ],
      "execution_count": null,
      "outputs": []
    },
    {
      "cell_type": "code",
      "metadata": {
        "id": "KUc5sfuUAzeM"
      },
      "source": [
        "#pd.concat([X1df, y_sm_1], axis=1).groupby(\"days\").occupancy.mean().plot(kind=\"barh\").set_xlabel(\"% occupancy\")"
      ],
      "execution_count": null,
      "outputs": []
    },
    {
      "cell_type": "code",
      "metadata": {
        "id": "Xr9SWFlaBAEg"
      },
      "source": [
        "#pd.concat([X_sm_1, y_sm_1], axis=1).groupby(\"times\").occupancy.mean().plot(kind=\"barh\").set_xlabel(\"% occupancy\")"
      ],
      "execution_count": null,
      "outputs": []
    },
    {
      "cell_type": "code",
      "metadata": {
        "colab": {
          "base_uri": "https://localhost:8080/"
        },
        "id": "yBFzUDNP5BRC",
        "outputId": "c668bb71-9fb6-4a2d-f9b2-496c46625cd2"
      },
      "source": [
        "from sklearn.ensemble import RandomForestClassifier\n",
        "\n",
        "clf = RandomForestClassifier(max_depth=3, random_state=0)\n",
        "#clf.fit(trainingdata_encode_shuffle, train_label_shuffle)\n",
        "#print(clf.predict([[0, 0, 0, 0]]))\n",
        "#my second version\n",
        "#clf.fit(trainingdata_encode, train_label)\n",
        "\n",
        "#bus_df_encode variables\n",
        "clf.fit(X_sm_1, y_sm_1)"
      ],
      "execution_count": 79,
      "outputs": [
        {
          "output_type": "execute_result",
          "data": {
            "text/plain": [
              "RandomForestClassifier(bootstrap=True, ccp_alpha=0.0, class_weight=None,\n",
              "                       criterion='gini', max_depth=3, max_features='auto',\n",
              "                       max_leaf_nodes=None, max_samples=None,\n",
              "                       min_impurity_decrease=0.0, min_impurity_split=None,\n",
              "                       min_samples_leaf=1, min_samples_split=2,\n",
              "                       min_weight_fraction_leaf=0.0, n_estimators=100,\n",
              "                       n_jobs=None, oob_score=False, random_state=0, verbose=0,\n",
              "                       warm_start=False)"
            ]
          },
          "metadata": {
            "tags": []
          },
          "execution_count": 79
        }
      ]
    },
    {
      "cell_type": "code",
      "metadata": {
        "id": "Nt68z_Kv5BKq"
      },
      "source": [
        "# this is the model predict step\n",
        "pred_rou_1 = clf.predict(X_test_hot_route_1)"
      ],
      "execution_count": 80,
      "outputs": []
    },
    {
      "cell_type": "code",
      "metadata": {
        "id": "VUQOoPsJ79Rd"
      },
      "source": [
        "# this is trying to predict the trained set - which was to satisfy my curiosity but not supposed to be done\n",
        "pred_route_2 = clf.predict(X_train_hot_route_1)"
      ],
      "execution_count": 81,
      "outputs": []
    },
    {
      "cell_type": "code",
      "metadata": {
        "id": "qKorfexb5BGW"
      },
      "source": [
        "#pred_route_1[:10]"
      ],
      "execution_count": 82,
      "outputs": []
    },
    {
      "cell_type": "code",
      "metadata": {
        "colab": {
          "base_uri": "https://localhost:8080/"
        },
        "id": "N-L5Luxh8Cf_",
        "outputId": "4050a758-ebf2-4772-d8b7-3347e9038199"
      },
      "source": [
        "pred_route_2[:10]"
      ],
      "execution_count": 83,
      "outputs": [
        {
          "output_type": "execute_result",
          "data": {
            "text/plain": [
              "array([0, 0, 0, 0, 1, 1, 1, 1, 0, 0])"
            ]
          },
          "metadata": {
            "tags": []
          },
          "execution_count": 83
        }
      ]
    },
    {
      "cell_type": "code",
      "metadata": {
        "colab": {
          "base_uri": "https://localhost:8080/"
        },
        "id": "SH31Mxyw5BB8",
        "outputId": "4cdfd34a-31e3-41ee-ef67-e0b4f648f3d3"
      },
      "source": [
        "y_test_route_1[:10]"
      ],
      "execution_count": 84,
      "outputs": [
        {
          "output_type": "execute_result",
          "data": {
            "text/plain": [
              "0    0\n",
              "1    0\n",
              "2    0\n",
              "3    0\n",
              "4    0\n",
              "5    0\n",
              "6    0\n",
              "7    0\n",
              "8    0\n",
              "9    0\n",
              "Name: occupancy, dtype: int64"
            ]
          },
          "metadata": {
            "tags": []
          },
          "execution_count": 84
        }
      ]
    },
    {
      "cell_type": "code",
      "metadata": {
        "colab": {
          "base_uri": "https://localhost:8080/"
        },
        "id": "1FEECdw_VFiz",
        "outputId": "177fa701-fc31-4a31-a9e7-e97dac84801f"
      },
      "source": [
        "# this is result for the classification report\n",
        "from sklearn.metrics import  confusion_matrix, classification_report\n",
        "\n",
        "print(classification_report (y_test_route_1, pred_rou_1) )"
      ],
      "execution_count": 85,
      "outputs": [
        {
          "output_type": "stream",
          "text": [
            "              precision    recall  f1-score   support\n",
            "\n",
            "           0       0.96      0.74      0.84       343\n",
            "           1       0.08      0.44      0.14        18\n",
            "\n",
            "    accuracy                           0.73       361\n",
            "   macro avg       0.52      0.59      0.49       361\n",
            "weighted avg       0.92      0.73      0.80       361\n",
            "\n"
          ],
          "name": "stdout"
        }
      ]
    },
    {
      "cell_type": "code",
      "metadata": {
        "colab": {
          "base_uri": "https://localhost:8080/"
        },
        "id": "yKitkOH35A-K",
        "outputId": "962c555f-aa76-44d5-f21c-40186418f0ea"
      },
      "source": [
        "# this is the classification report for when I tried tp predict the training set which I am not supposed to do\n",
        "from sklearn.metrics import  confusion_matrix, classification_report\n",
        "\n",
        "print(classification_report (y_train_route_1, pred_route_2) )"
      ],
      "execution_count": 86,
      "outputs": [
        {
          "output_type": "stream",
          "text": [
            "              precision    recall  f1-score   support\n",
            "\n",
            "           0       0.98      0.75      0.85      1038\n",
            "           1       0.09      0.60      0.16        43\n",
            "\n",
            "    accuracy                           0.74      1081\n",
            "   macro avg       0.53      0.68      0.50      1081\n",
            "weighted avg       0.94      0.74      0.82      1081\n",
            "\n"
          ],
          "name": "stdout"
        }
      ]
    },
    {
      "cell_type": "code",
      "metadata": {
        "id": "ZIYGfDlZXup4"
      },
      "source": [
        ""
      ],
      "execution_count": null,
      "outputs": []
    },
    {
      "cell_type": "code",
      "metadata": {
        "id": "LXWhvR19XubU"
      },
      "source": [
        ""
      ],
      "execution_count": null,
      "outputs": []
    },
    {
      "cell_type": "code",
      "metadata": {
        "id": "5DbqW7aG45vQ"
      },
      "source": [
        "#Another version/combinations of route \n",
        "# trying to fix one hot encoding\n",
        "\n",
        "#X_train_under_1 = training_df.drop(\"occupancy\", axis=\"columns\")\n",
        "#y_train_under_1 = training_df[\"occupancy\"]"
      ],
      "execution_count": null,
      "outputs": []
    },
    {
      "cell_type": "code",
      "metadata": {
        "id": "UmOKeuNC45o2"
      },
      "source": [
        "## beginning of undersampling with previous cell as guide\n",
        "#class count\n",
        "count_class_0, count_class_1 = training_df.occupancy.value_counts()\n",
        "\n",
        "#Divide by class\n",
        "df_class_0 = training_df[training_df[\"occupancy\"]==0]\n",
        "df_class_1 = training_df[training_df[\"occupancy\"]==1]"
      ],
      "execution_count": 87,
      "outputs": []
    },
    {
      "cell_type": "code",
      "metadata": {
        "id": "CwYDmTL_7fiE"
      },
      "source": [
        "#count_class_0 , count_class_1"
      ],
      "execution_count": 88,
      "outputs": []
    },
    {
      "cell_type": "code",
      "metadata": {
        "id": "7pdDEIuD45i5"
      },
      "source": [
        "#df_class_0.shape"
      ],
      "execution_count": 89,
      "outputs": []
    },
    {
      "cell_type": "code",
      "metadata": {
        "id": "Z_aldrZf45ev"
      },
      "source": [
        "#df_class_1.shape"
      ],
      "execution_count": 90,
      "outputs": []
    },
    {
      "cell_type": "code",
      "metadata": {
        "colab": {
          "base_uri": "https://localhost:8080/"
        },
        "id": "fGkznPepCZhm",
        "outputId": "0c62a31f-ffca-45d6-8ea7-7097ad963e86"
      },
      "source": [
        "#Oversampling is attempted from here on to see if classification report values would improve\n",
        "\n",
        "df_over_1 = df_class_1.sample(count_class_0, replace=True) #oversample\n",
        "\n",
        "df_oversampling = pd.concat([df_class_0, df_over_1], axis=0)\n",
        "\n",
        "print(df_oversampling.occupancy.value_counts() )"
      ],
      "execution_count": 91,
      "outputs": [
        {
          "output_type": "stream",
          "text": [
            "1    1038\n",
            "0    1038\n",
            "Name: occupancy, dtype: int64\n"
          ],
          "name": "stdout"
        }
      ]
    },
    {
      "cell_type": "code",
      "metadata": {
        "id": "mSsOlq7zFK4R"
      },
      "source": [
        "X_over = df_oversampling.drop(\"occupancy\", axis=\"columns\") #oversampling\n",
        "y_over = df_oversampling[\"occupancy\"]"
      ],
      "execution_count": 92,
      "outputs": []
    },
    {
      "cell_type": "code",
      "metadata": {
        "colab": {
          "base_uri": "https://localhost:8080/"
        },
        "id": "wNEtwi-tFZ76",
        "outputId": "46c0be25-9ad7-4505-ee77-ba3537277284"
      },
      "source": [
        "y_over.value_counts() #oversampling"
      ],
      "execution_count": 93,
      "outputs": [
        {
          "output_type": "execute_result",
          "data": {
            "text/plain": [
              "1    1038\n",
              "0    1038\n",
              "Name: occupancy, dtype: int64"
            ]
          },
          "metadata": {
            "tags": []
          },
          "execution_count": 93
        }
      ]
    },
    {
      "cell_type": "code",
      "metadata": {
        "id": "zspulQUqFmQS"
      },
      "source": [
        "from sklearn.preprocessing import OneHotEncoder #oversampling\n",
        "ohe_over=OneHotEncoder(handle_unknown='ignore')\n",
        "X_over_hot=ohe_over.fit_transform(X_over)"
      ],
      "execution_count": 94,
      "outputs": []
    },
    {
      "cell_type": "code",
      "metadata": {
        "colab": {
          "base_uri": "https://localhost:8080/"
        },
        "id": "AGGaHFfmFmGW",
        "outputId": "fb817767-2f8d-4201-97b9-07fc9ccbbb6f"
      },
      "source": [
        "from sklearn.ensemble import RandomForestClassifier   #oversampling\n",
        "\n",
        "clf = RandomForestClassifier(max_depth=3, random_state=0)\n",
        "#clf.fit(trainingdata_encode_shuffle, train_label_shuffle)\n",
        "#print(clf.predict([[0, 0, 0, 0]]))\n",
        "#my second version\n",
        "#clf.fit(trainingdata_encode, train_label)\n",
        "\n",
        "#bus_df_encode variables\n",
        "clf.fit(X_over_hot, y_over)"
      ],
      "execution_count": 95,
      "outputs": [
        {
          "output_type": "execute_result",
          "data": {
            "text/plain": [
              "RandomForestClassifier(bootstrap=True, ccp_alpha=0.0, class_weight=None,\n",
              "                       criterion='gini', max_depth=3, max_features='auto',\n",
              "                       max_leaf_nodes=None, max_samples=None,\n",
              "                       min_impurity_decrease=0.0, min_impurity_split=None,\n",
              "                       min_samples_leaf=1, min_samples_split=2,\n",
              "                       min_weight_fraction_leaf=0.0, n_estimators=100,\n",
              "                       n_jobs=None, oob_score=False, random_state=0, verbose=0,\n",
              "                       warm_start=False)"
            ]
          },
          "metadata": {
            "tags": []
          },
          "execution_count": 95
        }
      ]
    },
    {
      "cell_type": "code",
      "metadata": {
        "id": "1isAqQ0tFl8o"
      },
      "source": [
        "X_test_over = testing_df.drop(\"occupancy\", axis=\"columns\")#oversampling\n",
        "y_test_over = testing_df[\"occupancy\"]"
      ],
      "execution_count": 96,
      "outputs": []
    },
    {
      "cell_type": "code",
      "metadata": {
        "id": "KZk6r2VmGNM6"
      },
      "source": [
        "X_test_over=ohe_over.transform(X_test_over) #oversampling"
      ],
      "execution_count": 97,
      "outputs": []
    },
    {
      "cell_type": "code",
      "metadata": {
        "id": "kjLepVIuGNGC"
      },
      "source": [
        "pred_over = clf.predict(X_test_over) #oversampling"
      ],
      "execution_count": 98,
      "outputs": []
    },
    {
      "cell_type": "code",
      "metadata": {
        "colab": {
          "base_uri": "https://localhost:8080/"
        },
        "id": "zS1YBA1gGNAu",
        "outputId": "24354223-1834-4272-872c-706a9482cee0"
      },
      "source": [
        "pred_over[:10] #oversampling"
      ],
      "execution_count": 99,
      "outputs": [
        {
          "output_type": "execute_result",
          "data": {
            "text/plain": [
              "array([0, 0, 1, 0, 1, 1, 1, 1, 1, 0])"
            ]
          },
          "metadata": {
            "tags": []
          },
          "execution_count": 99
        }
      ]
    },
    {
      "cell_type": "code",
      "metadata": {
        "colab": {
          "base_uri": "https://localhost:8080/"
        },
        "id": "FPf5WrlRHEy1",
        "outputId": "489af384-d4bb-4495-9216-95d33e4989a5"
      },
      "source": [
        "y_test_over[:10] #oversampling"
      ],
      "execution_count": 100,
      "outputs": [
        {
          "output_type": "execute_result",
          "data": {
            "text/plain": [
              "0    0\n",
              "1    0\n",
              "2    0\n",
              "3    0\n",
              "4    0\n",
              "5    0\n",
              "6    0\n",
              "7    0\n",
              "8    0\n",
              "9    0\n",
              "Name: occupancy, dtype: int64"
            ]
          },
          "metadata": {
            "tags": []
          },
          "execution_count": 100
        }
      ]
    },
    {
      "cell_type": "code",
      "metadata": {
        "colab": {
          "base_uri": "https://localhost:8080/"
        },
        "id": "uWWsCnkuHEra",
        "outputId": "13b725b1-4eae-47c3-cdc2-a19cd93ea707"
      },
      "source": [
        "from sklearn.metrics import  confusion_matrix, classification_report #oversampling\n",
        "\n",
        "print(classification_report (y_test_over, pred_over) )"
      ],
      "execution_count": 101,
      "outputs": [
        {
          "output_type": "stream",
          "text": [
            "              precision    recall  f1-score   support\n",
            "\n",
            "           0       0.97      0.56      0.71       343\n",
            "           1       0.07      0.67      0.13        18\n",
            "\n",
            "    accuracy                           0.57       361\n",
            "   macro avg       0.52      0.61      0.42       361\n",
            "weighted avg       0.93      0.57      0.68       361\n",
            "\n"
          ],
          "name": "stdout"
        }
      ]
    },
    {
      "cell_type": "code",
      "metadata": {
        "id": "GzE7v3zIHEmM"
      },
      "source": [
        ""
      ],
      "execution_count": null,
      "outputs": []
    },
    {
      "cell_type": "code",
      "metadata": {
        "colab": {
          "base_uri": "https://localhost:8080/"
        },
        "id": "oGfWc5NR7NpM",
        "outputId": "944873a8-5b32-4e66-f1ea-35374a030217"
      },
      "source": [
        "# this step involved undersampling to see if clasification report would be improved\n",
        "df_class_0_under = df_class_0.sample(count_class_1)\n",
        "\n",
        "df_test_under = pd.concat([df_class_0_under, df_class_1], axis=0)\n",
        "\n",
        "\n",
        "print(df_test_under.occupancy.value_counts() )"
      ],
      "execution_count": 102,
      "outputs": [
        {
          "output_type": "stream",
          "text": [
            "1    43\n",
            "0    43\n",
            "Name: occupancy, dtype: int64\n"
          ],
          "name": "stdout"
        }
      ]
    },
    {
      "cell_type": "code",
      "metadata": {
        "id": "IdlSGqb-9mWL"
      },
      "source": [
        "X = df_test_under.drop(\"occupancy\", axis=\"columns\")\n",
        "y = df_test_under[\"occupancy\"]"
      ],
      "execution_count": 104,
      "outputs": []
    },
    {
      "cell_type": "code",
      "metadata": {
        "colab": {
          "base_uri": "https://localhost:8080/"
        },
        "id": "fUNX5FWc-2WI",
        "outputId": "4d483664-8e8f-424f-8163-39f6ef9716b2"
      },
      "source": [
        "y.value_counts()"
      ],
      "execution_count": 105,
      "outputs": [
        {
          "output_type": "execute_result",
          "data": {
            "text/plain": [
              "1    43\n",
              "0    43\n",
              "Name: occupancy, dtype: int64"
            ]
          },
          "metadata": {
            "tags": []
          },
          "execution_count": 105
        }
      ]
    },
    {
      "cell_type": "code",
      "metadata": {
        "id": "Brod2eU6-kwN"
      },
      "source": [
        "from sklearn.preprocessing import OneHotEncoder\n",
        "ohe_1=OneHotEncoder(handle_unknown='ignore')\n",
        "X_hot=ohe_1.fit_transform(X)\n",
        "#X_test_hot_route_1=ohe_1.transform(X_test_route_1)"
      ],
      "execution_count": 106,
      "outputs": []
    },
    {
      "cell_type": "code",
      "metadata": {
        "colab": {
          "base_uri": "https://localhost:8080/"
        },
        "id": "-tolVsW2AWLQ",
        "outputId": "320159ab-1d7b-4d09-e56a-c6f52ce64b94"
      },
      "source": [
        "from sklearn.ensemble import RandomForestClassifier\n",
        "\n",
        "clf = RandomForestClassifier(max_depth=3, random_state=0)\n",
        "#clf.fit(trainingdata_encode_shuffle, train_label_shuffle)\n",
        "#print(clf.predict([[0, 0, 0, 0]]))\n",
        "#my second version\n",
        "#clf.fit(trainingdata_encode, train_label)\n",
        "\n",
        "#bus_df_encode variables\n",
        "clf.fit(X_hot, y)"
      ],
      "execution_count": 107,
      "outputs": [
        {
          "output_type": "execute_result",
          "data": {
            "text/plain": [
              "RandomForestClassifier(bootstrap=True, ccp_alpha=0.0, class_weight=None,\n",
              "                       criterion='gini', max_depth=3, max_features='auto',\n",
              "                       max_leaf_nodes=None, max_samples=None,\n",
              "                       min_impurity_decrease=0.0, min_impurity_split=None,\n",
              "                       min_samples_leaf=1, min_samples_split=2,\n",
              "                       min_weight_fraction_leaf=0.0, n_estimators=100,\n",
              "                       n_jobs=None, oob_score=False, random_state=0, verbose=0,\n",
              "                       warm_start=False)"
            ]
          },
          "metadata": {
            "tags": []
          },
          "execution_count": 107
        }
      ]
    },
    {
      "cell_type": "code",
      "metadata": {
        "id": "rrEMQlXmAWDU"
      },
      "source": [
        "X_test_1 = testing_df.drop(\"occupancy\", axis=\"columns\")\n",
        "y_test_1 = testing_df[\"occupancy\"]"
      ],
      "execution_count": 108,
      "outputs": []
    },
    {
      "cell_type": "code",
      "metadata": {
        "id": "Ty2sk1HcAV2f"
      },
      "source": [
        "X_test_hot_1=ohe_1.transform(X_test_1)"
      ],
      "execution_count": 109,
      "outputs": []
    },
    {
      "cell_type": "code",
      "metadata": {
        "id": "BQb80WVLAVvV"
      },
      "source": [
        "pred_under_1 = clf.predict(X_test_hot_1)"
      ],
      "execution_count": 110,
      "outputs": []
    },
    {
      "cell_type": "code",
      "metadata": {
        "colab": {
          "base_uri": "https://localhost:8080/"
        },
        "id": "NgjhY5muBh0F",
        "outputId": "3ecafd63-cf5f-482c-ade9-ba8826a48c95"
      },
      "source": [
        "pred_under_1[:10]"
      ],
      "execution_count": 111,
      "outputs": [
        {
          "output_type": "execute_result",
          "data": {
            "text/plain": [
              "array([0, 0, 0, 0, 1, 1, 1, 1, 1, 0])"
            ]
          },
          "metadata": {
            "tags": []
          },
          "execution_count": 111
        }
      ]
    },
    {
      "cell_type": "code",
      "metadata": {
        "colab": {
          "base_uri": "https://localhost:8080/"
        },
        "id": "O3zWW7x2Bmhr",
        "outputId": "ef53a8b0-29e8-4113-9a8a-6284a149f032"
      },
      "source": [
        "y_test_1[:10]"
      ],
      "execution_count": 112,
      "outputs": [
        {
          "output_type": "execute_result",
          "data": {
            "text/plain": [
              "0    0\n",
              "1    0\n",
              "2    0\n",
              "3    0\n",
              "4    0\n",
              "5    0\n",
              "6    0\n",
              "7    0\n",
              "8    0\n",
              "9    0\n",
              "Name: occupancy, dtype: int64"
            ]
          },
          "metadata": {
            "tags": []
          },
          "execution_count": 112
        }
      ]
    },
    {
      "cell_type": "code",
      "metadata": {
        "colab": {
          "base_uri": "https://localhost:8080/"
        },
        "id": "EtD0AusDB14p",
        "outputId": "3b68256c-8efd-46c8-9f38-c55215ada00a"
      },
      "source": [
        "from sklearn.metrics import  confusion_matrix, classification_report\n",
        "\n",
        "print(classification_report (y_test_1, pred_under_1) )"
      ],
      "execution_count": 113,
      "outputs": [
        {
          "output_type": "stream",
          "text": [
            "              precision    recall  f1-score   support\n",
            "\n",
            "           0       0.97      0.59      0.74       343\n",
            "           1       0.08      0.67      0.14        18\n",
            "\n",
            "    accuracy                           0.60       361\n",
            "   macro avg       0.53      0.63      0.44       361\n",
            "weighted avg       0.93      0.60      0.71       361\n",
            "\n"
          ],
          "name": "stdout"
        }
      ]
    }
  ]
}