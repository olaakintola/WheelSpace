{
  "nbformat": 4,
  "nbformat_minor": 0,
  "metadata": {
    "colab": {
      "name": "BusSmote.ipynb",
      "provenance": [],
      "collapsed_sections": [],
      "authorship_tag": "ABX9TyOSFFrXix7noQrW8dnRt73y",
      "include_colab_link": true
    },
    "kernelspec": {
      "name": "python3",
      "display_name": "Python 3"
    },
    "language_info": {
      "name": "python"
    }
  },
  "cells": [
    {
      "cell_type": "markdown",
      "metadata": {
        "id": "view-in-github",
        "colab_type": "text"
      },
      "source": [
        "<a href=\"https://colab.research.google.com/github/olaakintola/WheelSpace/blob/main/BusSmote.ipynb\" target=\"_parent\"><img src=\"https://colab.research.google.com/assets/colab-badge.svg\" alt=\"Open In Colab\"/></a>"
      ]
    },
    {
      "cell_type": "code",
      "metadata": {
        "id": "otyyIeG2in1X"
      },
      "source": [
        "#SMOTE, ENTIRE BUS DATA READ INTO CODELAB TRAIN-TEST SPLIT\n",
        "\n",
        "# The machine learning model was created reading the entire bus data and \n",
        "# splitting into training and test datasets using train-test-split function \n",
        "# from sklearn. SMOTE Sampling technique was used to augument the training dataset.\n",
        "# Random Forest classifier was used here.\n",
        "\n",
        "# smote sampling technique was used with xgboost in the second part of this code\n",
        "\n",
        "!pip install -q sklearn"
      ],
      "execution_count": 1,
      "outputs": []
    },
    {
      "cell_type": "code",
      "metadata": {
        "id": "115kpJe4i62z"
      },
      "source": [
        "%tensorflow_version 2.x"
      ],
      "execution_count": 2,
      "outputs": []
    },
    {
      "cell_type": "code",
      "metadata": {
        "colab": {
          "base_uri": "https://localhost:8080/"
        },
        "id": "nvGiLvtQi6rl",
        "outputId": "673220a6-7745-44b1-fa27-5587b31b8cc9"
      },
      "source": [
        "from __future__ import absolute_import, division, print_function,unicode_literals\n",
        "\n",
        "import numpy as np\n",
        "import pandas as pd\n",
        "import matplotlib.pyplot as plt\n",
        "from IPython.display import clear_output\n",
        "from six.moves import urllib\n",
        "\n",
        "import tensorflow.compat.v2.feature_column as fc\n",
        "\n",
        "import tensorflow as tf\n",
        "\n",
        "from google.colab import drive\n",
        "drive.mount('/content/drive')"
      ],
      "execution_count": 3,
      "outputs": [
        {
          "output_type": "stream",
          "text": [
            "Mounted at /content/drive\n"
          ],
          "name": "stdout"
        }
      ]
    },
    {
      "cell_type": "code",
      "metadata": {
        "id": "vVp4m1rgi6nZ"
      },
      "source": [
        "bus_df = pd.read_csv(\"/content/drive/My Drive/Colab Notebooks/busdata.csv\")\n"
      ],
      "execution_count": 4,
      "outputs": []
    },
    {
      "cell_type": "code",
      "metadata": {
        "id": "E1jqWaZqi6jw"
      },
      "source": [
        "bus_df[\"wheeloccupancy\"] = bus_df[\"wheeloccupancy\"].fillna(0).astype(int)"
      ],
      "execution_count": 5,
      "outputs": []
    },
    {
      "cell_type": "code",
      "metadata": {
        "colab": {
          "base_uri": "https://localhost:8080/"
        },
        "id": "eqGpKF_Ui6d9",
        "outputId": "00a8d8b6-3ab5-4a32-8432-2f7f13d7fe17"
      },
      "source": [
        "bus_df[\"wheeloccupancy\"]"
      ],
      "execution_count": 6,
      "outputs": [
        {
          "output_type": "execute_result",
          "data": {
            "text/plain": [
              "0         0\n",
              "1         0\n",
              "2         0\n",
              "3         0\n",
              "4         0\n",
              "         ..\n",
              "145436    0\n",
              "145437    0\n",
              "145438    0\n",
              "145439    0\n",
              "145440    0\n",
              "Name: wheeloccupancy, Length: 145441, dtype: int64"
            ]
          },
          "metadata": {
            "tags": []
          },
          "execution_count": 6
        }
      ]
    },
    {
      "cell_type": "code",
      "metadata": {
        "colab": {
          "base_uri": "https://localhost:8080/"
        },
        "id": "TGbfgywbi6bF",
        "outputId": "a8e1fabd-dc54-40d9-ace8-d414159e9dc9"
      },
      "source": [
        "bus_df.shape"
      ],
      "execution_count": 7,
      "outputs": [
        {
          "output_type": "execute_result",
          "data": {
            "text/plain": [
              "(145441, 6)"
            ]
          },
          "metadata": {
            "tags": []
          },
          "execution_count": 7
        }
      ]
    },
    {
      "cell_type": "code",
      "metadata": {
        "colab": {
          "base_uri": "https://localhost:8080/",
          "height": 204
        },
        "id": "bSPP228Gi6YN",
        "outputId": "616b9fc2-6117-42d0-cdef-593ad912441a"
      },
      "source": [
        "bus_df.sample(5)"
      ],
      "execution_count": 8,
      "outputs": [
        {
          "output_type": "execute_result",
          "data": {
            "text/html": [
              "<div>\n",
              "<style scoped>\n",
              "    .dataframe tbody tr th:only-of-type {\n",
              "        vertical-align: middle;\n",
              "    }\n",
              "\n",
              "    .dataframe tbody tr th {\n",
              "        vertical-align: top;\n",
              "    }\n",
              "\n",
              "    .dataframe thead th {\n",
              "        text-align: right;\n",
              "    }\n",
              "</style>\n",
              "<table border=\"1\" class=\"dataframe\">\n",
              "  <thead>\n",
              "    <tr style=\"text-align: right;\">\n",
              "      <th></th>\n",
              "      <th>route</th>\n",
              "      <th>times</th>\n",
              "      <th>days</th>\n",
              "      <th>wheeloccupancy</th>\n",
              "      <th>departure</th>\n",
              "      <th>destination</th>\n",
              "    </tr>\n",
              "  </thead>\n",
              "  <tbody>\n",
              "    <tr>\n",
              "      <th>140905</th>\n",
              "      <td>25X</td>\n",
              "      <td>08:00</td>\n",
              "      <td>wed</td>\n",
              "      <td>0</td>\n",
              "      <td>NaN</td>\n",
              "      <td>NaN</td>\n",
              "    </tr>\n",
              "    <tr>\n",
              "      <th>144736</th>\n",
              "      <td>77X</td>\n",
              "      <td>11:00</td>\n",
              "      <td>tues</td>\n",
              "      <td>0</td>\n",
              "      <td>NaN</td>\n",
              "      <td>NaN</td>\n",
              "    </tr>\n",
              "    <tr>\n",
              "      <th>125651</th>\n",
              "      <td>66</td>\n",
              "      <td>18:00</td>\n",
              "      <td>mon</td>\n",
              "      <td>0</td>\n",
              "      <td>NaN</td>\n",
              "      <td>NaN</td>\n",
              "    </tr>\n",
              "    <tr>\n",
              "      <th>143003</th>\n",
              "      <td>44</td>\n",
              "      <td>18:00</td>\n",
              "      <td>tues</td>\n",
              "      <td>0</td>\n",
              "      <td>NaN</td>\n",
              "      <td>NaN</td>\n",
              "    </tr>\n",
              "    <tr>\n",
              "      <th>108410</th>\n",
              "      <td>77X</td>\n",
              "      <td>09:00</td>\n",
              "      <td>fri</td>\n",
              "      <td>0</td>\n",
              "      <td>NaN</td>\n",
              "      <td>NaN</td>\n",
              "    </tr>\n",
              "  </tbody>\n",
              "</table>\n",
              "</div>"
            ],
            "text/plain": [
              "       route  times  days  wheeloccupancy departure destination\n",
              "140905   25X  08:00   wed               0       NaN         NaN\n",
              "144736   77X  11:00  tues               0       NaN         NaN\n",
              "125651    66  18:00   mon               0       NaN         NaN\n",
              "143003    44  18:00  tues               0       NaN         NaN\n",
              "108410   77X  09:00   fri               0       NaN         NaN"
            ]
          },
          "metadata": {
            "tags": []
          },
          "execution_count": 8
        }
      ]
    },
    {
      "cell_type": "code",
      "metadata": {
        "id": "kVuZxbyoi6VC"
      },
      "source": [
        "bus_df.fillna('', inplace=True)"
      ],
      "execution_count": 9,
      "outputs": []
    },
    {
      "cell_type": "code",
      "metadata": {
        "colab": {
          "base_uri": "https://localhost:8080/",
          "height": 204
        },
        "id": "hoWT8tmyi6SL",
        "outputId": "1a42b39f-a67e-4e07-9555-36a66ede6d4d"
      },
      "source": [
        "bus_df.sample(5)"
      ],
      "execution_count": 10,
      "outputs": [
        {
          "output_type": "execute_result",
          "data": {
            "text/html": [
              "<div>\n",
              "<style scoped>\n",
              "    .dataframe tbody tr th:only-of-type {\n",
              "        vertical-align: middle;\n",
              "    }\n",
              "\n",
              "    .dataframe tbody tr th {\n",
              "        vertical-align: top;\n",
              "    }\n",
              "\n",
              "    .dataframe thead th {\n",
              "        text-align: right;\n",
              "    }\n",
              "</style>\n",
              "<table border=\"1\" class=\"dataframe\">\n",
              "  <thead>\n",
              "    <tr style=\"text-align: right;\">\n",
              "      <th></th>\n",
              "      <th>route</th>\n",
              "      <th>times</th>\n",
              "      <th>days</th>\n",
              "      <th>wheeloccupancy</th>\n",
              "      <th>departure</th>\n",
              "      <th>destination</th>\n",
              "    </tr>\n",
              "  </thead>\n",
              "  <tbody>\n",
              "    <tr>\n",
              "      <th>141251</th>\n",
              "      <td>29A</td>\n",
              "      <td>18:00</td>\n",
              "      <td>mon</td>\n",
              "      <td>0</td>\n",
              "      <td></td>\n",
              "      <td></td>\n",
              "    </tr>\n",
              "    <tr>\n",
              "      <th>82572</th>\n",
              "      <td>46E</td>\n",
              "      <td>07:00</td>\n",
              "      <td>tues</td>\n",
              "      <td>0</td>\n",
              "      <td></td>\n",
              "      <td></td>\n",
              "    </tr>\n",
              "    <tr>\n",
              "      <th>47159</th>\n",
              "      <td>66X</td>\n",
              "      <td>18:00</td>\n",
              "      <td>fri</td>\n",
              "      <td>0</td>\n",
              "      <td></td>\n",
              "      <td></td>\n",
              "    </tr>\n",
              "    <tr>\n",
              "      <th>55992</th>\n",
              "      <td>25B</td>\n",
              "      <td>07:00</td>\n",
              "      <td>tues</td>\n",
              "      <td>0</td>\n",
              "      <td></td>\n",
              "      <td></td>\n",
              "    </tr>\n",
              "    <tr>\n",
              "      <th>98840</th>\n",
              "      <td>29A</td>\n",
              "      <td>15:00</td>\n",
              "      <td>tues</td>\n",
              "      <td>0</td>\n",
              "      <td></td>\n",
              "      <td></td>\n",
              "    </tr>\n",
              "  </tbody>\n",
              "</table>\n",
              "</div>"
            ],
            "text/plain": [
              "       route  times  days  wheeloccupancy departure destination\n",
              "141251   29A  18:00   mon               0                      \n",
              "82572    46E  07:00  tues               0                      \n",
              "47159    66X  18:00   fri               0                      \n",
              "55992    25B  07:00  tues               0                      \n",
              "98840    29A  15:00  tues               0                      "
            ]
          },
          "metadata": {
            "tags": []
          },
          "execution_count": 10
        }
      ]
    },
    {
      "cell_type": "code",
      "metadata": {
        "colab": {
          "base_uri": "https://localhost:8080/",
          "height": 419
        },
        "id": "P6tVdHrli6O6",
        "outputId": "60a117a3-b9ec-4335-ff99-82e003fee6f8"
      },
      "source": [
        "bus_df[bus_df.wheeloccupancy==1]"
      ],
      "execution_count": 11,
      "outputs": [
        {
          "output_type": "execute_result",
          "data": {
            "text/html": [
              "<div>\n",
              "<style scoped>\n",
              "    .dataframe tbody tr th:only-of-type {\n",
              "        vertical-align: middle;\n",
              "    }\n",
              "\n",
              "    .dataframe tbody tr th {\n",
              "        vertical-align: top;\n",
              "    }\n",
              "\n",
              "    .dataframe thead th {\n",
              "        text-align: right;\n",
              "    }\n",
              "</style>\n",
              "<table border=\"1\" class=\"dataframe\">\n",
              "  <thead>\n",
              "    <tr style=\"text-align: right;\">\n",
              "      <th></th>\n",
              "      <th>route</th>\n",
              "      <th>times</th>\n",
              "      <th>days</th>\n",
              "      <th>wheeloccupancy</th>\n",
              "      <th>departure</th>\n",
              "      <th>destination</th>\n",
              "    </tr>\n",
              "  </thead>\n",
              "  <tbody>\n",
              "    <tr>\n",
              "      <th>86</th>\n",
              "      <td>11</td>\n",
              "      <td>09:00</td>\n",
              "      <td>wed</td>\n",
              "      <td>1</td>\n",
              "      <td>\"Drummartin Park, stop 3024\"</td>\n",
              "      <td>\"Parnell Square West, stop 10\"</td>\n",
              "    </tr>\n",
              "    <tr>\n",
              "      <th>126</th>\n",
              "      <td>116</td>\n",
              "      <td>13:00</td>\n",
              "      <td>mon</td>\n",
              "      <td>1</td>\n",
              "      <td>\"Teresian School, stop 771\"</td>\n",
              "      <td>\"Stillorgan College, stop 2011\"</td>\n",
              "    </tr>\n",
              "    <tr>\n",
              "      <th>134</th>\n",
              "      <td>116</td>\n",
              "      <td>09:00</td>\n",
              "      <td>tues</td>\n",
              "      <td>1</td>\n",
              "      <td>\"Stillorgan Luas, stop 7057\"</td>\n",
              "      <td>\"Carmanhall Road, stop 3181\"</td>\n",
              "    </tr>\n",
              "    <tr>\n",
              "      <th>182</th>\n",
              "      <td>118</td>\n",
              "      <td>09:00</td>\n",
              "      <td>mon</td>\n",
              "      <td>1</td>\n",
              "      <td>\"St Johns Ambulance, stop 907\"</td>\n",
              "      <td>\"Donnybrook Garda Stn, stop 774\"</td>\n",
              "    </tr>\n",
              "    <tr>\n",
              "      <th>243</th>\n",
              "      <td>120</td>\n",
              "      <td>10:00</td>\n",
              "      <td>mon</td>\n",
              "      <td>1</td>\n",
              "      <td>\"Naomh Fionnbarra GAA, stop 4485\"</td>\n",
              "      <td>\"St Finbar's Road, stop 829\"</td>\n",
              "    </tr>\n",
              "    <tr>\n",
              "      <th>...</th>\n",
              "      <td>...</td>\n",
              "      <td>...</td>\n",
              "      <td>...</td>\n",
              "      <td>...</td>\n",
              "      <td>...</td>\n",
              "      <td>...</td>\n",
              "    </tr>\n",
              "    <tr>\n",
              "      <th>145264</th>\n",
              "      <td>84A</td>\n",
              "      <td>11:00</td>\n",
              "      <td>mon</td>\n",
              "      <td>1</td>\n",
              "      <td>\"St John's Church, stop 3080\"</td>\n",
              "      <td>\"Old Connaught Avenue, stop 4129\"</td>\n",
              "    </tr>\n",
              "    <tr>\n",
              "      <th>145275</th>\n",
              "      <td>84A</td>\n",
              "      <td>10:00</td>\n",
              "      <td>tues</td>\n",
              "      <td>1</td>\n",
              "      <td>\"Castle Street, stop 4130\"</td>\n",
              "      <td>\"Merrion Gates, stop 476\"</td>\n",
              "    </tr>\n",
              "    <tr>\n",
              "      <th>145299</th>\n",
              "      <td>84A</td>\n",
              "      <td>10:00</td>\n",
              "      <td>thurs</td>\n",
              "      <td>1</td>\n",
              "      <td>\"St James's Church, stop 4203\"</td>\n",
              "      <td>\"Shrewsbury Lawn, stop 3130\"</td>\n",
              "    </tr>\n",
              "    <tr>\n",
              "      <th>145324</th>\n",
              "      <td>84X</td>\n",
              "      <td>11:00</td>\n",
              "      <td>mon</td>\n",
              "      <td>1</td>\n",
              "      <td>\"St Anthony Church, stop 4268\"</td>\n",
              "      <td>\"Greystones Station, stop 4283\"</td>\n",
              "    </tr>\n",
              "    <tr>\n",
              "      <th>145334</th>\n",
              "      <td>84X</td>\n",
              "      <td>09:00</td>\n",
              "      <td>tues</td>\n",
              "      <td>1</td>\n",
              "      <td>\"Kilcoole Road, stop 4230\"</td>\n",
              "      <td>\"Science Gallery, stop 7587\"</td>\n",
              "    </tr>\n",
              "  </tbody>\n",
              "</table>\n",
              "<p>6784 rows × 6 columns</p>\n",
              "</div>"
            ],
            "text/plain": [
              "       route  ...                        destination\n",
              "86        11  ...     \"Parnell Square West, stop 10\"\n",
              "126      116  ...    \"Stillorgan College, stop 2011\"\n",
              "134      116  ...       \"Carmanhall Road, stop 3181\"\n",
              "182      118  ...   \"Donnybrook Garda Stn, stop 774\"\n",
              "243      120  ...       \"St Finbar's Road, stop 829\"\n",
              "...      ...  ...                                ...\n",
              "145264   84A  ...  \"Old Connaught Avenue, stop 4129\"\n",
              "145275   84A  ...          \"Merrion Gates, stop 476\"\n",
              "145299   84A  ...       \"Shrewsbury Lawn, stop 3130\"\n",
              "145324   84X  ...    \"Greystones Station, stop 4283\"\n",
              "145334   84X  ...       \"Science Gallery, stop 7587\"\n",
              "\n",
              "[6784 rows x 6 columns]"
            ]
          },
          "metadata": {
            "tags": []
          },
          "execution_count": 11
        }
      ]
    },
    {
      "cell_type": "code",
      "metadata": {
        "id": "bowMIYtji6La"
      },
      "source": [
        "bus_df[\"departure\"] = [x.replace(\"'\",\"\").replace('\"','') for x in bus_df[\"departure\"]]"
      ],
      "execution_count": 12,
      "outputs": []
    },
    {
      "cell_type": "code",
      "metadata": {
        "id": "AV7U6jDji6IK"
      },
      "source": [
        "bus_df[\"destination\"] = [x.replace(\"'\",\"\").replace('\"','') for x in bus_df[\"destination\"]]"
      ],
      "execution_count": 13,
      "outputs": []
    },
    {
      "cell_type": "code",
      "metadata": {
        "id": "OpCUekIei6FQ"
      },
      "source": [
        "bus_df.drop(\"departure\", axis=\"columns\", inplace=True)"
      ],
      "execution_count": 14,
      "outputs": []
    },
    {
      "cell_type": "code",
      "metadata": {
        "id": "QnqUiYiIkd-6"
      },
      "source": [
        "bus_df.drop(\"destination\", axis=\"columns\", inplace=True)"
      ],
      "execution_count": 15,
      "outputs": []
    },
    {
      "cell_type": "code",
      "metadata": {
        "colab": {
          "base_uri": "https://localhost:8080/"
        },
        "id": "PGPZJd8AkXS_",
        "outputId": "289e9a4b-71ce-4e1f-d2de-eb6ff515bf13"
      },
      "source": [
        "bus_df.dtypes"
      ],
      "execution_count": 16,
      "outputs": [
        {
          "output_type": "execute_result",
          "data": {
            "text/plain": [
              "route             object\n",
              "times             object\n",
              "days              object\n",
              "wheeloccupancy     int64\n",
              "dtype: object"
            ]
          },
          "metadata": {
            "tags": []
          },
          "execution_count": 16
        }
      ]
    },
    {
      "cell_type": "code",
      "metadata": {
        "colab": {
          "base_uri": "https://localhost:8080/",
          "height": 204
        },
        "id": "zD2qpEOLkXM8",
        "outputId": "ef7ea68c-21ad-42da-ee5f-074c4d0d3527"
      },
      "source": [
        "bus_df.head()"
      ],
      "execution_count": 17,
      "outputs": [
        {
          "output_type": "execute_result",
          "data": {
            "text/html": [
              "<div>\n",
              "<style scoped>\n",
              "    .dataframe tbody tr th:only-of-type {\n",
              "        vertical-align: middle;\n",
              "    }\n",
              "\n",
              "    .dataframe tbody tr th {\n",
              "        vertical-align: top;\n",
              "    }\n",
              "\n",
              "    .dataframe thead th {\n",
              "        text-align: right;\n",
              "    }\n",
              "</style>\n",
              "<table border=\"1\" class=\"dataframe\">\n",
              "  <thead>\n",
              "    <tr style=\"text-align: right;\">\n",
              "      <th></th>\n",
              "      <th>route</th>\n",
              "      <th>times</th>\n",
              "      <th>days</th>\n",
              "      <th>wheeloccupancy</th>\n",
              "    </tr>\n",
              "  </thead>\n",
              "  <tbody>\n",
              "    <tr>\n",
              "      <th>0</th>\n",
              "      <td>1</td>\n",
              "      <td>07:00</td>\n",
              "      <td>mon</td>\n",
              "      <td>0</td>\n",
              "    </tr>\n",
              "    <tr>\n",
              "      <th>1</th>\n",
              "      <td>1</td>\n",
              "      <td>08:00</td>\n",
              "      <td>mon</td>\n",
              "      <td>0</td>\n",
              "    </tr>\n",
              "    <tr>\n",
              "      <th>2</th>\n",
              "      <td>1</td>\n",
              "      <td>09:00</td>\n",
              "      <td>mon</td>\n",
              "      <td>0</td>\n",
              "    </tr>\n",
              "    <tr>\n",
              "      <th>3</th>\n",
              "      <td>1</td>\n",
              "      <td>10:00</td>\n",
              "      <td>mon</td>\n",
              "      <td>0</td>\n",
              "    </tr>\n",
              "    <tr>\n",
              "      <th>4</th>\n",
              "      <td>1</td>\n",
              "      <td>11:00</td>\n",
              "      <td>mon</td>\n",
              "      <td>0</td>\n",
              "    </tr>\n",
              "  </tbody>\n",
              "</table>\n",
              "</div>"
            ],
            "text/plain": [
              "  route  times days  wheeloccupancy\n",
              "0     1  07:00  mon               0\n",
              "1     1  08:00  mon               0\n",
              "2     1  09:00  mon               0\n",
              "3     1  10:00  mon               0\n",
              "4     1  11:00  mon               0"
            ]
          },
          "metadata": {
            "tags": []
          },
          "execution_count": 17
        }
      ]
    },
    {
      "cell_type": "code",
      "metadata": {
        "id": "nQZ0SDTUi6g1"
      },
      "source": [
        "\n",
        "X = bus_df.drop(\"wheeloccupancy\", axis=\"columns\")\n",
        "y = bus_df[\"wheeloccupancy\"]"
      ],
      "execution_count": 20,
      "outputs": []
    },
    {
      "cell_type": "code",
      "metadata": {
        "id": "P7nnhLi6Ajav"
      },
      "source": [
        "from sklearn.model_selection import train_test_split\n",
        "X_train, X_test, y_train, y_test = train_test_split(X,y,test_size=0.2,random_state=5) "
      ],
      "execution_count": 22,
      "outputs": []
    },
    {
      "cell_type": "code",
      "metadata": {
        "colab": {
          "base_uri": "https://localhost:8080/",
          "height": 296
        },
        "id": "DFbitK2yFGfs",
        "outputId": "5e8fe23b-0ae4-4d62-dfcd-635b2e166bb9"
      },
      "source": [
        "pd.concat([X_train, y], axis=1).groupby(\"times\").wheeloccupancy.mean().plot(kind=\"barh\").set_xlabel(\"% wheeloccupancy\")"
      ],
      "execution_count": 23,
      "outputs": [
        {
          "output_type": "execute_result",
          "data": {
            "text/plain": [
              "Text(0.5, 0, '% wheeloccupancy')"
            ]
          },
          "metadata": {
            "tags": []
          },
          "execution_count": 23
        },
        {
          "output_type": "display_data",
          "data": {
            "image/png": "[encoded data removed]",
            "text/plain": [
              "<Figure size 432x288 with 1 Axes>"
            ]
          },
          "metadata": {
            "tags": [],
            "needs_background": "light"
          }
        }
      ]
    },
    {
      "cell_type": "code",
      "metadata": {
        "colab": {
          "base_uri": "https://localhost:8080/",
          "height": 296
        },
        "id": "H1i8n4VyFlUc",
        "outputId": "2c71a6f0-932f-4919-dcf5-71e96edf25cc"
      },
      "source": [
        "pd.concat([X_train, y], axis=1).groupby(\"days\").wheeloccupancy.mean().plot(kind=\"barh\").set_xlabel(\"% wheeloccupancy\")"
      ],
      "execution_count": 24,
      "outputs": [
        {
          "output_type": "execute_result",
          "data": {
            "text/plain": [
              "Text(0.5, 0, '% wheeloccupancy')"
            ]
          },
          "metadata": {
            "tags": []
          },
          "execution_count": 24
        },
        {
          "output_type": "display_data",
          "data": {
            "image/png": "[encoded data removed]",
            "text/plain": [
              "<Figure size 432x288 with 1 Axes>"
            ]
          },
          "metadata": {
            "tags": [],
            "needs_background": "light"
          }
        }
      ]
    },
    {
      "cell_type": "code",
      "metadata": {
        "id": "CqYejx6CkXI9"
      },
      "source": [
        "#from sklearn.model_selection import train_test_split\n",
        "#X_train, X_test, y_train, y_test = train_test_split(X,y,test_size=0.2,random_state=5) "
      ],
      "execution_count": null,
      "outputs": []
    },
    {
      "cell_type": "code",
      "metadata": {
        "colab": {
          "base_uri": "https://localhost:8080/"
        },
        "id": "eAQJnd4ilfOm",
        "outputId": "ed781a34-7355-4102-ef4c-8996c3dca81c"
      },
      "source": [
        "import numpy\n",
        "unique, counts = numpy.unique(y_train, return_counts=True)\n",
        "dict(zip(unique, counts))"
      ],
      "execution_count": 25,
      "outputs": [
        {
          "output_type": "execute_result",
          "data": {
            "text/plain": [
              "{0: 110983, 1: 5369}"
            ]
          },
          "metadata": {
            "tags": []
          },
          "execution_count": 25
        }
      ]
    },
    {
      "cell_type": "code",
      "metadata": {
        "id": "u1kgw7w9lfGc"
      },
      "source": [
        "from sklearn.preprocessing import OneHotEncoder\n",
        "ohe=OneHotEncoder(handle_unknown='ignore')\n",
        "X_train_hot=ohe.fit_transform(X_train)\n",
        "X_test_hot=ohe.transform(X_test)"
      ],
      "execution_count": 26,
      "outputs": []
    },
    {
      "cell_type": "code",
      "metadata": {
        "colab": {
          "base_uri": "https://localhost:8080/"
        },
        "id": "ZH1Gk1ymle93",
        "outputId": "f367c11d-6d7a-42b6-d48e-2b5489561630"
      },
      "source": [
        "from imblearn.over_sampling import SMOTE\n",
        "\n",
        "smote = SMOTE(sampling_strategy=\"minority\")\n",
        "X_sm, y_sm = smote.fit_sample(X_train_hot,y_train)"
      ],
      "execution_count": 27,
      "outputs": [
        {
          "output_type": "stream",
          "text": [
            "/usr/local/lib/python3.7/dist-packages/sklearn/externals/six.py:31: FutureWarning: The module is deprecated in version 0.21 and will be removed in version 0.23 since we've dropped support for Python 2.7. Please rely on the official version of six (https://pypi.org/project/six/).\n",
            "  \"(https://pypi.org/project/six/).\", FutureWarning)\n",
            "/usr/local/lib/python3.7/dist-packages/sklearn/utils/deprecation.py:144: FutureWarning: The sklearn.neighbors.base module is  deprecated in version 0.22 and will be removed in version 0.24. The corresponding classes / functions should instead be imported from sklearn.neighbors. Anything that cannot be imported from sklearn.neighbors is now part of the private API.\n",
            "  warnings.warn(message, FutureWarning)\n",
            "/usr/local/lib/python3.7/dist-packages/sklearn/utils/deprecation.py:87: FutureWarning: Function safe_indexing is deprecated; safe_indexing is deprecated in version 0.22 and will be removed in version 0.24.\n",
            "  warnings.warn(msg, category=FutureWarning)\n"
          ],
          "name": "stderr"
        }
      ]
    },
    {
      "cell_type": "code",
      "metadata": {
        "colab": {
          "base_uri": "https://localhost:8080/"
        },
        "id": "T-rDvknGl2XJ",
        "outputId": "6aa756a1-12f2-4064-b8bf-be1d261764e2"
      },
      "source": [
        "from sklearn.ensemble import RandomForestClassifier\n",
        "\n",
        "clf = RandomForestClassifier(max_depth=2, random_state=0)\n",
        "#clf.fit(trainingdata_encode_shuffle, train_label_shuffle)\n",
        "#print(clf.predict([[0, 0, 0, 0]]))\n",
        "#my second version\n",
        "#clf.fit(trainingdata_encode, train_label)\n",
        "\n",
        "#bus_df_encode variables\n",
        "clf.fit(X_sm, y_sm)"
      ],
      "execution_count": 28,
      "outputs": [
        {
          "output_type": "execute_result",
          "data": {
            "text/plain": [
              "RandomForestClassifier(bootstrap=True, ccp_alpha=0.0, class_weight=None,\n",
              "                       criterion='gini', max_depth=2, max_features='auto',\n",
              "                       max_leaf_nodes=None, max_samples=None,\n",
              "                       min_impurity_decrease=0.0, min_impurity_split=None,\n",
              "                       min_samples_leaf=1, min_samples_split=2,\n",
              "                       min_weight_fraction_leaf=0.0, n_estimators=100,\n",
              "                       n_jobs=None, oob_score=False, random_state=0, verbose=0,\n",
              "                       warm_start=False)"
            ]
          },
          "metadata": {
            "tags": []
          },
          "execution_count": 28
        }
      ]
    },
    {
      "cell_type": "code",
      "metadata": {
        "id": "oFnm5DFSl2RU"
      },
      "source": [
        "preds_hot_busdf = clf.predict(X_test_hot) #bus_df  smote version"
      ],
      "execution_count": 29,
      "outputs": []
    },
    {
      "cell_type": "code",
      "metadata": {
        "colab": {
          "base_uri": "https://localhost:8080/"
        },
        "id": "fx0tP3QFl2M8",
        "outputId": "e916228e-58f8-466a-be1b-faac7db2777a"
      },
      "source": [
        "preds_hot_busdf[:10]"
      ],
      "execution_count": 30,
      "outputs": [
        {
          "output_type": "execute_result",
          "data": {
            "text/plain": [
              "array([0, 0, 0, 1, 1, 0, 0, 1, 1, 1])"
            ]
          },
          "metadata": {
            "tags": []
          },
          "execution_count": 30
        }
      ]
    },
    {
      "cell_type": "code",
      "metadata": {
        "colab": {
          "base_uri": "https://localhost:8080/"
        },
        "id": "ZL5mHfiSl2IH",
        "outputId": "829ae483-3f23-4885-dcbc-c800347062b7"
      },
      "source": [
        "y_test[:10]"
      ],
      "execution_count": 31,
      "outputs": [
        {
          "output_type": "execute_result",
          "data": {
            "text/plain": [
              "12684     0\n",
              "11685     0\n",
              "31714     0\n",
              "87103     0\n",
              "121472    0\n",
              "16116     0\n",
              "54594     0\n",
              "110528    0\n",
              "20487     1\n",
              "124328    0\n",
              "Name: wheeloccupancy, dtype: int64"
            ]
          },
          "metadata": {
            "tags": []
          },
          "execution_count": 31
        }
      ]
    },
    {
      "cell_type": "code",
      "metadata": {
        "colab": {
          "base_uri": "https://localhost:8080/"
        },
        "id": "CLtuSwZGl2Dx",
        "outputId": "96b4d19c-38f3-423b-d327-1e20887aa25a"
      },
      "source": [
        "from sklearn.metrics import  confusion_matrix, classification_report\n",
        "\n",
        "print(classification_report (y_test, preds_hot_busdf) )"
      ],
      "execution_count": 32,
      "outputs": [
        {
          "output_type": "stream",
          "text": [
            "              precision    recall  f1-score   support\n",
            "\n",
            "           0       0.98      0.45      0.62     27674\n",
            "           1       0.07      0.83      0.13      1415\n",
            "\n",
            "    accuracy                           0.47     29089\n",
            "   macro avg       0.53      0.64      0.38     29089\n",
            "weighted avg       0.94      0.47      0.60     29089\n",
            "\n"
          ],
          "name": "stdout"
        }
      ]
    },
    {
      "cell_type": "code",
      "metadata": {
        "id": "kEIPO-5pi6Co"
      },
      "source": [
        "# this step involved the use of smote with xgboost\n",
        "import xgboost as xgb"
      ],
      "execution_count": 33,
      "outputs": []
    },
    {
      "cell_type": "code",
      "metadata": {
        "colab": {
          "base_uri": "https://localhost:8080/"
        },
        "id": "j85O_LJJ_Gg-",
        "outputId": "ba65d2bd-b328-421e-9993-2a7815dff9ab"
      },
      "source": [
        "xgb_classifier = xgb.XGBClassifier()\n",
        "xgb_classifier.fit(X_sm,y_sm)\n"
      ],
      "execution_count": 34,
      "outputs": [
        {
          "output_type": "execute_result",
          "data": {
            "text/plain": [
              "XGBClassifier(base_score=0.5, booster='gbtree', colsample_bylevel=1,\n",
              "              colsample_bynode=1, colsample_bytree=1, gamma=0,\n",
              "              learning_rate=0.1, max_delta_step=0, max_depth=3,\n",
              "              min_child_weight=1, missing=None, n_estimators=100, n_jobs=1,\n",
              "              nthread=None, objective='binary:logistic', random_state=0,\n",
              "              reg_alpha=0, reg_lambda=1, scale_pos_weight=1, seed=None,\n",
              "              silent=None, subsample=1, verbosity=1)"
            ]
          },
          "metadata": {
            "tags": []
          },
          "execution_count": 34
        }
      ]
    },
    {
      "cell_type": "code",
      "metadata": {
        "id": "mYXw5HEL_Gaq"
      },
      "source": [
        "xg_predictions = xgb_classifier.predict(X_test_hot)"
      ],
      "execution_count": 35,
      "outputs": []
    },
    {
      "cell_type": "code",
      "metadata": {
        "colab": {
          "base_uri": "https://localhost:8080/"
        },
        "id": "k1pdUvvB_eft",
        "outputId": "b36e4c6a-08ae-4eb6-f989-83285f9e6bec"
      },
      "source": [
        "xg_predictions[:10]"
      ],
      "execution_count": 36,
      "outputs": [
        {
          "output_type": "execute_result",
          "data": {
            "text/plain": [
              "array([0, 0, 0, 1, 1, 0, 1, 1, 1, 1])"
            ]
          },
          "metadata": {
            "tags": []
          },
          "execution_count": 36
        }
      ]
    },
    {
      "cell_type": "code",
      "metadata": {
        "colab": {
          "base_uri": "https://localhost:8080/"
        },
        "id": "8aYIttgH_eWR",
        "outputId": "28eb069a-b6d8-4e36-db9e-ff8ee011b365"
      },
      "source": [
        "y_test[:10]"
      ],
      "execution_count": 37,
      "outputs": [
        {
          "output_type": "execute_result",
          "data": {
            "text/plain": [
              "12684     0\n",
              "11685     0\n",
              "31714     0\n",
              "87103     0\n",
              "121472    0\n",
              "16116     0\n",
              "54594     0\n",
              "110528    0\n",
              "20487     1\n",
              "124328    0\n",
              "Name: wheeloccupancy, dtype: int64"
            ]
          },
          "metadata": {
            "tags": []
          },
          "execution_count": 37
        }
      ]
    },
    {
      "cell_type": "code",
      "metadata": {
        "colab": {
          "base_uri": "https://localhost:8080/"
        },
        "id": "rQXNmqsr_i8G",
        "outputId": "db3fc749-1d57-4c3e-d222-00d0f7f2dbdc"
      },
      "source": [
        "from sklearn.metrics import  confusion_matrix, classification_report\n",
        "\n",
        "print(classification_report (y_test, xg_predictions) )"
      ],
      "execution_count": 38,
      "outputs": [
        {
          "output_type": "stream",
          "text": [
            "              precision    recall  f1-score   support\n",
            "\n",
            "           0       0.99      0.43      0.60     27674\n",
            "           1       0.07      0.87      0.13      1415\n",
            "\n",
            "    accuracy                           0.45     29089\n",
            "   macro avg       0.53      0.65      0.37     29089\n",
            "weighted avg       0.94      0.45      0.58     29089\n",
            "\n"
          ],
          "name": "stdout"
        }
      ]
    }
  ]
}