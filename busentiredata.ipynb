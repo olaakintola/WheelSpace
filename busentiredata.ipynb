{
  "nbformat": 4,
  "nbformat_minor": 0,
  "metadata": {
    "colab": {
      "name": "busentiredata.ipynb",
      "provenance": [],
      "authorship_tag": "ABX9TyO587gf6PqFSqX8MEoilggi",
      "include_colab_link": true
    },
    "kernelspec": {
      "name": "python3",
      "display_name": "Python 3"
    },
    "language_info": {
      "name": "python"
    }
  },
  "cells": [
    {
      "cell_type": "markdown",
      "metadata": {
        "id": "view-in-github",
        "colab_type": "text"
      },
      "source": [
        "<a href=\"https://colab.research.google.com/github/olaakintola/WheelSpace/blob/main/busentiredata.ipynb\" target=\"_parent\"><img src=\"https://colab.research.google.com/assets/colab-badge.svg\" alt=\"Open In Colab\"/></a>"
      ]
    },
    {
      "cell_type": "code",
      "metadata": {
        "id": "RkDY1xMpZJ--"
      },
      "source": [
        "# ENTIRE BUS DATA, TRAIN TEST SPLIT - OVERSAMMPLING\n",
        "\n",
        "# The entire dataset was read into colab and split using train-test-split function\n",
        "# into training and test datasets. Oversampling was used to improve the imbalanced\n",
        "# classification. Random Forest classifier was used here.\n",
        "\n",
        "!pip install -q sklearn"
      ],
      "execution_count": 1,
      "outputs": []
    },
    {
      "cell_type": "code",
      "metadata": {
        "id": "LEXOfTljZg7A"
      },
      "source": [
        "%tensorflow_version 2.x"
      ],
      "execution_count": 2,
      "outputs": []
    },
    {
      "cell_type": "code",
      "metadata": {
        "colab": {
          "base_uri": "https://localhost:8080/"
        },
        "id": "UTgT6qbVZg3D",
        "outputId": "2af303a6-c35c-4fe1-cf17-96f024dffe35"
      },
      "source": [
        "from __future__ import absolute_import, division, print_function,unicode_literals\n",
        "\n",
        "import numpy as np\n",
        "import pandas as pd\n",
        "import matplotlib.pyplot as plt\n",
        "from IPython.display import clear_output\n",
        "from six.moves import urllib\n",
        "\n",
        "import tensorflow.compat.v2.feature_column as fc\n",
        "\n",
        "import tensorflow as tf\n",
        "\n",
        "from google.colab import drive\n",
        "drive.mount('/content/drive')"
      ],
      "execution_count": 3,
      "outputs": [
        {
          "output_type": "stream",
          "text": [
            "Mounted at /content/drive\n"
          ],
          "name": "stdout"
        }
      ]
    },
    {
      "cell_type": "code",
      "metadata": {
        "id": "AQOTI_2sZgx3"
      },
      "source": [
        "bus_df = pd.read_csv(\"/content/drive/My Drive/Colab Notebooks/busdata.csv\")"
      ],
      "execution_count": 4,
      "outputs": []
    },
    {
      "cell_type": "code",
      "metadata": {
        "colab": {
          "base_uri": "https://localhost:8080/"
        },
        "id": "PiwhBJCwZgtd",
        "outputId": "62aeba10-c6e0-408c-8412-c2544d56ab93"
      },
      "source": [
        "bus_df[\"wheeloccupancy\"]"
      ],
      "execution_count": 5,
      "outputs": [
        {
          "output_type": "execute_result",
          "data": {
            "text/plain": [
              "0         0.0\n",
              "1         0.0\n",
              "2         0.0\n",
              "3         0.0\n",
              "4         0.0\n",
              "         ... \n",
              "145436    0.0\n",
              "145437    0.0\n",
              "145438    0.0\n",
              "145439    0.0\n",
              "145440    NaN\n",
              "Name: wheeloccupancy, Length: 145441, dtype: float64"
            ]
          },
          "metadata": {
            "tags": []
          },
          "execution_count": 5
        }
      ]
    },
    {
      "cell_type": "code",
      "metadata": {
        "id": "9Oe2VJkIZgnZ"
      },
      "source": [
        "bus_df[\"wheeloccupancy\"] = bus_df[\"wheeloccupancy\"].fillna(0).astype(int)"
      ],
      "execution_count": 6,
      "outputs": []
    },
    {
      "cell_type": "code",
      "metadata": {
        "colab": {
          "base_uri": "https://localhost:8080/"
        },
        "id": "aRW0ygTtZggC",
        "outputId": "7cd14b50-7627-4624-88e2-753fe8e8dc8c"
      },
      "source": [
        "bus_df[\"wheeloccupancy\"]"
      ],
      "execution_count": 7,
      "outputs": [
        {
          "output_type": "execute_result",
          "data": {
            "text/plain": [
              "0         0\n",
              "1         0\n",
              "2         0\n",
              "3         0\n",
              "4         0\n",
              "         ..\n",
              "145436    0\n",
              "145437    0\n",
              "145438    0\n",
              "145439    0\n",
              "145440    0\n",
              "Name: wheeloccupancy, Length: 145441, dtype: int64"
            ]
          },
          "metadata": {
            "tags": []
          },
          "execution_count": 7
        }
      ]
    },
    {
      "cell_type": "code",
      "metadata": {
        "colab": {
          "base_uri": "https://localhost:8080/"
        },
        "id": "b0Ix-UnHZgaQ",
        "outputId": "4d659c70-372c-4aaf-c4a6-498da941f5c8"
      },
      "source": [
        "bus_df.shape"
      ],
      "execution_count": 8,
      "outputs": [
        {
          "output_type": "execute_result",
          "data": {
            "text/plain": [
              "(145441, 6)"
            ]
          },
          "metadata": {
            "tags": []
          },
          "execution_count": 8
        }
      ]
    },
    {
      "cell_type": "code",
      "metadata": {
        "colab": {
          "base_uri": "https://localhost:8080/",
          "height": 204
        },
        "id": "s4Ciy-pJZgR3",
        "outputId": "77b92ee7-ece5-4b66-8f93-7d0d6c5f4148"
      },
      "source": [
        "bus_df.sample(5)"
      ],
      "execution_count": 9,
      "outputs": [
        {
          "output_type": "execute_result",
          "data": {
            "text/html": [
              "<div>\n",
              "<style scoped>\n",
              "    .dataframe tbody tr th:only-of-type {\n",
              "        vertical-align: middle;\n",
              "    }\n",
              "\n",
              "    .dataframe tbody tr th {\n",
              "        vertical-align: top;\n",
              "    }\n",
              "\n",
              "    .dataframe thead th {\n",
              "        text-align: right;\n",
              "    }\n",
              "</style>\n",
              "<table border=\"1\" class=\"dataframe\">\n",
              "  <thead>\n",
              "    <tr style=\"text-align: right;\">\n",
              "      <th></th>\n",
              "      <th>route</th>\n",
              "      <th>times</th>\n",
              "      <th>days</th>\n",
              "      <th>wheeloccupancy</th>\n",
              "      <th>departure</th>\n",
              "      <th>destination</th>\n",
              "    </tr>\n",
              "  </thead>\n",
              "  <tbody>\n",
              "    <tr>\n",
              "      <th>17053</th>\n",
              "      <td>68A</td>\n",
              "      <td>08:00</td>\n",
              "      <td>tues</td>\n",
              "      <td>0</td>\n",
              "      <td>NaN</td>\n",
              "      <td>NaN</td>\n",
              "    </tr>\n",
              "    <tr>\n",
              "      <th>110602</th>\n",
              "      <td>25X</td>\n",
              "      <td>17:00</td>\n",
              "      <td>tues</td>\n",
              "      <td>0</td>\n",
              "      <td>NaN</td>\n",
              "      <td>NaN</td>\n",
              "    </tr>\n",
              "    <tr>\n",
              "      <th>24226</th>\n",
              "      <td>9</td>\n",
              "      <td>17:00</td>\n",
              "      <td>thurs</td>\n",
              "      <td>0</td>\n",
              "      <td>NaN</td>\n",
              "      <td>NaN</td>\n",
              "    </tr>\n",
              "    <tr>\n",
              "      <th>80635</th>\n",
              "      <td>27X</td>\n",
              "      <td>14:00</td>\n",
              "      <td>fri</td>\n",
              "      <td>1</td>\n",
              "      <td>\"The Link Road, stop 1259\"</td>\n",
              "      <td>\"Marino College, stop 523\"</td>\n",
              "    </tr>\n",
              "    <tr>\n",
              "      <th>55894</th>\n",
              "      <td>25</td>\n",
              "      <td>17:00</td>\n",
              "      <td>wed</td>\n",
              "      <td>0</td>\n",
              "      <td>NaN</td>\n",
              "      <td>NaN</td>\n",
              "    </tr>\n",
              "  </tbody>\n",
              "</table>\n",
              "</div>"
            ],
            "text/plain": [
              "       route  times  ...                   departure                 destination\n",
              "17053    68A  08:00  ...                         NaN                         NaN\n",
              "110602   25X  17:00  ...                         NaN                         NaN\n",
              "24226      9  17:00  ...                         NaN                         NaN\n",
              "80635    27X  14:00  ...  \"The Link Road, stop 1259\"  \"Marino College, stop 523\"\n",
              "55894     25  17:00  ...                         NaN                         NaN\n",
              "\n",
              "[5 rows x 6 columns]"
            ]
          },
          "metadata": {
            "tags": []
          },
          "execution_count": 9
        }
      ]
    },
    {
      "cell_type": "code",
      "metadata": {
        "id": "FVLnhk2hZgN2"
      },
      "source": [
        "bus_df.fillna('', inplace=True)"
      ],
      "execution_count": 10,
      "outputs": []
    },
    {
      "cell_type": "code",
      "metadata": {
        "colab": {
          "base_uri": "https://localhost:8080/",
          "height": 204
        },
        "id": "GwbqDsQzZgKN",
        "outputId": "48893e2d-984c-46cb-fd47-9d905025faf0"
      },
      "source": [
        "bus_df.sample(5)"
      ],
      "execution_count": 11,
      "outputs": [
        {
          "output_type": "execute_result",
          "data": {
            "text/html": [
              "<div>\n",
              "<style scoped>\n",
              "    .dataframe tbody tr th:only-of-type {\n",
              "        vertical-align: middle;\n",
              "    }\n",
              "\n",
              "    .dataframe tbody tr th {\n",
              "        vertical-align: top;\n",
              "    }\n",
              "\n",
              "    .dataframe thead th {\n",
              "        text-align: right;\n",
              "    }\n",
              "</style>\n",
              "<table border=\"1\" class=\"dataframe\">\n",
              "  <thead>\n",
              "    <tr style=\"text-align: right;\">\n",
              "      <th></th>\n",
              "      <th>route</th>\n",
              "      <th>times</th>\n",
              "      <th>days</th>\n",
              "      <th>wheeloccupancy</th>\n",
              "      <th>departure</th>\n",
              "      <th>destination</th>\n",
              "    </tr>\n",
              "  </thead>\n",
              "  <tbody>\n",
              "    <tr>\n",
              "      <th>117395</th>\n",
              "      <td>33</td>\n",
              "      <td>18:00</td>\n",
              "      <td>wed</td>\n",
              "      <td>0</td>\n",
              "      <td></td>\n",
              "      <td></td>\n",
              "    </tr>\n",
              "    <tr>\n",
              "      <th>24685</th>\n",
              "      <td>13</td>\n",
              "      <td>08:00</td>\n",
              "      <td>wed</td>\n",
              "      <td>0</td>\n",
              "      <td></td>\n",
              "      <td></td>\n",
              "    </tr>\n",
              "    <tr>\n",
              "      <th>46578</th>\n",
              "      <td>54A</td>\n",
              "      <td>13:00</td>\n",
              "      <td>tues</td>\n",
              "      <td>0</td>\n",
              "      <td></td>\n",
              "      <td></td>\n",
              "    </tr>\n",
              "    <tr>\n",
              "      <th>97505</th>\n",
              "      <td>14</td>\n",
              "      <td>12:00</td>\n",
              "      <td>mon</td>\n",
              "      <td>0</td>\n",
              "      <td></td>\n",
              "      <td></td>\n",
              "    </tr>\n",
              "    <tr>\n",
              "      <th>42216</th>\n",
              "      <td>84</td>\n",
              "      <td>07:00</td>\n",
              "      <td>thurs</td>\n",
              "      <td>0</td>\n",
              "      <td></td>\n",
              "      <td></td>\n",
              "    </tr>\n",
              "  </tbody>\n",
              "</table>\n",
              "</div>"
            ],
            "text/plain": [
              "       route  times   days  wheeloccupancy departure destination\n",
              "117395    33  18:00    wed               0                      \n",
              "24685     13  08:00    wed               0                      \n",
              "46578    54A  13:00   tues               0                      \n",
              "97505     14  12:00    mon               0                      \n",
              "42216     84  07:00  thurs               0                      "
            ]
          },
          "metadata": {
            "tags": []
          },
          "execution_count": 11
        }
      ]
    },
    {
      "cell_type": "code",
      "metadata": {
        "colab": {
          "base_uri": "https://localhost:8080/",
          "height": 419
        },
        "id": "N6Wze8ewZgF1",
        "outputId": "828b0a86-9b57-4bb6-9164-bb8dfae5fff2"
      },
      "source": [
        "bus_df[bus_df.wheeloccupancy==1]"
      ],
      "execution_count": 12,
      "outputs": [
        {
          "output_type": "execute_result",
          "data": {
            "text/html": [
              "<div>\n",
              "<style scoped>\n",
              "    .dataframe tbody tr th:only-of-type {\n",
              "        vertical-align: middle;\n",
              "    }\n",
              "\n",
              "    .dataframe tbody tr th {\n",
              "        vertical-align: top;\n",
              "    }\n",
              "\n",
              "    .dataframe thead th {\n",
              "        text-align: right;\n",
              "    }\n",
              "</style>\n",
              "<table border=\"1\" class=\"dataframe\">\n",
              "  <thead>\n",
              "    <tr style=\"text-align: right;\">\n",
              "      <th></th>\n",
              "      <th>route</th>\n",
              "      <th>times</th>\n",
              "      <th>days</th>\n",
              "      <th>wheeloccupancy</th>\n",
              "      <th>departure</th>\n",
              "      <th>destination</th>\n",
              "    </tr>\n",
              "  </thead>\n",
              "  <tbody>\n",
              "    <tr>\n",
              "      <th>86</th>\n",
              "      <td>11</td>\n",
              "      <td>09:00</td>\n",
              "      <td>wed</td>\n",
              "      <td>1</td>\n",
              "      <td>\"Drummartin Park, stop 3024\"</td>\n",
              "      <td>\"Parnell Square West, stop 10\"</td>\n",
              "    </tr>\n",
              "    <tr>\n",
              "      <th>126</th>\n",
              "      <td>116</td>\n",
              "      <td>13:00</td>\n",
              "      <td>mon</td>\n",
              "      <td>1</td>\n",
              "      <td>\"Teresian School, stop 771\"</td>\n",
              "      <td>\"Stillorgan College, stop 2011\"</td>\n",
              "    </tr>\n",
              "    <tr>\n",
              "      <th>134</th>\n",
              "      <td>116</td>\n",
              "      <td>09:00</td>\n",
              "      <td>tues</td>\n",
              "      <td>1</td>\n",
              "      <td>\"Stillorgan Luas, stop 7057\"</td>\n",
              "      <td>\"Carmanhall Road, stop 3181\"</td>\n",
              "    </tr>\n",
              "    <tr>\n",
              "      <th>182</th>\n",
              "      <td>118</td>\n",
              "      <td>09:00</td>\n",
              "      <td>mon</td>\n",
              "      <td>1</td>\n",
              "      <td>\"St Johns Ambulance, stop 907\"</td>\n",
              "      <td>\"Donnybrook Garda Stn, stop 774\"</td>\n",
              "    </tr>\n",
              "    <tr>\n",
              "      <th>243</th>\n",
              "      <td>120</td>\n",
              "      <td>10:00</td>\n",
              "      <td>mon</td>\n",
              "      <td>1</td>\n",
              "      <td>\"Naomh Fionnbarra GAA, stop 4485\"</td>\n",
              "      <td>\"St Finbar's Road, stop 829\"</td>\n",
              "    </tr>\n",
              "    <tr>\n",
              "      <th>...</th>\n",
              "      <td>...</td>\n",
              "      <td>...</td>\n",
              "      <td>...</td>\n",
              "      <td>...</td>\n",
              "      <td>...</td>\n",
              "      <td>...</td>\n",
              "    </tr>\n",
              "    <tr>\n",
              "      <th>145264</th>\n",
              "      <td>84A</td>\n",
              "      <td>11:00</td>\n",
              "      <td>mon</td>\n",
              "      <td>1</td>\n",
              "      <td>\"St John's Church, stop 3080\"</td>\n",
              "      <td>\"Old Connaught Avenue, stop 4129\"</td>\n",
              "    </tr>\n",
              "    <tr>\n",
              "      <th>145275</th>\n",
              "      <td>84A</td>\n",
              "      <td>10:00</td>\n",
              "      <td>tues</td>\n",
              "      <td>1</td>\n",
              "      <td>\"Castle Street, stop 4130\"</td>\n",
              "      <td>\"Merrion Gates, stop 476\"</td>\n",
              "    </tr>\n",
              "    <tr>\n",
              "      <th>145299</th>\n",
              "      <td>84A</td>\n",
              "      <td>10:00</td>\n",
              "      <td>thurs</td>\n",
              "      <td>1</td>\n",
              "      <td>\"St James's Church, stop 4203\"</td>\n",
              "      <td>\"Shrewsbury Lawn, stop 3130\"</td>\n",
              "    </tr>\n",
              "    <tr>\n",
              "      <th>145324</th>\n",
              "      <td>84X</td>\n",
              "      <td>11:00</td>\n",
              "      <td>mon</td>\n",
              "      <td>1</td>\n",
              "      <td>\"St Anthony Church, stop 4268\"</td>\n",
              "      <td>\"Greystones Station, stop 4283\"</td>\n",
              "    </tr>\n",
              "    <tr>\n",
              "      <th>145334</th>\n",
              "      <td>84X</td>\n",
              "      <td>09:00</td>\n",
              "      <td>tues</td>\n",
              "      <td>1</td>\n",
              "      <td>\"Kilcoole Road, stop 4230\"</td>\n",
              "      <td>\"Science Gallery, stop 7587\"</td>\n",
              "    </tr>\n",
              "  </tbody>\n",
              "</table>\n",
              "<p>6784 rows × 6 columns</p>\n",
              "</div>"
            ],
            "text/plain": [
              "       route  ...                        destination\n",
              "86        11  ...     \"Parnell Square West, stop 10\"\n",
              "126      116  ...    \"Stillorgan College, stop 2011\"\n",
              "134      116  ...       \"Carmanhall Road, stop 3181\"\n",
              "182      118  ...   \"Donnybrook Garda Stn, stop 774\"\n",
              "243      120  ...       \"St Finbar's Road, stop 829\"\n",
              "...      ...  ...                                ...\n",
              "145264   84A  ...  \"Old Connaught Avenue, stop 4129\"\n",
              "145275   84A  ...          \"Merrion Gates, stop 476\"\n",
              "145299   84A  ...       \"Shrewsbury Lawn, stop 3130\"\n",
              "145324   84X  ...    \"Greystones Station, stop 4283\"\n",
              "145334   84X  ...       \"Science Gallery, stop 7587\"\n",
              "\n",
              "[6784 rows x 6 columns]"
            ]
          },
          "metadata": {
            "tags": []
          },
          "execution_count": 12
        }
      ]
    },
    {
      "cell_type": "code",
      "metadata": {
        "id": "4lSiE1XeZgCM"
      },
      "source": [
        "bus_df[\"departure\"] = [x.replace(\"'\",\"\").replace('\"','') for x in bus_df[\"departure\"]]"
      ],
      "execution_count": 13,
      "outputs": []
    },
    {
      "cell_type": "code",
      "metadata": {
        "id": "KYFxy_uJZf-9"
      },
      "source": [
        "bus_df[\"destination\"] = [x.replace(\"'\",\"\").replace('\"','') for x in bus_df[\"destination\"]]"
      ],
      "execution_count": 14,
      "outputs": []
    },
    {
      "cell_type": "code",
      "metadata": {
        "id": "Nz4bM5ztZf68"
      },
      "source": [
        "bus_df.drop(\"departure\", axis=\"columns\", inplace=True)"
      ],
      "execution_count": 15,
      "outputs": []
    },
    {
      "cell_type": "code",
      "metadata": {
        "id": "K9b32sfmZf3a"
      },
      "source": [
        "bus_df.drop(\"destination\", axis=\"columns\", inplace=True)"
      ],
      "execution_count": 16,
      "outputs": []
    },
    {
      "cell_type": "code",
      "metadata": {
        "colab": {
          "base_uri": "https://localhost:8080/"
        },
        "id": "uvjXxtGoZfzv",
        "outputId": "e38cf4a7-29e0-4ea1-85d0-d95071df7321"
      },
      "source": [
        "bus_df.dtypes"
      ],
      "execution_count": 17,
      "outputs": [
        {
          "output_type": "execute_result",
          "data": {
            "text/plain": [
              "route             object\n",
              "times             object\n",
              "days              object\n",
              "wheeloccupancy     int64\n",
              "dtype: object"
            ]
          },
          "metadata": {
            "tags": []
          },
          "execution_count": 17
        }
      ]
    },
    {
      "cell_type": "code",
      "metadata": {
        "colab": {
          "base_uri": "https://localhost:8080/",
          "height": 204
        },
        "id": "oPPSIHhLZfwZ",
        "outputId": "540346d6-5d21-457e-fa53-198e925fdab3"
      },
      "source": [
        "bus_df.head()"
      ],
      "execution_count": 18,
      "outputs": [
        {
          "output_type": "execute_result",
          "data": {
            "text/html": [
              "<div>\n",
              "<style scoped>\n",
              "    .dataframe tbody tr th:only-of-type {\n",
              "        vertical-align: middle;\n",
              "    }\n",
              "\n",
              "    .dataframe tbody tr th {\n",
              "        vertical-align: top;\n",
              "    }\n",
              "\n",
              "    .dataframe thead th {\n",
              "        text-align: right;\n",
              "    }\n",
              "</style>\n",
              "<table border=\"1\" class=\"dataframe\">\n",
              "  <thead>\n",
              "    <tr style=\"text-align: right;\">\n",
              "      <th></th>\n",
              "      <th>route</th>\n",
              "      <th>times</th>\n",
              "      <th>days</th>\n",
              "      <th>wheeloccupancy</th>\n",
              "    </tr>\n",
              "  </thead>\n",
              "  <tbody>\n",
              "    <tr>\n",
              "      <th>0</th>\n",
              "      <td>1</td>\n",
              "      <td>07:00</td>\n",
              "      <td>mon</td>\n",
              "      <td>0</td>\n",
              "    </tr>\n",
              "    <tr>\n",
              "      <th>1</th>\n",
              "      <td>1</td>\n",
              "      <td>08:00</td>\n",
              "      <td>mon</td>\n",
              "      <td>0</td>\n",
              "    </tr>\n",
              "    <tr>\n",
              "      <th>2</th>\n",
              "      <td>1</td>\n",
              "      <td>09:00</td>\n",
              "      <td>mon</td>\n",
              "      <td>0</td>\n",
              "    </tr>\n",
              "    <tr>\n",
              "      <th>3</th>\n",
              "      <td>1</td>\n",
              "      <td>10:00</td>\n",
              "      <td>mon</td>\n",
              "      <td>0</td>\n",
              "    </tr>\n",
              "    <tr>\n",
              "      <th>4</th>\n",
              "      <td>1</td>\n",
              "      <td>11:00</td>\n",
              "      <td>mon</td>\n",
              "      <td>0</td>\n",
              "    </tr>\n",
              "  </tbody>\n",
              "</table>\n",
              "</div>"
            ],
            "text/plain": [
              "  route  times days  wheeloccupancy\n",
              "0     1  07:00  mon               0\n",
              "1     1  08:00  mon               0\n",
              "2     1  09:00  mon               0\n",
              "3     1  10:00  mon               0\n",
              "4     1  11:00  mon               0"
            ]
          },
          "metadata": {
            "tags": []
          },
          "execution_count": 18
        }
      ]
    },
    {
      "cell_type": "code",
      "metadata": {
        "id": "NZF8yN9MZfs3"
      },
      "source": [
        "def print_unique_col_values(bus_df):\n",
        "  for column in bus_df:\n",
        "    if bus_df[column].dtypes=='object':\n",
        "      print(bus_df[column].unique())"
      ],
      "execution_count": 19,
      "outputs": []
    },
    {
      "cell_type": "code",
      "metadata": {
        "colab": {
          "base_uri": "https://localhost:8080/"
        },
        "id": "_7ggEo4iZfo1",
        "outputId": "407c9004-8e17-47f7-f83b-d6ed53ea70b3"
      },
      "source": [
        "print_unique_col_values(bus_df)"
      ],
      "execution_count": 20,
      "outputs": [
        {
          "output_type": "stream",
          "text": [
            "['1' '11' '116' '118' '120' '122' '123' '13' '130' '14' '140' '142' '145'\n",
            " '15' '150' '151' '155' '15A' '15B' '15D' '16' '16D' '25' '25A' '25B'\n",
            " '25X' '26' '27' '27A' '27B' '27X' '29A' '31' '31A' '31B' '32' '32X' '33'\n",
            " '33D' '33E' '33X' '37' '38' '38A' '38B' '38D' '39' '39A' '4' '40' '40B'\n",
            " '40D' '40E' '41' '41B' '41C' '41D' '41X' '42' '43' '44' '44B' '46A' '46E'\n",
            " '47' '49' '51D' '51X' '53' '54A' '56A' '61' '65' '65B' '66' '66A' '66B'\n",
            " '66E' '66X' '67' '67X' '68' '68A' '68X' '69' '69X' '7' '70' '77A' '77X'\n",
            " '79' '79A' '7A' '7B' '7D' '83' '83A' '84' '84A' '84X' '9' '\\x1a']\n",
            "['07:00' '08:00' '09:00' '10:00' '11:00' '12:00' '13:00' '14:00' '15:00'\n",
            " '16:00' '17:00' '18:00' '']\n",
            "['mon' 'tues' 'wed' 'thurs' 'fri' '']\n"
          ],
          "name": "stdout"
        }
      ]
    },
    {
      "cell_type": "code",
      "metadata": {
        "id": "9I8YLFpRdfjN"
      },
      "source": [
        "X_over_bus = bus_df.drop(\"wheeloccupancy\", axis=\"columns\") #oversampling\n",
        "y_over_bus = bus_df[\"wheeloccupancy\"]\n",
        "\n",
        "from sklearn.model_selection import train_test_split\n",
        "X_train_bus, X_test_bus, y_train_bus, y_test_bus = train_test_split(X_over_bus, y_over_bus, test_size=0.2, random_state=15)"
      ],
      "execution_count": 21,
      "outputs": []
    },
    {
      "cell_type": "code",
      "metadata": {
        "id": "8RDOPL1_bUJj"
      },
      "source": [
        "## beginning of oversampling for all routes - bus_df\n",
        "\n",
        "#class count\n",
        "count_class_bus_0, count_class_bus_1 = y_train_bus.value_counts()\n",
        "\n",
        "#Divide by class\n",
        "df_class_bus_0 = X_train_bus[y_train_bus==0]\n",
        "df_class_bus_1 = X_train_bus[y_train_bus==1]"
      ],
      "execution_count": 22,
      "outputs": []
    },
    {
      "cell_type": "code",
      "metadata": {
        "colab": {
          "base_uri": "https://localhost:8080/"
        },
        "id": "nWV731RgbUGt",
        "outputId": "ce38e412-0319-44d3-a83c-4156a0ea853e"
      },
      "source": [
        "count_class_bus_0, count_class_bus_1"
      ],
      "execution_count": 23,
      "outputs": [
        {
          "output_type": "execute_result",
          "data": {
            "text/plain": [
              "(110962, 5390)"
            ]
          },
          "metadata": {
            "tags": []
          },
          "execution_count": 23
        }
      ]
    },
    {
      "cell_type": "code",
      "metadata": {
        "colab": {
          "base_uri": "https://localhost:8080/"
        },
        "id": "8Ftk-WtMbUC5",
        "outputId": "f76f05ff-d3cb-4bcb-8637-a1df4305b31e"
      },
      "source": [
        "df_class_bus_0.shape"
      ],
      "execution_count": 24,
      "outputs": [
        {
          "output_type": "execute_result",
          "data": {
            "text/plain": [
              "(110962, 3)"
            ]
          },
          "metadata": {
            "tags": []
          },
          "execution_count": 24
        }
      ]
    },
    {
      "cell_type": "code",
      "metadata": {
        "colab": {
          "base_uri": "https://localhost:8080/"
        },
        "id": "zfyrzRmgbT_a",
        "outputId": "c068a158-7c18-4e9e-b79c-ad7533762ad2"
      },
      "source": [
        "df_class_bus_1.shape"
      ],
      "execution_count": 26,
      "outputs": [
        {
          "output_type": "execute_result",
          "data": {
            "text/plain": [
              "(5390, 3)"
            ]
          },
          "metadata": {
            "tags": []
          },
          "execution_count": 26
        }
      ]
    },
    {
      "cell_type": "code",
      "metadata": {
        "id": "3CItgeD7bT8y"
      },
      "source": [
        "df_over_1_bus = df_class_bus_1.sample(count_class_bus_0, replace=True) #oversample\n",
        "\n",
        "X_oversampling_bus = pd.concat([df_class_bus_0, df_over_1_bus], axis=0)\n",
        "\n",
        "y_oversampling_bus =  np.concatenate([np.zeros(len(df_class_bus_0 ) ), np.ones(len(df_over_1_bus) )])"
      ],
      "execution_count": 27,
      "outputs": []
    },
    {
      "cell_type": "code",
      "metadata": {
        "colab": {
          "base_uri": "https://localhost:8080/"
        },
        "id": "i9s9G8YAbT5a",
        "outputId": "7f0b9312-9715-4b90-f5d3-a379fdc5e997"
      },
      "source": [
        "\n",
        "y_oversampling_bus.shape#"
      ],
      "execution_count": 28,
      "outputs": [
        {
          "output_type": "execute_result",
          "data": {
            "text/plain": [
              "(221924,)"
            ]
          },
          "metadata": {
            "tags": []
          },
          "execution_count": 28
        }
      ]
    },
    {
      "cell_type": "code",
      "metadata": {
        "colab": {
          "base_uri": "https://localhost:8080/"
        },
        "id": "gc6zy3u9bT2X",
        "outputId": "7f51e2fd-4362-4593-80a7-cccf6abcc939"
      },
      "source": [
        "X_oversampling_bus.shape"
      ],
      "execution_count": 29,
      "outputs": [
        {
          "output_type": "execute_result",
          "data": {
            "text/plain": [
              "(221924, 3)"
            ]
          },
          "metadata": {
            "tags": []
          },
          "execution_count": 29
        }
      ]
    },
    {
      "cell_type": "code",
      "metadata": {
        "colab": {
          "base_uri": "https://localhost:8080/"
        },
        "id": "FWCLjISGbTyp",
        "outputId": "c900617d-38af-4fb3-9ac8-b48833d2b79d"
      },
      "source": [
        "y_train_bus.value_counts()"
      ],
      "execution_count": 30,
      "outputs": [
        {
          "output_type": "execute_result",
          "data": {
            "text/plain": [
              "0    110962\n",
              "1      5390\n",
              "Name: wheeloccupancy, dtype: int64"
            ]
          },
          "metadata": {
            "tags": []
          },
          "execution_count": 30
        }
      ]
    },
    {
      "cell_type": "code",
      "metadata": {
        "id": "M3xc62FSbTvR"
      },
      "source": [
        "from sklearn.preprocessing import OneHotEncoder\n",
        "ohe_all_route=OneHotEncoder(handle_unknown='ignore')\n",
        "X_train_hot_all=ohe_all_route.fit_transform(X_oversampling_bus)\n",
        "X_test_hot_all=ohe_all_route.transform(X_test_bus)"
      ],
      "execution_count": 31,
      "outputs": []
    },
    {
      "cell_type": "code",
      "metadata": {
        "colab": {
          "base_uri": "https://localhost:8080/"
        },
        "id": "LaeQ_5IdbTPR",
        "outputId": "f7cbca87-36b7-47ec-dd18-125c559a0a78"
      },
      "source": [
        "from sklearn.ensemble import RandomForestClassifier\n",
        "\n",
        "clf = RandomForestClassifier(max_depth=2, random_state=0)\n",
        "#clf.fit(trainingdata_encode_shuffle, train_label_shuffle)\n",
        "#print(clf.predict([[0, 0, 0, 0]]))\n",
        "#my second version\n",
        "#clf.fit(trainingdata_encode, train_label)\n",
        "\n",
        "#bus_df_encode variables\n",
        "clf.fit(X_train_hot_all, y_oversampling_bus)"
      ],
      "execution_count": 32,
      "outputs": [
        {
          "output_type": "execute_result",
          "data": {
            "text/plain": [
              "RandomForestClassifier(bootstrap=True, ccp_alpha=0.0, class_weight=None,\n",
              "                       criterion='gini', max_depth=2, max_features='auto',\n",
              "                       max_leaf_nodes=None, max_samples=None,\n",
              "                       min_impurity_decrease=0.0, min_impurity_split=None,\n",
              "                       min_samples_leaf=1, min_samples_split=2,\n",
              "                       min_weight_fraction_leaf=0.0, n_estimators=100,\n",
              "                       n_jobs=None, oob_score=False, random_state=0, verbose=0,\n",
              "                       warm_start=False)"
            ]
          },
          "metadata": {
            "tags": []
          },
          "execution_count": 32
        }
      ]
    },
    {
      "cell_type": "code",
      "metadata": {
        "id": "cUdmYCs7b7I7"
      },
      "source": [
        "preds_hotall_route = clf.predict(X_test_hot_all) "
      ],
      "execution_count": 33,
      "outputs": []
    },
    {
      "cell_type": "code",
      "metadata": {
        "colab": {
          "base_uri": "https://localhost:8080/"
        },
        "id": "daGAB17Ob7Fl",
        "outputId": "015550b7-b3d5-41d0-be57-ef18b025d617"
      },
      "source": [
        "preds_hotall_route[:10]"
      ],
      "execution_count": 34,
      "outputs": [
        {
          "output_type": "execute_result",
          "data": {
            "text/plain": [
              "array([1., 1., 1., 1., 1., 0., 0., 0., 1., 0.])"
            ]
          },
          "metadata": {
            "tags": []
          },
          "execution_count": 34
        }
      ]
    },
    {
      "cell_type": "code",
      "metadata": {
        "colab": {
          "base_uri": "https://localhost:8080/"
        },
        "id": "FCve0Mwhb7CU",
        "outputId": "446a0b46-b101-4c22-e2fc-dccff3e34e11"
      },
      "source": [
        "y_test_bus[:10]"
      ],
      "execution_count": 35,
      "outputs": [
        {
          "output_type": "execute_result",
          "data": {
            "text/plain": [
              "123533    0\n",
              "45355     0\n",
              "143012    0\n",
              "128420    0\n",
              "57176     0\n",
              "134578    0\n",
              "87178     0\n",
              "62905     0\n",
              "36376     0\n",
              "74109     0\n",
              "Name: wheeloccupancy, dtype: int64"
            ]
          },
          "metadata": {
            "tags": []
          },
          "execution_count": 35
        }
      ]
    },
    {
      "cell_type": "code",
      "metadata": {
        "colab": {
          "base_uri": "https://localhost:8080/"
        },
        "id": "YxcCEDgkb6_P",
        "outputId": "5b647ad4-f06b-44ca-c4d5-f381873a8278"
      },
      "source": [
        "from sklearn.metrics import  confusion_matrix, classification_report\n",
        "\n",
        "print(classification_report (y_test_bus, preds_hotall_route) )"
      ],
      "execution_count": 36,
      "outputs": [
        {
          "output_type": "stream",
          "text": [
            "              precision    recall  f1-score   support\n",
            "\n",
            "           0       0.99      0.43      0.60     27695\n",
            "           1       0.07      0.88      0.13      1394\n",
            "\n",
            "    accuracy                           0.45     29089\n",
            "   macro avg       0.53      0.66      0.37     29089\n",
            "weighted avg       0.94      0.45      0.58     29089\n",
            "\n"
          ],
          "name": "stdout"
        }
      ]
    },
    {
      "cell_type": "code",
      "metadata": {
        "id": "JGY9-xvmb68I"
      },
      "source": [
        ""
      ],
      "execution_count": null,
      "outputs": []
    },
    {
      "cell_type": "code",
      "metadata": {
        "id": "13Yl-aDCZfl6"
      },
      "source": [
        ""
      ],
      "execution_count": null,
      "outputs": []
    }
  ]
}