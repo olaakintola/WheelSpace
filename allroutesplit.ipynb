{
  "nbformat": 4,
  "nbformat_minor": 0,
  "metadata": {
    "colab": {
      "name": "allroutesplit.ipynb",
      "provenance": [],
      "authorship_tag": "ABX9TyPBHLBfdqeqR+kVd8E4ZqwM",
      "include_colab_link": true
    },
    "kernelspec": {
      "name": "python3",
      "display_name": "Python 3"
    },
    "language_info": {
      "name": "python"
    }
  },
  "cells": [
    {
      "cell_type": "markdown",
      "metadata": {
        "id": "view-in-github",
        "colab_type": "text"
      },
      "source": [
        "<a href=\"https://colab.research.google.com/github/olaakintola/WheelSpace/blob/main/allroutesplit.ipynb\" target=\"_parent\"><img src=\"https://colab.research.google.com/assets/colab-badge.svg\" alt=\"Open In Colab\"/></a>"
      ]
    },
    {
      "cell_type": "code",
      "metadata": {
        "id": "w8SlmDgmu05o"
      },
      "source": [
        "#ROUTE MACHINE LEARNING MODEL - picked the alternating first 3 into train, and next 1 into test - smote\n",
        "\n",
        "# The entire bus route was used in creating the model. The datasets were split into training and test \n",
        "# dataset before it was read into colab. The first 3 files were picked for training datasets and the next \n",
        "# csv file was used for test dataset. The process was repeated like this until all the files had been\n",
        "# divided into training and test dataset. SMOTE Sampling technique was used for improving the training datasets.\n",
        "# Random Forest classifier was used here.\n",
        "\n",
        "!pip install -q sklearn"
      ],
      "execution_count": 1,
      "outputs": []
    },
    {
      "cell_type": "code",
      "metadata": {
        "id": "A-RhwU7gvBP8"
      },
      "source": [
        "%tensorflow_version 2.x"
      ],
      "execution_count": 2,
      "outputs": []
    },
    {
      "cell_type": "code",
      "metadata": {
        "colab": {
          "base_uri": "https://localhost:8080/"
        },
        "id": "S7ev9MH1vBMm",
        "outputId": "b06dfbfb-736d-4b9a-d96d-d01182012241"
      },
      "source": [
        "from __future__ import absolute_import, division, print_function,unicode_literals\n",
        "\n",
        "import numpy as np\n",
        "import pandas as pd\n",
        "import matplotlib.pyplot as plt\n",
        "from IPython.display import clear_output\n",
        "from six.moves import urllib\n",
        "\n",
        "import tensorflow.compat.v2.feature_column as fc\n",
        "\n",
        "import tensorflow as tf\n",
        "\n",
        "from google.colab import drive\n",
        "drive.mount('/content/drive')"
      ],
      "execution_count": 3,
      "outputs": [
        {
          "output_type": "stream",
          "text": [
            "Mounted at /content/drive\n"
          ],
          "name": "stdout"
        }
      ]
    },
    {
      "cell_type": "code",
      "metadata": {
        "id": "HzLt78n6vBJZ"
      },
      "source": [
        "training_df = pd.read_csv(\"/content/drive/My Drive/Colab Notebooks/traindata.csv\")\n",
        "testing_df = pd.read_csv(\"/content/drive/My Drive/Colab Notebooks/testdata.csv\")"
      ],
      "execution_count": 4,
      "outputs": []
    },
    {
      "cell_type": "code",
      "metadata": {
        "colab": {
          "base_uri": "https://localhost:8080/"
        },
        "id": "QHD0DSs9v9j7",
        "outputId": "37767a18-d328-4bff-89db-6130b998f439"
      },
      "source": [
        "training_df.columns"
      ],
      "execution_count": 5,
      "outputs": [
        {
          "output_type": "execute_result",
          "data": {
            "text/plain": [
              "Index(['route', 'times', 'days', 'wheeloccupancy', 'departure', 'destination'], dtype='object')"
            ]
          },
          "metadata": {
            "tags": []
          },
          "execution_count": 5
        }
      ]
    },
    {
      "cell_type": "code",
      "metadata": {
        "colab": {
          "base_uri": "https://localhost:8080/"
        },
        "id": "Gpaa7VvPwBEx",
        "outputId": "1dc56498-8fcb-4929-bf44-5c9538a7522e"
      },
      "source": [
        "testing_df.columns"
      ],
      "execution_count": 6,
      "outputs": [
        {
          "output_type": "execute_result",
          "data": {
            "text/plain": [
              "Index(['route', 'times', 'days', 'wheeloccupancy', 'departure', 'destination'], dtype='object')"
            ]
          },
          "metadata": {
            "tags": []
          },
          "execution_count": 6
        }
      ]
    },
    {
      "cell_type": "code",
      "metadata": {
        "colab": {
          "base_uri": "https://localhost:8080/"
        },
        "id": "7LXbELP4vBGn",
        "outputId": "8fc552bd-0d34-4708-a66b-3885cd8d33a9"
      },
      "source": [
        "training_df[\"wheeloccupancy\"]"
      ],
      "execution_count": 7,
      "outputs": [
        {
          "output_type": "execute_result",
          "data": {
            "text/plain": [
              "0         0.0\n",
              "1         0.0\n",
              "2         0.0\n",
              "3         0.0\n",
              "4         1.0\n",
              "         ... \n",
              "109076    0.0\n",
              "109077    0.0\n",
              "109078    0.0\n",
              "109079    0.0\n",
              "109080    NaN\n",
              "Name: wheeloccupancy, Length: 109081, dtype: float64"
            ]
          },
          "metadata": {
            "tags": []
          },
          "execution_count": 7
        }
      ]
    },
    {
      "cell_type": "code",
      "metadata": {
        "colab": {
          "base_uri": "https://localhost:8080/"
        },
        "id": "OU7YqqjOvBD6",
        "outputId": "63ec42ef-9094-48df-b199-eb58961cf61a"
      },
      "source": [
        "testing_df[\"wheeloccupancy\"]"
      ],
      "execution_count": 8,
      "outputs": [
        {
          "output_type": "execute_result",
          "data": {
            "text/plain": [
              "0        0.0\n",
              "1        0.0\n",
              "2        0.0\n",
              "3        0.0\n",
              "4        0.0\n",
              "        ... \n",
              "36356    0.0\n",
              "36357    0.0\n",
              "36358    0.0\n",
              "36359    0.0\n",
              "36360    NaN\n",
              "Name: wheeloccupancy, Length: 36361, dtype: float64"
            ]
          },
          "metadata": {
            "tags": []
          },
          "execution_count": 8
        }
      ]
    },
    {
      "cell_type": "code",
      "metadata": {
        "id": "P8zjbo4DvBA8"
      },
      "source": [
        "training_df[\"wheeloccupancy\"] = training_df[\"wheeloccupancy\"].fillna(0).astype(int)"
      ],
      "execution_count": 9,
      "outputs": []
    },
    {
      "cell_type": "code",
      "metadata": {
        "id": "HnwtJaN9vA9E"
      },
      "source": [
        "testing_df[\"wheeloccupancy\"] = testing_df[\"wheeloccupancy\"].fillna(0).astype(int)"
      ],
      "execution_count": 10,
      "outputs": []
    },
    {
      "cell_type": "code",
      "metadata": {
        "colab": {
          "base_uri": "https://localhost:8080/"
        },
        "id": "SKYA24o8vA5p",
        "outputId": "9a287590-27d0-4b64-e81d-1322f208ebee"
      },
      "source": [
        "training_df[\"wheeloccupancy\"]"
      ],
      "execution_count": 11,
      "outputs": [
        {
          "output_type": "execute_result",
          "data": {
            "text/plain": [
              "0         0\n",
              "1         0\n",
              "2         0\n",
              "3         0\n",
              "4         1\n",
              "         ..\n",
              "109076    0\n",
              "109077    0\n",
              "109078    0\n",
              "109079    0\n",
              "109080    0\n",
              "Name: wheeloccupancy, Length: 109081, dtype: int64"
            ]
          },
          "metadata": {
            "tags": []
          },
          "execution_count": 11
        }
      ]
    },
    {
      "cell_type": "code",
      "metadata": {
        "colab": {
          "base_uri": "https://localhost:8080/"
        },
        "id": "-ENmATnSvAx2",
        "outputId": "db8fa36e-938f-4268-9093-2f9d06d3b562"
      },
      "source": [
        "testing_df[\"wheeloccupancy\"]"
      ],
      "execution_count": 12,
      "outputs": [
        {
          "output_type": "execute_result",
          "data": {
            "text/plain": [
              "0        0\n",
              "1        0\n",
              "2        0\n",
              "3        0\n",
              "4        0\n",
              "        ..\n",
              "36356    0\n",
              "36357    0\n",
              "36358    0\n",
              "36359    0\n",
              "36360    0\n",
              "Name: wheeloccupancy, Length: 36361, dtype: int64"
            ]
          },
          "metadata": {
            "tags": []
          },
          "execution_count": 12
        }
      ]
    },
    {
      "cell_type": "code",
      "metadata": {
        "colab": {
          "base_uri": "https://localhost:8080/"
        },
        "id": "kzT3g3wUvAu6",
        "outputId": "9906b5dc-d2ba-4581-96b9-6e7fc75403a9"
      },
      "source": [
        "training_df.shape"
      ],
      "execution_count": 13,
      "outputs": [
        {
          "output_type": "execute_result",
          "data": {
            "text/plain": [
              "(109081, 6)"
            ]
          },
          "metadata": {
            "tags": []
          },
          "execution_count": 13
        }
      ]
    },
    {
      "cell_type": "code",
      "metadata": {
        "colab": {
          "base_uri": "https://localhost:8080/"
        },
        "id": "x4od20WLvAr0",
        "outputId": "51cdaa60-d30a-4308-f2f0-ca896087e682"
      },
      "source": [
        "testing_df.shape"
      ],
      "execution_count": 14,
      "outputs": [
        {
          "output_type": "execute_result",
          "data": {
            "text/plain": [
              "(36361, 6)"
            ]
          },
          "metadata": {
            "tags": []
          },
          "execution_count": 14
        }
      ]
    },
    {
      "cell_type": "code",
      "metadata": {
        "colab": {
          "base_uri": "https://localhost:8080/",
          "height": 204
        },
        "id": "ir9Jm69KwGTg",
        "outputId": "2c0fa891-e72f-4aba-e072-3dcf78e7ef2b"
      },
      "source": [
        "training_df.sample(5)"
      ],
      "execution_count": 15,
      "outputs": [
        {
          "output_type": "execute_result",
          "data": {
            "text/html": [
              "<div>\n",
              "<style scoped>\n",
              "    .dataframe tbody tr th:only-of-type {\n",
              "        vertical-align: middle;\n",
              "    }\n",
              "\n",
              "    .dataframe tbody tr th {\n",
              "        vertical-align: top;\n",
              "    }\n",
              "\n",
              "    .dataframe thead th {\n",
              "        text-align: right;\n",
              "    }\n",
              "</style>\n",
              "<table border=\"1\" class=\"dataframe\">\n",
              "  <thead>\n",
              "    <tr style=\"text-align: right;\">\n",
              "      <th></th>\n",
              "      <th>route</th>\n",
              "      <th>times</th>\n",
              "      <th>days</th>\n",
              "      <th>wheeloccupancy</th>\n",
              "      <th>departure</th>\n",
              "      <th>destination</th>\n",
              "    </tr>\n",
              "  </thead>\n",
              "  <tbody>\n",
              "    <tr>\n",
              "      <th>56892</th>\n",
              "      <td>33E</td>\n",
              "      <td>07:00</td>\n",
              "      <td>tues</td>\n",
              "      <td>0</td>\n",
              "      <td>NaN</td>\n",
              "      <td>NaN</td>\n",
              "    </tr>\n",
              "    <tr>\n",
              "      <th>57429</th>\n",
              "      <td>4</td>\n",
              "      <td>16:00</td>\n",
              "      <td>mon</td>\n",
              "      <td>0</td>\n",
              "      <td>NaN</td>\n",
              "      <td>NaN</td>\n",
              "    </tr>\n",
              "    <tr>\n",
              "      <th>72815</th>\n",
              "      <td>11</td>\n",
              "      <td>18:00</td>\n",
              "      <td>wed</td>\n",
              "      <td>0</td>\n",
              "      <td>NaN</td>\n",
              "      <td>NaN</td>\n",
              "    </tr>\n",
              "    <tr>\n",
              "      <th>86742</th>\n",
              "      <td>29A</td>\n",
              "      <td>13:00</td>\n",
              "      <td>thurs</td>\n",
              "      <td>0</td>\n",
              "      <td>NaN</td>\n",
              "      <td>NaN</td>\n",
              "    </tr>\n",
              "    <tr>\n",
              "      <th>26944</th>\n",
              "      <td>38D</td>\n",
              "      <td>11:00</td>\n",
              "      <td>mon</td>\n",
              "      <td>0</td>\n",
              "      <td>NaN</td>\n",
              "      <td>NaN</td>\n",
              "    </tr>\n",
              "  </tbody>\n",
              "</table>\n",
              "</div>"
            ],
            "text/plain": [
              "      route  times   days  wheeloccupancy departure destination\n",
              "56892   33E  07:00   tues               0       NaN         NaN\n",
              "57429     4  16:00    mon               0       NaN         NaN\n",
              "72815    11  18:00    wed               0       NaN         NaN\n",
              "86742   29A  13:00  thurs               0       NaN         NaN\n",
              "26944   38D  11:00    mon               0       NaN         NaN"
            ]
          },
          "metadata": {
            "tags": []
          },
          "execution_count": 15
        }
      ]
    },
    {
      "cell_type": "code",
      "metadata": {
        "colab": {
          "base_uri": "https://localhost:8080/",
          "height": 204
        },
        "id": "_s09tkYqwMOW",
        "outputId": "3f1384f6-b15e-4493-b15f-a3c985bc8ef2"
      },
      "source": [
        "testing_df.sample(5)"
      ],
      "execution_count": 16,
      "outputs": [
        {
          "output_type": "execute_result",
          "data": {
            "text/html": [
              "<div>\n",
              "<style scoped>\n",
              "    .dataframe tbody tr th:only-of-type {\n",
              "        vertical-align: middle;\n",
              "    }\n",
              "\n",
              "    .dataframe tbody tr th {\n",
              "        vertical-align: top;\n",
              "    }\n",
              "\n",
              "    .dataframe thead th {\n",
              "        text-align: right;\n",
              "    }\n",
              "</style>\n",
              "<table border=\"1\" class=\"dataframe\">\n",
              "  <thead>\n",
              "    <tr style=\"text-align: right;\">\n",
              "      <th></th>\n",
              "      <th>route</th>\n",
              "      <th>times</th>\n",
              "      <th>days</th>\n",
              "      <th>wheeloccupancy</th>\n",
              "      <th>departure</th>\n",
              "      <th>destination</th>\n",
              "    </tr>\n",
              "  </thead>\n",
              "  <tbody>\n",
              "    <tr>\n",
              "      <th>15834</th>\n",
              "      <td>44B</td>\n",
              "      <td>13:00</td>\n",
              "      <td>fri</td>\n",
              "      <td>0</td>\n",
              "      <td>NaN</td>\n",
              "      <td>NaN</td>\n",
              "    </tr>\n",
              "    <tr>\n",
              "      <th>31160</th>\n",
              "      <td>150</td>\n",
              "      <td>15:00</td>\n",
              "      <td>tues</td>\n",
              "      <td>0</td>\n",
              "      <td>NaN</td>\n",
              "      <td>NaN</td>\n",
              "    </tr>\n",
              "    <tr>\n",
              "      <th>34981</th>\n",
              "      <td>66X</td>\n",
              "      <td>08:00</td>\n",
              "      <td>mon</td>\n",
              "      <td>0</td>\n",
              "      <td>NaN</td>\n",
              "      <td>NaN</td>\n",
              "    </tr>\n",
              "    <tr>\n",
              "      <th>23718</th>\n",
              "      <td>7A</td>\n",
              "      <td>13:00</td>\n",
              "      <td>tues</td>\n",
              "      <td>0</td>\n",
              "      <td>NaN</td>\n",
              "      <td>NaN</td>\n",
              "    </tr>\n",
              "    <tr>\n",
              "      <th>24655</th>\n",
              "      <td>123</td>\n",
              "      <td>14:00</td>\n",
              "      <td>fri</td>\n",
              "      <td>0</td>\n",
              "      <td>NaN</td>\n",
              "      <td>NaN</td>\n",
              "    </tr>\n",
              "  </tbody>\n",
              "</table>\n",
              "</div>"
            ],
            "text/plain": [
              "      route  times  days  wheeloccupancy departure destination\n",
              "15834   44B  13:00   fri               0       NaN         NaN\n",
              "31160   150  15:00  tues               0       NaN         NaN\n",
              "34981   66X  08:00   mon               0       NaN         NaN\n",
              "23718    7A  13:00  tues               0       NaN         NaN\n",
              "24655   123  14:00   fri               0       NaN         NaN"
            ]
          },
          "metadata": {
            "tags": []
          },
          "execution_count": 16
        }
      ]
    },
    {
      "cell_type": "code",
      "metadata": {
        "id": "g2f8pJeQwTTB"
      },
      "source": [
        "training_df.fillna('', inplace=True)"
      ],
      "execution_count": 17,
      "outputs": []
    },
    {
      "cell_type": "code",
      "metadata": {
        "id": "fNviV4ZCwV6s"
      },
      "source": [
        "testing_df.fillna('', inplace=True)"
      ],
      "execution_count": 18,
      "outputs": []
    },
    {
      "cell_type": "code",
      "metadata": {
        "colab": {
          "base_uri": "https://localhost:8080/",
          "height": 419
        },
        "id": "vSk3CGMCwao1",
        "outputId": "7fbcd2e3-e720-43ee-861f-c0c369a6df6b"
      },
      "source": [
        "training_df[training_df.wheeloccupancy==1]"
      ],
      "execution_count": 19,
      "outputs": [
        {
          "output_type": "execute_result",
          "data": {
            "text/html": [
              "<div>\n",
              "<style scoped>\n",
              "    .dataframe tbody tr th:only-of-type {\n",
              "        vertical-align: middle;\n",
              "    }\n",
              "\n",
              "    .dataframe tbody tr th {\n",
              "        vertical-align: top;\n",
              "    }\n",
              "\n",
              "    .dataframe thead th {\n",
              "        text-align: right;\n",
              "    }\n",
              "</style>\n",
              "<table border=\"1\" class=\"dataframe\">\n",
              "  <thead>\n",
              "    <tr style=\"text-align: right;\">\n",
              "      <th></th>\n",
              "      <th>route</th>\n",
              "      <th>times</th>\n",
              "      <th>days</th>\n",
              "      <th>wheeloccupancy</th>\n",
              "      <th>departure</th>\n",
              "      <th>destination</th>\n",
              "    </tr>\n",
              "  </thead>\n",
              "  <tbody>\n",
              "    <tr>\n",
              "      <th>4</th>\n",
              "      <td>1</td>\n",
              "      <td>11:00</td>\n",
              "      <td>mon</td>\n",
              "      <td>1</td>\n",
              "      <td>\"Westmoreland Street, stop 319\"</td>\n",
              "      <td>\"The Village, stop 119\"</td>\n",
              "    </tr>\n",
              "    <tr>\n",
              "      <th>6</th>\n",
              "      <td>1</td>\n",
              "      <td>13:00</td>\n",
              "      <td>mon</td>\n",
              "      <td>1</td>\n",
              "      <td>\"DCU St Patrick's, stop 21\"</td>\n",
              "      <td>\"Temple Street, stop 51\"</td>\n",
              "    </tr>\n",
              "    <tr>\n",
              "      <th>20</th>\n",
              "      <td>1</td>\n",
              "      <td>15:00</td>\n",
              "      <td>tues</td>\n",
              "      <td>1</td>\n",
              "      <td>\"Whitehall College, stop 203\"</td>\n",
              "      <td>\"Wellpark Avenue, stop 85\"</td>\n",
              "    </tr>\n",
              "    <tr>\n",
              "      <th>32</th>\n",
              "      <td>1</td>\n",
              "      <td>15:00</td>\n",
              "      <td>wed</td>\n",
              "      <td>1</td>\n",
              "      <td>\"Whitehall Church, stop 1620\"</td>\n",
              "      <td>\"Westmoreland Street, stop 319\"</td>\n",
              "    </tr>\n",
              "    <tr>\n",
              "      <th>79</th>\n",
              "      <td>11</td>\n",
              "      <td>14:00</td>\n",
              "      <td>tues</td>\n",
              "      <td>1</td>\n",
              "      <td>\"Merton Drive, stop 886\"</td>\n",
              "      <td>\"Dean Swift Road, stop 35\"</td>\n",
              "    </tr>\n",
              "    <tr>\n",
              "      <th>...</th>\n",
              "      <td>...</td>\n",
              "      <td>...</td>\n",
              "      <td>...</td>\n",
              "      <td>...</td>\n",
              "      <td>...</td>\n",
              "      <td>...</td>\n",
              "    </tr>\n",
              "    <tr>\n",
              "      <th>108904</th>\n",
              "      <td>84A</td>\n",
              "      <td>11:00</td>\n",
              "      <td>mon</td>\n",
              "      <td>1</td>\n",
              "      <td>\"St John's Church, stop 3080\"</td>\n",
              "      <td>\"Old Connaught Avenue, stop 4129\"</td>\n",
              "    </tr>\n",
              "    <tr>\n",
              "      <th>108915</th>\n",
              "      <td>84A</td>\n",
              "      <td>10:00</td>\n",
              "      <td>tues</td>\n",
              "      <td>1</td>\n",
              "      <td>\"Castle Street, stop 4130\"</td>\n",
              "      <td>\"Merrion Gates, stop 476\"</td>\n",
              "    </tr>\n",
              "    <tr>\n",
              "      <th>108939</th>\n",
              "      <td>84A</td>\n",
              "      <td>10:00</td>\n",
              "      <td>thurs</td>\n",
              "      <td>1</td>\n",
              "      <td>\"St James's Church, stop 4203\"</td>\n",
              "      <td>\"Shrewsbury Lawn, stop 3130\"</td>\n",
              "    </tr>\n",
              "    <tr>\n",
              "      <th>108964</th>\n",
              "      <td>84X</td>\n",
              "      <td>11:00</td>\n",
              "      <td>mon</td>\n",
              "      <td>1</td>\n",
              "      <td>\"St Anthony Church, stop 4268\"</td>\n",
              "      <td>\"Greystones Station, stop 4283\"</td>\n",
              "    </tr>\n",
              "    <tr>\n",
              "      <th>108974</th>\n",
              "      <td>84X</td>\n",
              "      <td>09:00</td>\n",
              "      <td>tues</td>\n",
              "      <td>1</td>\n",
              "      <td>\"Kilcoole Road, stop 4230\"</td>\n",
              "      <td>\"Science Gallery, stop 7587\"</td>\n",
              "    </tr>\n",
              "  </tbody>\n",
              "</table>\n",
              "<p>5111 rows × 6 columns</p>\n",
              "</div>"
            ],
            "text/plain": [
              "       route  ...                        destination\n",
              "4          1  ...            \"The Village, stop 119\"\n",
              "6          1  ...           \"Temple Street, stop 51\"\n",
              "20         1  ...         \"Wellpark Avenue, stop 85\"\n",
              "32         1  ...    \"Westmoreland Street, stop 319\"\n",
              "79        11  ...         \"Dean Swift Road, stop 35\"\n",
              "...      ...  ...                                ...\n",
              "108904   84A  ...  \"Old Connaught Avenue, stop 4129\"\n",
              "108915   84A  ...          \"Merrion Gates, stop 476\"\n",
              "108939   84A  ...       \"Shrewsbury Lawn, stop 3130\"\n",
              "108964   84X  ...    \"Greystones Station, stop 4283\"\n",
              "108974   84X  ...       \"Science Gallery, stop 7587\"\n",
              "\n",
              "[5111 rows x 6 columns]"
            ]
          },
          "metadata": {
            "tags": []
          },
          "execution_count": 19
        }
      ]
    },
    {
      "cell_type": "code",
      "metadata": {
        "colab": {
          "base_uri": "https://localhost:8080/",
          "height": 419
        },
        "id": "AilUxJ1FwalL",
        "outputId": "6acfb2b8-e3a3-4552-820a-478f3827b0bb"
      },
      "source": [
        "testing_df[testing_df.wheeloccupancy==1]"
      ],
      "execution_count": 20,
      "outputs": [
        {
          "output_type": "execute_result",
          "data": {
            "text/html": [
              "<div>\n",
              "<style scoped>\n",
              "    .dataframe tbody tr th:only-of-type {\n",
              "        vertical-align: middle;\n",
              "    }\n",
              "\n",
              "    .dataframe tbody tr th {\n",
              "        vertical-align: top;\n",
              "    }\n",
              "\n",
              "    .dataframe thead th {\n",
              "        text-align: right;\n",
              "    }\n",
              "</style>\n",
              "<table border=\"1\" class=\"dataframe\">\n",
              "  <thead>\n",
              "    <tr style=\"text-align: right;\">\n",
              "      <th></th>\n",
              "      <th>route</th>\n",
              "      <th>times</th>\n",
              "      <th>days</th>\n",
              "      <th>wheeloccupancy</th>\n",
              "      <th>departure</th>\n",
              "      <th>destination</th>\n",
              "    </tr>\n",
              "  </thead>\n",
              "  <tbody>\n",
              "    <tr>\n",
              "      <th>86</th>\n",
              "      <td>11</td>\n",
              "      <td>09:00</td>\n",
              "      <td>wed</td>\n",
              "      <td>1</td>\n",
              "      <td>\"Drummartin Park, stop 3024\"</td>\n",
              "      <td>\"Parnell Square West, stop 10\"</td>\n",
              "    </tr>\n",
              "    <tr>\n",
              "      <th>126</th>\n",
              "      <td>116</td>\n",
              "      <td>13:00</td>\n",
              "      <td>mon</td>\n",
              "      <td>1</td>\n",
              "      <td>\"Teresian School, stop 771\"</td>\n",
              "      <td>\"Stillorgan College, stop 2011\"</td>\n",
              "    </tr>\n",
              "    <tr>\n",
              "      <th>134</th>\n",
              "      <td>116</td>\n",
              "      <td>09:00</td>\n",
              "      <td>tues</td>\n",
              "      <td>1</td>\n",
              "      <td>\"Stillorgan Luas, stop 7057\"</td>\n",
              "      <td>\"Carmanhall Road, stop 3181\"</td>\n",
              "    </tr>\n",
              "    <tr>\n",
              "      <th>182</th>\n",
              "      <td>118</td>\n",
              "      <td>09:00</td>\n",
              "      <td>mon</td>\n",
              "      <td>1</td>\n",
              "      <td>\"St Johns Ambulance, stop 907\"</td>\n",
              "      <td>\"Donnybrook Garda Stn, stop 774\"</td>\n",
              "    </tr>\n",
              "    <tr>\n",
              "      <th>243</th>\n",
              "      <td>120</td>\n",
              "      <td>10:00</td>\n",
              "      <td>mon</td>\n",
              "      <td>1</td>\n",
              "      <td>\"Naomh Fionnbarra GAA, stop 4485\"</td>\n",
              "      <td>\"St Finbar's Road, stop 829\"</td>\n",
              "    </tr>\n",
              "    <tr>\n",
              "      <th>...</th>\n",
              "      <td>...</td>\n",
              "      <td>...</td>\n",
              "      <td>...</td>\n",
              "      <td>...</td>\n",
              "      <td>...</td>\n",
              "      <td>...</td>\n",
              "    </tr>\n",
              "    <tr>\n",
              "      <th>36268</th>\n",
              "      <td>84X</td>\n",
              "      <td>11:00</td>\n",
              "      <td>wed</td>\n",
              "      <td>1</td>\n",
              "      <td>\"Dawson Street, stop 792\"</td>\n",
              "      <td>\"Chapel Road, stop 4216\"</td>\n",
              "    </tr>\n",
              "    <tr>\n",
              "      <th>36308</th>\n",
              "      <td>9</td>\n",
              "      <td>15:00</td>\n",
              "      <td>mon</td>\n",
              "      <td>1</td>\n",
              "      <td>\"Beechfield Avenue, stop 2432\"</td>\n",
              "      <td>\"Mount Argus Church, stop 2391\"</td>\n",
              "    </tr>\n",
              "    <tr>\n",
              "      <th>36329</th>\n",
              "      <td>9</td>\n",
              "      <td>12:00</td>\n",
              "      <td>wed</td>\n",
              "      <td>1</td>\n",
              "      <td>\"Cromwellsfort Road, stop 2416\"</td>\n",
              "      <td>\"Clancy Avenue, stop 4376\"</td>\n",
              "    </tr>\n",
              "    <tr>\n",
              "      <th>36339</th>\n",
              "      <td>9</td>\n",
              "      <td>10:00</td>\n",
              "      <td>thurs</td>\n",
              "      <td>1</td>\n",
              "      <td>\"Lorcan O'Toole Park, stop 2436\"</td>\n",
              "      <td>\"Harrington Street, stop 1350\"</td>\n",
              "    </tr>\n",
              "    <tr>\n",
              "      <th>36352</th>\n",
              "      <td>9</td>\n",
              "      <td>11:00</td>\n",
              "      <td>fri</td>\n",
              "      <td>1</td>\n",
              "      <td>\"Ravensdale Park, stop 2439\"</td>\n",
              "      <td>\"Munster Street, stop 199\"</td>\n",
              "    </tr>\n",
              "  </tbody>\n",
              "</table>\n",
              "<p>1673 rows × 6 columns</p>\n",
              "</div>"
            ],
            "text/plain": [
              "      route  ...                       destination\n",
              "86       11  ...    \"Parnell Square West, stop 10\"\n",
              "126     116  ...   \"Stillorgan College, stop 2011\"\n",
              "134     116  ...      \"Carmanhall Road, stop 3181\"\n",
              "182     118  ...  \"Donnybrook Garda Stn, stop 774\"\n",
              "243     120  ...      \"St Finbar's Road, stop 829\"\n",
              "...     ...  ...                               ...\n",
              "36268   84X  ...          \"Chapel Road, stop 4216\"\n",
              "36308     9  ...   \"Mount Argus Church, stop 2391\"\n",
              "36329     9  ...        \"Clancy Avenue, stop 4376\"\n",
              "36339     9  ...    \"Harrington Street, stop 1350\"\n",
              "36352     9  ...        \"Munster Street, stop 199\"\n",
              "\n",
              "[1673 rows x 6 columns]"
            ]
          },
          "metadata": {
            "tags": []
          },
          "execution_count": 20
        }
      ]
    },
    {
      "cell_type": "code",
      "metadata": {
        "id": "PEI0FR2Jwahy"
      },
      "source": [
        "training_df.drop(\"departure\", axis=\"columns\", inplace=True)"
      ],
      "execution_count": 21,
      "outputs": []
    },
    {
      "cell_type": "code",
      "metadata": {
        "id": "B_uvxScuwaeZ"
      },
      "source": [
        "training_df.drop(\"destination\", axis=\"columns\", inplace=True)"
      ],
      "execution_count": 22,
      "outputs": []
    },
    {
      "cell_type": "code",
      "metadata": {
        "id": "dZn5p7Nqwabo"
      },
      "source": [
        "testing_df.drop(\"destination\", axis=\"columns\", inplace=True)"
      ],
      "execution_count": 23,
      "outputs": []
    },
    {
      "cell_type": "code",
      "metadata": {
        "id": "ni507e0Iwvb-"
      },
      "source": [
        "testing_df.drop(\"departure\", axis=\"columns\", inplace=True)"
      ],
      "execution_count": 24,
      "outputs": []
    },
    {
      "cell_type": "code",
      "metadata": {
        "colab": {
          "base_uri": "https://localhost:8080/"
        },
        "id": "jzPY6SFMwvX7",
        "outputId": "f14576aa-dd3a-4cc7-c874-c592fd5431c7"
      },
      "source": [
        "testing_df.dtypes"
      ],
      "execution_count": 25,
      "outputs": [
        {
          "output_type": "execute_result",
          "data": {
            "text/plain": [
              "route             object\n",
              "times             object\n",
              "days              object\n",
              "wheeloccupancy     int64\n",
              "dtype: object"
            ]
          },
          "metadata": {
            "tags": []
          },
          "execution_count": 25
        }
      ]
    },
    {
      "cell_type": "code",
      "metadata": {
        "colab": {
          "base_uri": "https://localhost:8080/"
        },
        "id": "QgWgX0DXwvVA",
        "outputId": "4f421746-6346-49c4-a5da-2397277766b0"
      },
      "source": [
        "training_df.dtypes"
      ],
      "execution_count": 26,
      "outputs": [
        {
          "output_type": "execute_result",
          "data": {
            "text/plain": [
              "route             object\n",
              "times             object\n",
              "days              object\n",
              "wheeloccupancy     int64\n",
              "dtype: object"
            ]
          },
          "metadata": {
            "tags": []
          },
          "execution_count": 26
        }
      ]
    },
    {
      "cell_type": "code",
      "metadata": {
        "colab": {
          "base_uri": "https://localhost:8080/",
          "height": 204
        },
        "id": "oxQUUe5gwvRt",
        "outputId": "9730d6cb-10bc-4ff9-a815-b325b7e1f3dd"
      },
      "source": [
        "training_df.head()"
      ],
      "execution_count": 27,
      "outputs": [
        {
          "output_type": "execute_result",
          "data": {
            "text/html": [
              "<div>\n",
              "<style scoped>\n",
              "    .dataframe tbody tr th:only-of-type {\n",
              "        vertical-align: middle;\n",
              "    }\n",
              "\n",
              "    .dataframe tbody tr th {\n",
              "        vertical-align: top;\n",
              "    }\n",
              "\n",
              "    .dataframe thead th {\n",
              "        text-align: right;\n",
              "    }\n",
              "</style>\n",
              "<table border=\"1\" class=\"dataframe\">\n",
              "  <thead>\n",
              "    <tr style=\"text-align: right;\">\n",
              "      <th></th>\n",
              "      <th>route</th>\n",
              "      <th>times</th>\n",
              "      <th>days</th>\n",
              "      <th>wheeloccupancy</th>\n",
              "    </tr>\n",
              "  </thead>\n",
              "  <tbody>\n",
              "    <tr>\n",
              "      <th>0</th>\n",
              "      <td>1</td>\n",
              "      <td>07:00</td>\n",
              "      <td>mon</td>\n",
              "      <td>0</td>\n",
              "    </tr>\n",
              "    <tr>\n",
              "      <th>1</th>\n",
              "      <td>1</td>\n",
              "      <td>08:00</td>\n",
              "      <td>mon</td>\n",
              "      <td>0</td>\n",
              "    </tr>\n",
              "    <tr>\n",
              "      <th>2</th>\n",
              "      <td>1</td>\n",
              "      <td>09:00</td>\n",
              "      <td>mon</td>\n",
              "      <td>0</td>\n",
              "    </tr>\n",
              "    <tr>\n",
              "      <th>3</th>\n",
              "      <td>1</td>\n",
              "      <td>10:00</td>\n",
              "      <td>mon</td>\n",
              "      <td>0</td>\n",
              "    </tr>\n",
              "    <tr>\n",
              "      <th>4</th>\n",
              "      <td>1</td>\n",
              "      <td>11:00</td>\n",
              "      <td>mon</td>\n",
              "      <td>1</td>\n",
              "    </tr>\n",
              "  </tbody>\n",
              "</table>\n",
              "</div>"
            ],
            "text/plain": [
              "  route  times days  wheeloccupancy\n",
              "0     1  07:00  mon               0\n",
              "1     1  08:00  mon               0\n",
              "2     1  09:00  mon               0\n",
              "3     1  10:00  mon               0\n",
              "4     1  11:00  mon               1"
            ]
          },
          "metadata": {
            "tags": []
          },
          "execution_count": 27
        }
      ]
    },
    {
      "cell_type": "code",
      "metadata": {
        "colab": {
          "base_uri": "https://localhost:8080/",
          "height": 204
        },
        "id": "zsuhrFUmxBfq",
        "outputId": "59b06312-d9d6-40af-8b23-f127b8bafd5b"
      },
      "source": [
        "testing_df.head()"
      ],
      "execution_count": 28,
      "outputs": [
        {
          "output_type": "execute_result",
          "data": {
            "text/html": [
              "<div>\n",
              "<style scoped>\n",
              "    .dataframe tbody tr th:only-of-type {\n",
              "        vertical-align: middle;\n",
              "    }\n",
              "\n",
              "    .dataframe tbody tr th {\n",
              "        vertical-align: top;\n",
              "    }\n",
              "\n",
              "    .dataframe thead th {\n",
              "        text-align: right;\n",
              "    }\n",
              "</style>\n",
              "<table border=\"1\" class=\"dataframe\">\n",
              "  <thead>\n",
              "    <tr style=\"text-align: right;\">\n",
              "      <th></th>\n",
              "      <th>route</th>\n",
              "      <th>times</th>\n",
              "      <th>days</th>\n",
              "      <th>wheeloccupancy</th>\n",
              "    </tr>\n",
              "  </thead>\n",
              "  <tbody>\n",
              "    <tr>\n",
              "      <th>0</th>\n",
              "      <td>1</td>\n",
              "      <td>07:00</td>\n",
              "      <td>mon</td>\n",
              "      <td>0</td>\n",
              "    </tr>\n",
              "    <tr>\n",
              "      <th>1</th>\n",
              "      <td>1</td>\n",
              "      <td>08:00</td>\n",
              "      <td>mon</td>\n",
              "      <td>0</td>\n",
              "    </tr>\n",
              "    <tr>\n",
              "      <th>2</th>\n",
              "      <td>1</td>\n",
              "      <td>09:00</td>\n",
              "      <td>mon</td>\n",
              "      <td>0</td>\n",
              "    </tr>\n",
              "    <tr>\n",
              "      <th>3</th>\n",
              "      <td>1</td>\n",
              "      <td>10:00</td>\n",
              "      <td>mon</td>\n",
              "      <td>0</td>\n",
              "    </tr>\n",
              "    <tr>\n",
              "      <th>4</th>\n",
              "      <td>1</td>\n",
              "      <td>11:00</td>\n",
              "      <td>mon</td>\n",
              "      <td>0</td>\n",
              "    </tr>\n",
              "  </tbody>\n",
              "</table>\n",
              "</div>"
            ],
            "text/plain": [
              "  route  times days  wheeloccupancy\n",
              "0     1  07:00  mon               0\n",
              "1     1  08:00  mon               0\n",
              "2     1  09:00  mon               0\n",
              "3     1  10:00  mon               0\n",
              "4     1  11:00  mon               0"
            ]
          },
          "metadata": {
            "tags": []
          },
          "execution_count": 28
        }
      ]
    },
    {
      "cell_type": "code",
      "metadata": {
        "id": "2jC47gsJxBih"
      },
      "source": [
        "\n",
        "X_train_route_all = training_df.drop(\"wheeloccupancy\", axis=\"columns\")\n",
        "y_train_route_all = training_df[\"wheeloccupancy\"]"
      ],
      "execution_count": 29,
      "outputs": []
    },
    {
      "cell_type": "code",
      "metadata": {
        "id": "EtoAE0FjxBlJ"
      },
      "source": [
        "X_test_route_all = testing_df.drop(\"wheeloccupancy\", axis=\"columns\")\n",
        "y_test_route_all = testing_df[\"wheeloccupancy\"]"
      ],
      "execution_count": 30,
      "outputs": []
    },
    {
      "cell_type": "code",
      "metadata": {
        "colab": {
          "base_uri": "https://localhost:8080/"
        },
        "id": "8Wi_UQmhxBol",
        "outputId": "83225808-f038-49a8-9023-76037f5a3630"
      },
      "source": [
        "import numpy\n",
        "unique, counts = numpy.unique(y_train_route_all, return_counts=True)\n",
        "dict(zip(unique, counts))"
      ],
      "execution_count": 31,
      "outputs": [
        {
          "output_type": "execute_result",
          "data": {
            "text/plain": [
              "{0: 103970, 1: 5111}"
            ]
          },
          "metadata": {
            "tags": []
          },
          "execution_count": 31
        }
      ]
    },
    {
      "cell_type": "code",
      "metadata": {
        "id": "rXhLQEckxBry"
      },
      "source": [
        "from sklearn.preprocessing import OneHotEncoder\n",
        "ohe_all=OneHotEncoder(handle_unknown='ignore')\n",
        "X_train_hot_route_all=ohe_all.fit_transform(X_train_route_all)\n",
        "X_test_hot_route_all=ohe_all.transform(X_test_route_all)\n",
        "#test=ohe.transform(test)"
      ],
      "execution_count": 32,
      "outputs": []
    },
    {
      "cell_type": "code",
      "metadata": {
        "colab": {
          "base_uri": "https://localhost:8080/"
        },
        "id": "MCiaC2BTwvOv",
        "outputId": "d8bdee49-877f-4cd1-ef7c-2ba95309b67f"
      },
      "source": [
        "from imblearn.over_sampling import SMOTE\n",
        "\n",
        "smote = SMOTE(sampling_strategy=\"minority\")\n",
        "X_sm_all, y_sm_all = smote.fit_sample(X_train_hot_route_all,y_train_route_all)"
      ],
      "execution_count": 33,
      "outputs": [
        {
          "output_type": "stream",
          "text": [
            "/usr/local/lib/python3.7/dist-packages/sklearn/externals/six.py:31: FutureWarning: The module is deprecated in version 0.21 and will be removed in version 0.23 since we've dropped support for Python 2.7. Please rely on the official version of six (https://pypi.org/project/six/).\n",
            "  \"(https://pypi.org/project/six/).\", FutureWarning)\n",
            "/usr/local/lib/python3.7/dist-packages/sklearn/utils/deprecation.py:144: FutureWarning: The sklearn.neighbors.base module is  deprecated in version 0.22 and will be removed in version 0.24. The corresponding classes / functions should instead be imported from sklearn.neighbors. Anything that cannot be imported from sklearn.neighbors is now part of the private API.\n",
            "  warnings.warn(message, FutureWarning)\n",
            "/usr/local/lib/python3.7/dist-packages/sklearn/utils/deprecation.py:87: FutureWarning: Function safe_indexing is deprecated; safe_indexing is deprecated in version 0.22 and will be removed in version 0.24.\n",
            "  warnings.warn(msg, category=FutureWarning)\n"
          ],
          "name": "stderr"
        }
      ]
    },
    {
      "cell_type": "code",
      "metadata": {
        "colab": {
          "base_uri": "https://localhost:8080/"
        },
        "id": "WRhv3jEbwvLr",
        "outputId": "875adc2d-e15a-43cc-b841-e4280201d0ae"
      },
      "source": [
        "import numpy\n",
        "unique, counts = numpy.unique(y_sm_all, return_counts=True)\n",
        "dict(zip(unique, counts))"
      ],
      "execution_count": 34,
      "outputs": [
        {
          "output_type": "execute_result",
          "data": {
            "text/plain": [
              "{0: 103970, 1: 103970}"
            ]
          },
          "metadata": {
            "tags": []
          },
          "execution_count": 34
        }
      ]
    },
    {
      "cell_type": "code",
      "metadata": {
        "colab": {
          "base_uri": "https://localhost:8080/"
        },
        "id": "xrX6AiI_wvIo",
        "outputId": "ee63515c-2b91-476b-d432-79eff578b2de"
      },
      "source": [
        "from sklearn.ensemble import RandomForestClassifier\n",
        "\n",
        "clf = RandomForestClassifier(max_depth=3, random_state=0)\n",
        "#clf.fit(trainingdata_encode_shuffle, train_label_shuffle)\n",
        "#print(clf.predict([[0, 0, 0, 0]]))\n",
        "#my second version\n",
        "#clf.fit(trainingdata_encode, train_label)\n",
        "\n",
        "#bus_df_encode variables\n",
        "clf.fit(X_sm_all, y_sm_all)"
      ],
      "execution_count": 35,
      "outputs": [
        {
          "output_type": "execute_result",
          "data": {
            "text/plain": [
              "RandomForestClassifier(bootstrap=True, ccp_alpha=0.0, class_weight=None,\n",
              "                       criterion='gini', max_depth=3, max_features='auto',\n",
              "                       max_leaf_nodes=None, max_samples=None,\n",
              "                       min_impurity_decrease=0.0, min_impurity_split=None,\n",
              "                       min_samples_leaf=1, min_samples_split=2,\n",
              "                       min_weight_fraction_leaf=0.0, n_estimators=100,\n",
              "                       n_jobs=None, oob_score=False, random_state=0, verbose=0,\n",
              "                       warm_start=False)"
            ]
          },
          "metadata": {
            "tags": []
          },
          "execution_count": 35
        }
      ]
    },
    {
      "cell_type": "code",
      "metadata": {
        "id": "EOeGZAw8wvFy"
      },
      "source": [
        "# this is the right step\n",
        "pred_rou_all = clf.predict(X_test_hot_route_all)"
      ],
      "execution_count": 36,
      "outputs": []
    },
    {
      "cell_type": "code",
      "metadata": {
        "colab": {
          "base_uri": "https://localhost:8080/"
        },
        "id": "oOdQPWXIyLHr",
        "outputId": "cf1d3126-b220-48a3-f092-ab907c69e527"
      },
      "source": [
        "pred_rou_all[:10]"
      ],
      "execution_count": 37,
      "outputs": [
        {
          "output_type": "execute_result",
          "data": {
            "text/plain": [
              "array([0, 0, 1, 1, 1, 1, 1, 1, 1, 0])"
            ]
          },
          "metadata": {
            "tags": []
          },
          "execution_count": 37
        }
      ]
    },
    {
      "cell_type": "code",
      "metadata": {
        "colab": {
          "base_uri": "https://localhost:8080/"
        },
        "id": "vCrX6hLzyLcE",
        "outputId": "a80fc8ce-b278-4a6f-cda8-e4312101db0d"
      },
      "source": [
        "y_test_route_all[:10]"
      ],
      "execution_count": 38,
      "outputs": [
        {
          "output_type": "execute_result",
          "data": {
            "text/plain": [
              "0    0\n",
              "1    0\n",
              "2    0\n",
              "3    0\n",
              "4    0\n",
              "5    0\n",
              "6    0\n",
              "7    0\n",
              "8    0\n",
              "9    0\n",
              "Name: wheeloccupancy, dtype: int64"
            ]
          },
          "metadata": {
            "tags": []
          },
          "execution_count": 38
        }
      ]
    },
    {
      "cell_type": "code",
      "metadata": {
        "colab": {
          "base_uri": "https://localhost:8080/"
        },
        "id": "nCwEjsfbyY-8",
        "outputId": "cd9ebbd8-cd48-47d2-86d4-79ace1b55cf8"
      },
      "source": [
        "#this is the right step for the classification report\n",
        "from sklearn.metrics import  confusion_matrix, classification_report\n",
        "\n",
        "print(classification_report (y_test_route_all, pred_rou_all) )"
      ],
      "execution_count": 39,
      "outputs": [
        {
          "output_type": "stream",
          "text": [
            "              precision    recall  f1-score   support\n",
            "\n",
            "           0       0.98      0.45      0.62     34688\n",
            "           1       0.07      0.86      0.13      1673\n",
            "\n",
            "    accuracy                           0.47     36361\n",
            "   macro avg       0.53      0.65      0.37     36361\n",
            "weighted avg       0.94      0.47      0.60     36361\n",
            "\n"
          ],
          "name": "stdout"
        }
      ]
    }
  ]
}